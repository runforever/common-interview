{
 "nbformat": 4,
 "nbformat_minor": 2,
 "metadata": {
  "language_info": {
   "name": "python",
   "codemirror_mode": {
    "name": "ipython",
    "version": 3
   },
   "version": "3.7.5-final"
  },
  "orig_nbformat": 2,
  "file_extension": ".py",
  "mimetype": "text/x-python",
  "name": "python",
  "npconvert_exporter": "python",
  "pygments_lexer": "ipython3",
  "version": 3,
  "kernelspec": {
   "name": "python37564bitmoonpipenv2959f348a3ad4d11ac1f8d90e494e5e9",
   "display_name": "Python 3.7.5 64-bit ('moon': pipenv)"
  }
 },
 "cells": [
  {
   "cell_type": "markdown",
   "metadata": {},
   "source": [
    "## 使用 __new__ 方法实现单例模式"
   ]
  },
  {
   "cell_type": "code",
   "execution_count": 30,
   "metadata": {},
   "outputs": [
    {
     "name": "stdout",
     "output_type": "stream",
     "text": "1\n2 <__main__.Pool object at 0x10dfa0990> <__main__.Pool object at 0x10dfa0990>\n"
    }
   ],
   "source": [
    "class Singleton:\n",
    "\n",
    "    def __new__(cls, *args, **kwargs):\n",
    "        if not hasattr(cls, '_instance'):\n",
    "            orig = super(Singleton, cls)\n",
    "            cls._instance = orig.__new__(cls)\n",
    "        return cls._instance\n",
    "\n",
    "\n",
    "class Pool(Singleton):\n",
    "\n",
    "    def __init__(self, a, *args, **kwargs):\n",
    "        self.a = a\n",
    "\n",
    "\n",
    "foo = Pool(1)\n",
    "print(foo.a)\n",
    "bar = Pool(2)\n",
    "print(foo.a, foo, bar)\n",
    "\n"
   ]
  },
  {
   "cell_type": "markdown",
   "metadata": {},
   "source": [
    "## 使用共享属性 `__dict__`"
   ]
  },
  {
   "cell_type": "code",
   "execution_count": 13,
   "metadata": {},
   "outputs": [
    {
     "name": "stdout",
     "output_type": "stream",
     "text": "1\n2\n"
    }
   ],
   "source": [
    "class Singleton:\n",
    "    _state = {}\n",
    "\n",
    "    def __new__(cls, *args, **kwargs):\n",
    "        obj = super(Singleton, cls).__new__(cls)\n",
    "        obj.__dict__ = cls._state\n",
    "        return obj\n",
    "\n",
    "\n",
    "class Pool(Singleton):\n",
    "\n",
    "    def __init__(self, a, *args, **kwargs):\n",
    "        self.a = a\n",
    "\n",
    "\n",
    "foo = Pool(1)\n",
    "print(foo.a)\n",
    "bar = Pool(2)\n",
    "print(foo.a)\n"
   ]
  },
  {
   "cell_type": "markdown",
   "metadata": {},
   "source": [
    "## 装饰器实现单例类"
   ]
  },
  {
   "cell_type": "code",
   "execution_count": 24,
   "metadata": {},
   "outputs": [
    {
     "name": "stdout",
     "output_type": "stream",
     "text": "1\n1 4559791248 4559791248\n"
    }
   ],
   "source": [
    "def singleton(cls):\n",
    "    instances = {}\n",
    "    def get_instance(*args, **kwargs):\n",
    "        if cls not in instances:\n",
    "            instances[cls] = cls(*args, **kwargs)\n",
    "        return instances[cls]\n",
    "    return get_instance\n",
    "\n",
    "\n",
    "@singleton\n",
    "class Pool:\n",
    "\n",
    "    def __init__(self, a, *args, **kwargs):\n",
    "        self.a = a\n",
    "\n",
    "\n",
    "foo = Pool(1)\n",
    "print(foo.a)\n",
    "bar = Pool(2)\n",
    "print(foo.a, id(foo), id(bar))\n",
    "\n",
    "## 使用装饰器有个限制，再次初始化无法改变对象属性，不过作为单例类一般不需要这个特性"
   ]
  },
  {
   "cell_type": "markdown",
   "metadata": {},
   "source": [
    "## 使用`__metaclass__`"
   ]
  },
  {
   "cell_type": "code",
   "execution_count": 38,
   "metadata": {},
   "outputs": [
    {
     "name": "stdout",
     "output_type": "stream",
     "text": "1\n1 4532728720 4532728720\n"
    }
   ],
   "source": [
    "class Singleton(type):\n",
    "    _inst = {}\n",
    "    \n",
    "    def __call__(cls, *args, **kwargs):\n",
    "        if cls not in cls._inst:\n",
    "            cls._inst[cls] = super(Singleton, cls).__call__(*args, **kwargs)\n",
    "        return cls._inst[cls]\n",
    "\n",
    "\n",
    "class Pool(metaclass=Singleton):\n",
    "\n",
    "    def __init__(self, a):\n",
    "        self.a = a\n",
    "\n",
    "\n",
    "foo = Pool(1)\n",
    "print(foo.a)\n",
    "bar = Pool(2)\n",
    "print(foo.a, id(foo), id(bar))"
   ]
  },
  {
   "cell_type": "markdown",
   "metadata": {},
   "source": [
    "以上实现装饰器的方法均不是线程安全的，线程安全的方法需要在初始化之前加锁。"
   ]
  },
  {
   "cell_type": "code",
   "execution_count": null,
   "metadata": {},
   "outputs": [],
   "source": []
  }
 ]
}