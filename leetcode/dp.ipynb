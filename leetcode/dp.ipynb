{
 "cells": [
  {
   "cell_type": "code",
   "execution_count": 4,
   "metadata": {},
   "outputs": [],
   "source": [
    "class Solution(object):\n",
    "    \n",
    "    def climbStairs(self, n):\n",
    "        \"\"\"\n",
    "        :type n: int\n",
    "        :rtype: int\n",
    "        \"\"\"\n",
    "        a, b = 1, 2\n",
    "        \n",
    "        if n == 1:\n",
    "            return a\n",
    "        if n == 2:\n",
    "            return b\n",
    "        for i in range(2, n):\n",
    "            a, b = b, a + b\n",
    "        return b"
   ]
  },
  {
   "cell_type": "code",
   "execution_count": 7,
   "metadata": {},
   "outputs": [
    {
     "name": "stdout",
     "output_type": "stream",
     "text": [
      "8\n"
     ]
    }
   ],
   "source": [
    "print(Solution().climbStairs(5))"
   ]
  },
  {
   "cell_type": "code",
   "execution_count": 26,
   "metadata": {},
   "outputs": [],
   "source": [
    "class Solution(object):\n",
    "    def maxSubArray(self, nums):\n",
    "        \"\"\"\n",
    "        :type nums: List[int]\n",
    "        :rtype: int\n",
    "        \"\"\"\n",
    "        \n",
    "        if not nums:\n",
    "            return 0\n",
    "        \n",
    "        result = nums[0]\n",
    "        temp = nums[0]\n",
    "        for i in nums[1:]:\n",
    "            temp = max(temp+i, i)\n",
    "            result = max(result, temp)\n",
    "        return result"
   ]
  },
  {
   "cell_type": "code",
   "execution_count": 27,
   "metadata": {},
   "outputs": [
    {
     "name": "stdout",
     "output_type": "stream",
     "text": [
      "6\n"
     ]
    }
   ],
   "source": [
    "print(Solution().maxSubArray([-2,1,-3,4,-1,2,1,-5,4]))"
   ]
  },
  {
   "cell_type": "code",
   "execution_count": 14,
   "metadata": {},
   "outputs": [
    {
     "data": {
      "text/plain": [
       "2"
      ]
     },
     "execution_count": 14,
     "metadata": {},
     "output_type": "execute_result"
    }
   ],
   "source": [
    "max(1, 2)"
   ]
  },
  {
   "cell_type": "code",
   "execution_count": 28,
   "metadata": {},
   "outputs": [
    {
     "data": {
      "text/plain": [
       "[0, 0, 0, 0, 0]"
      ]
     },
     "execution_count": 28,
     "metadata": {},
     "output_type": "execute_result"
    }
   ],
   "source": [
    "[0] * 5"
   ]
  },
  {
   "cell_type": "code",
   "execution_count": 71,
   "metadata": {},
   "outputs": [],
   "source": [
    "class Solution(object):\n",
    "    \n",
    "    def rob(self, nums):\n",
    "        \"\"\"\n",
    "        :type nums: List[int]\n",
    "        :rtype: int\n",
    "        \"\"\"\n",
    "        if not nums:\n",
    "            return 0\n",
    "        \n",
    "        length = len(nums)\n",
    "        \n",
    "        dp = [0] * length\n",
    "        dp[0] = nums[0]\n",
    "        \n",
    "        for idx, i in enumerate(nums[1:]):\n",
    "            dp[idx + 1] = max(dp[idx - 1] + i, dp[idx])\n",
    "        return dp[length-1]\n",
    "        "
   ]
  },
  {
   "cell_type": "code",
   "execution_count": 72,
   "metadata": {},
   "outputs": [
    {
     "name": "stdout",
     "output_type": "stream",
     "text": [
      "4\n",
      "12\n"
     ]
    }
   ],
   "source": [
    "print(Solution().rob([1, 2, 3, 1]))\n",
    "print(Solution().rob([2,7,9,3,1]))"
   ]
  },
  {
   "cell_type": "code",
   "execution_count": 37,
   "metadata": {},
   "outputs": [
    {
     "data": {
      "text/plain": [
       "4"
      ]
     },
     "execution_count": 37,
     "metadata": {},
     "output_type": "execute_result"
    }
   ],
   "source": [
    "max([1, 2, 4, 3])"
   ]
  },
  {
   "cell_type": "code",
   "execution_count": 11,
   "metadata": {},
   "outputs": [
    {
     "name": "stdout",
     "output_type": "stream",
     "text": [
      "[[1, 0, 0, 0], [0, 1, 1, 0], [0, 0, 1, 0], [0, 0, 0, 1]]\n",
      "bb\n"
     ]
    }
   ],
   "source": [
    "foo = 'cbbd'\n",
    "length = len(foo)\n",
    "\n",
    "dp = [[0] * length for i in range(length)]\n",
    "\n",
    "\n",
    "for i in range(length):\n",
    "    for j in range(i, length):\n",
    "        if (foo[i] == foo[j]):\n",
    "            if (i == j):\n",
    "                dp[i][j] = 1\n",
    "            elif (i + 1 == j):\n",
    "                dp[i][j] = 1\n",
    "            elif (dp[i + 1] == dp[j - 1]):\n",
    "                dp[i][j] = 1\n",
    "            else:\n",
    "                continue\n",
    "\n",
    "print(dp)\n",
    "\n",
    "max_length = 0                \n",
    "\n",
    "for i in range(length):\n",
    "    for j in range(i, length):\n",
    "        if dp[i][j]:\n",
    "            sub_length = j - i\n",
    "            if sub_length > max_length:\n",
    "                max_length = sub_length\n",
    "                start_idx, end_idx = i, j\n",
    "                \n",
    "print(foo[start_idx:end_idx+1])"
   ]
  },
  {
   "cell_type": "code",
   "execution_count": 45,
   "metadata": {},
   "outputs": [],
   "source": [
    "class Solution(object):\n",
    "    def longestPalindrome(self, s):\n",
    "        \"\"\"\n",
    "        :type s: str\n",
    "        :rtype: str\n",
    "        \"\"\"\n",
    "        length = len(s)\n",
    "\n",
    "        dp = [[0] * length for i in range(length)]\n",
    "\n",
    "        max_length = start_idx = end_idx = 0\n",
    "        \n",
    "        for sub_len in range(length):\n",
    "            for idx in range(length):\n",
    "                if (s[idx] == s[sub_len]):\n",
    "                    if idx == sub_len:\n",
    "                        dp[idx][sub_len] = 1\n",
    "                    if idx + 1 == sub_len:\n",
    "                        dp[idx][sub_len] = 1\n",
    "\n",
    "                    if (sub_len - 1 >= 0 and idx + 1 < length and dp[idx+1][sub_len-1]):\n",
    "                        dp[idx][sub_len] = 1\n",
    "                    \n",
    "                    if dp[idx][sub_len]:\n",
    "                        if sub_len - idx > max_length:\n",
    "                            max_length = sub_len - idx\n",
    "                            start_idx, end_idx = idx, sub_len\n",
    "\n",
    "        return s[start_idx:end_idx + 1]"
   ]
  },
  {
   "cell_type": "code",
   "execution_count": 46,
   "metadata": {},
   "outputs": [
    {
     "name": "stdout",
     "output_type": "stream",
     "text": [
      "[[1, 1, 1, 0, 0, 0, 1, 0], [0, 1, 1, 0, 0, 1, 0, 0], [0, 0, 1, 0, 1, 0, 0, 0], [0, 0, 0, 1, 0, 0, 0, 0], [0, 0, 0, 0, 1, 1, 1, 1], [0, 0, 0, 0, 0, 1, 1, 1], [0, 0, 0, 0, 0, 0, 1, 1], [0, 0, 0, 0, 0, 0, 0, 1]]\n",
      "aaabaaa\n",
      "[[1, 0, 1, 0, 0], [0, 1, 0, 1, 0], [0, 0, 1, 0, 0], [0, 0, 0, 1, 0], [0, 0, 0, 0, 1]]\n",
      "bab\n",
      "[[1, 0, 0, 0], [0, 1, 1, 0], [0, 0, 1, 0], [0, 0, 0, 1]]\n",
      "bb\n"
     ]
    }
   ],
   "source": [
    "print(Solution().longestPalindrome('aaabaaaa'))\n",
    "print(Solution().longestPalindrome('babad'))\n",
    "print(Solution().longestPalindrome('cbbd'))\n"
   ]
  },
  {
   "cell_type": "code",
   "execution_count": null,
   "metadata": {},
   "outputs": [],
   "source": []
  }
 ],
 "metadata": {
  "kernelspec": {
   "display_name": "Python 3",
   "language": "python",
   "name": "python3"
  },
  "language_info": {
   "codemirror_mode": {
    "name": "ipython",
    "version": 3
   },
   "file_extension": ".py",
   "mimetype": "text/x-python",
   "name": "python",
   "nbconvert_exporter": "python",
   "pygments_lexer": "ipython3",
   "version": "3.7.5"
  }
 },
 "nbformat": 4,
 "nbformat_minor": 2
}
