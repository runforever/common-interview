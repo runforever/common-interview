{
 "cells": [
  {
   "cell_type": "code",
   "execution_count": 11,
   "metadata": {},
   "outputs": [],
   "source": [
    "def two_sum(lst, target):\n",
    "    for first_index, first_num in enumerate(lst):\n",
    "        start_index = first_index + 1\n",
    "        for second_index, second_num in enumerate(lst[start_index:]):\n",
    "            if first_num + second_num == target:\n",
    "                return [first_index, start_index + second_index]\n"
   ]
  },
  {
   "cell_type": "code",
   "execution_count": 13,
   "metadata": {},
   "outputs": [
    {
     "data": {
      "text/plain": [
       "[0, 3]"
      ]
     },
     "execution_count": 13,
     "metadata": {},
     "output_type": "execute_result"
    }
   ],
   "source": [
    "two_sum([2, 11, 15, 7], 9)"
   ]
  },
  {
   "cell_type": "code",
   "execution_count": 16,
   "metadata": {},
   "outputs": [
    {
     "name": "stdout",
     "output_type": "stream",
     "text": [
      "-2147483648\n",
      "2147483647\n"
     ]
    }
   ],
   "source": [
    "print(-2**31)\n",
    "print(2**31 -1)"
   ]
  },
  {
   "cell_type": "code",
   "execution_count": 24,
   "metadata": {},
   "outputs": [
    {
     "name": "stdout",
     "output_type": "stream",
     "text": [
      "4321\n"
     ]
    }
   ],
   "source": [
    "a = \"12340\"\n",
    "reverse_a = int(''.join(reversed([char for char in a])))\n",
    "print(reverse_a)"
   ]
  },
  {
   "cell_type": "code",
   "execution_count": 31,
   "metadata": {},
   "outputs": [],
   "source": [
    "class Solution(object):\n",
    "    def reverse(self, x):\n",
    "        \"\"\"\n",
    "        :type x: int\n",
    "        :rtype: int\n",
    "        \"\"\"\n",
    "        max_num, min_num = 2**31 - 1, -2**31\n",
    "        is_positive = False if x < 0 else True\n",
    "        reverse_x = int(''.join(reversed([char for char in str(abs(x))])))\n",
    "        if not is_positive:\n",
    "            reverse_x = -reverse_x\n",
    "        if reverse_x < min_num or reverse_x > max_num:\n",
    "            return 0\n",
    "        return reverse_x\n",
    "        \n",
    "            \n",
    "        "
   ]
  },
  {
   "cell_type": "code",
   "execution_count": 33,
   "metadata": {},
   "outputs": [
    {
     "data": {
      "text/plain": [
       "21"
      ]
     },
     "execution_count": 33,
     "metadata": {},
     "output_type": "execute_result"
    }
   ],
   "source": [
    "Solution().reverse(120)"
   ]
  },
  {
   "cell_type": "code",
   "execution_count": 77,
   "metadata": {},
   "outputs": [
    {
     "name": "stdout",
     "output_type": "stream",
     "text": [
      "43261596\n",
      "0b10100101000001111010011100\n",
      "00000000000000000000000000000010\n"
     ]
    }
   ],
   "source": [
    "print(int('00000010100101000001111010011100', 2))\n",
    "print(bin(43261596))\n",
    "# print(format(43261596, ':032b'))\n",
    "print(\"{:032b}\".format(2))"
   ]
  },
  {
   "cell_type": "code",
   "execution_count": 78,
   "metadata": {},
   "outputs": [],
   "source": [
    "class Solution:\n",
    "    # @param n, an integer\n",
    "    # @return an integer\n",
    "    def reverseBits(self, n):\n",
    "        reverse_n = ''.join(reversed([char for char in \"{:032b}\".format(n)]))\n",
    "        return reverse_n"
   ]
  },
  {
   "cell_type": "code",
   "execution_count": 76,
   "metadata": {},
   "outputs": [
    {
     "data": {
      "text/plain": [
       "'00111001011110000010100101000000'"
      ]
     },
     "execution_count": 76,
     "metadata": {},
     "output_type": "execute_result"
    }
   ],
   "source": [
    "Solution().reverseBits(43261596)"
   ]
  },
  {
   "cell_type": "code",
   "execution_count": 15,
   "metadata": {},
   "outputs": [
    {
     "name": "stdout",
     "output_type": "stream",
     "text": [
      "1\n",
      "2\n",
      "3\n",
      "4\n",
      "5\n",
      "5\n",
      "4\n",
      "3\n",
      "2\n",
      "1\n",
      "1\n",
      "2\n",
      "3\n",
      "4\n",
      "5\n"
     ]
    }
   ],
   "source": [
    "# Definition for singly-linked list.\n",
    "class ListNode(object):\n",
    "    def __init__(self, x):\n",
    "        self.val = x\n",
    "        self.next = None\n",
    "    \n",
    "    def __str__(self):\n",
    "        return '%s' % self.val\n",
    "\n",
    "class Solution(object):\n",
    "    def reverseList(self, head):\n",
    "        \"\"\"\n",
    "        :type head: ListNode\n",
    "        :rtype: ListNode\n",
    "        \"\"\"\n",
    "        if head is None:\n",
    "            return \n",
    "        pre_node = None\n",
    "        current_node = head\n",
    "        \n",
    "        while current_node:\n",
    "            tmp_next = current_node.next\n",
    "            current_node.next = pre_node\n",
    "            pre_node = current_node\n",
    "            current_node = tmp_next\n",
    "\n",
    "        return pre_node\n",
    "    \n",
    "class ReverseSolution(object):\n",
    "    def reverseList(self, head, pre=None):\n",
    "        \"\"\"\n",
    "        :type head: ListNode\n",
    "        :rtype: ListNode\n",
    "        \"\"\"\n",
    "        if head is None or head.next is None:\n",
    "            return head\n",
    "        \n",
    "        pre = head.next\n",
    "        head.next = None\n",
    "        return self.reverseList(pre, head)\n",
    "    \n",
    "a = ListNode(1)\n",
    "b = ListNode(2)\n",
    "c = ListNode(3)\n",
    "d = ListNode(4)\n",
    "e = ListNode(5)\n",
    "\n",
    "a.next = b\n",
    "b.next = c\n",
    "c.next = d\n",
    "d.next = e\n",
    "\n",
    "def print_link(head):\n",
    "    while head:\n",
    "        print(head.val)\n",
    "        head = head.next\n",
    "        \n",
    "print_link(a)\n",
    "\n",
    "foo = Solution().reverseList(a)\n",
    "\n",
    "print_link(foo)\n",
    "\n",
    "bar = Solution().reverseList(foo)\n",
    "\n",
    "print_link(bar)"
   ]
  },
  {
   "cell_type": "markdown",
   "metadata": {},
   "source": [
    "### 一次循环找出链表的中间值"
   ]
  },
  {
   "cell_type": "code",
   "execution_count": 27,
   "metadata": {},
   "outputs": [
    {
     "name": "stdout",
     "output_type": "stream",
     "text": [
      "1 1\n",
      "2 3\n",
      "3\n"
     ]
    }
   ],
   "source": [
    "# Definition for singly-linked list.\n",
    "class ListNode(object):\n",
    "    def __init__(self, x):\n",
    "        self.val = x\n",
    "        self.next = None\n",
    "    \n",
    "    def __str__(self):\n",
    "        return '%s' % self.val\n",
    "\n",
    "class Solution(object):\n",
    "    def middleNode(self, head):\n",
    "        \"\"\"\n",
    "        :type head: ListNode\n",
    "        :rtype: ListNode\n",
    "        \"\"\"\n",
    "        if not head or not head.next:\n",
    "            return head\n",
    "        \n",
    "        slow_pointer = head\n",
    "        fast_pointer = head\n",
    "        \n",
    "        while fast_pointer and fast_pointer.next:\n",
    "            print(slow_pointer, fast_pointer)\n",
    "            slow_pointer = slow_pointer.next\n",
    "            fast_pointer = fast_pointer.next.next\n",
    "            \n",
    "        return slow_pointer\n",
    "    \n",
    "        \n",
    "a = ListNode(1)\n",
    "b = ListNode(2)\n",
    "c = ListNode(3)\n",
    "d = ListNode(4)\n",
    "e = ListNode(5)       \n",
    "\n",
    "a.next = b\n",
    "b.next = c\n",
    "c.next = d\n",
    "#d.next = e\n",
    "\n",
    "print(Solution().middleNode(a))"
   ]
  },
  {
   "cell_type": "markdown",
   "metadata": {},
   "source": [
    "## 找出列表中是否有环，如果有环找出其位置，从 0 开始"
   ]
  },
  {
   "cell_type": "code",
   "execution_count": 31,
   "metadata": {},
   "outputs": [
    {
     "name": "stdout",
     "output_type": "stream",
     "text": [
      "False\n"
     ]
    }
   ],
   "source": [
    "# Definition for singly-linked list.\n",
    "class ListNode(object):\n",
    "    def __init__(self, x):\n",
    "        self.val = x\n",
    "        self.next = None\n",
    "    \n",
    "    def __str__(self):\n",
    "        return '%s' % self.val\n",
    "    \n",
    "    \n",
    "class Solution(object):\n",
    "    def hasCycle(self, head):\n",
    "        \"\"\"\n",
    "        :type head: ListNode\n",
    "        :rtype: bool\n",
    "        \"\"\"    \n",
    "        if (head is None or head.next is None):\n",
    "            return False\n",
    "        \n",
    "        slow = fast = head\n",
    "        while fast and fast.next:\n",
    "            slow = slow.next\n",
    "            fast = fast.next.next\n",
    "            \n",
    "            if slow == fast:\n",
    "                return True\n",
    "        return False\n",
    "    \n",
    "a = ListNode(1)\n",
    "b = ListNode(2)\n",
    "c = ListNode(3)\n",
    "d = ListNode(4)\n",
    "e = ListNode(5)  \n",
    "\n",
    "a.next = b\n",
    "b.next = c\n",
    "c.next = d\n",
    "# d.next = b\n",
    "\n",
    "print(Solution().hasCycle(a))"
   ]
  },
  {
   "cell_type": "markdown",
   "metadata": {},
   "source": [
    "## 查看两个链表是否有交点"
   ]
  },
  {
   "cell_type": "code",
   "execution_count": 34,
   "metadata": {},
   "outputs": [
    {
     "name": "stdout",
     "output_type": "stream",
     "text": [
      "6\n"
     ]
    }
   ],
   "source": [
    "# Definition for singly-linked list.\n",
    "class ListNode(object):\n",
    "    def __init__(self, x):\n",
    "        self.val = x\n",
    "        self.next = None\n",
    "    \n",
    "    def __str__(self):\n",
    "        return '%s' % self.val\n",
    "    \n",
    "\n",
    "class Solution(object):\n",
    "    def getIntersectionNode(self, headA, headB):\n",
    "        \"\"\"\n",
    "        :type head1, head1: ListNode\n",
    "        :rtype: ListNode\n",
    "        \"\"\"\n",
    "        pa, pb = headA, headB\n",
    "        while pa != pb:\n",
    "            pa = pa.next if pa else headB\n",
    "            pb = pb.next if pb else headA\n",
    "        return pa\n",
    "    \n",
    "    \n",
    "a = ListNode(1)\n",
    "b = ListNode(2)\n",
    "c = ListNode(3)\n",
    "d = ListNode(4)\n",
    "e = ListNode(5)  \n",
    "f = ListNode(6)  \n",
    "\n",
    "a.next = b\n",
    "b.next = c\n",
    "c.next = f\n",
    "\n",
    "d.next = e\n",
    "e.next = f\n",
    "\n",
    "print(Solution().getIntersectionNode(a, d))"
   ]
  },
  {
   "cell_type": "markdown",
   "metadata": {},
   "source": [
    "## 将两个有序列表合并为一个有序列表"
   ]
  },
  {
   "cell_type": "code",
   "execution_count": 42,
   "metadata": {},
   "outputs": [
    {
     "name": "stdout",
     "output_type": "stream",
     "text": [
      "1\n",
      "2\n",
      "3\n",
      "4\n",
      "5\n",
      "6\n"
     ]
    }
   ],
   "source": [
    "# Definition for singly-linked list.\n",
    "class ListNode(object):\n",
    "    def __init__(self, x):\n",
    "        self.val = x\n",
    "        self.next = None\n",
    "    \n",
    "    def __str__(self):\n",
    "        return '%s' % self.val\n",
    "    \n",
    "    \n",
    "class Solution(object):\n",
    "    def mergeTwoLists(self, l1, l2):\n",
    "        \"\"\"\n",
    "        :type l1: ListNode\n",
    "        :type l2: ListNode\n",
    "        :rtype: ListNode\n",
    "        \"\"\"\n",
    "        if not l1 and not l2:\n",
    "            return None\n",
    "        \n",
    "        if not l1:\n",
    "            return l2\n",
    "        \n",
    "        if not l2:\n",
    "            return l1\n",
    "        \n",
    "        tmp = new_head = ListNode(None)\n",
    "        pa, pb = l1, l2\n",
    "        \n",
    "        while pa and pb:\n",
    "            if pa.val < pb.val:\n",
    "                tmp.next = pa\n",
    "                pa = pa.next\n",
    "            else:\n",
    "                tmp.next = pb\n",
    "                pb = pb.next\n",
    "            tmp = tmp.next\n",
    "            \n",
    "        tmp.next = pa if pa is not None else pb\n",
    "        return new_head.next\n",
    "\n",
    "    \n",
    "a = ListNode(1)\n",
    "b = ListNode(2)\n",
    "c = ListNode(3)\n",
    "d = ListNode(4)\n",
    "e = ListNode(5)  \n",
    "f = ListNode(6)     \n",
    "\n",
    "# 1, 2, 3\n",
    "a.next = b\n",
    "b.next = c\n",
    "\n",
    "# 4, 5, 6\n",
    "d.next = e\n",
    "e.next = f\n",
    "\n",
    "bar = Solution().mergeTwoLists(a, d)\n",
    "print_link(bar)"
   ]
  },
  {
   "cell_type": "markdown",
   "metadata": {},
   "source": [
    "## 二叉树中序遍历"
   ]
  },
  {
   "cell_type": "code",
   "execution_count": 47,
   "metadata": {},
   "outputs": [
    {
     "name": "stdout",
     "output_type": "stream",
     "text": [
      "[1, 2, 3]\n"
     ]
    }
   ],
   "source": [
    "# Definition for a binary tree node.\n",
    "class TreeNode(object):\n",
    "    def __init__(self, x):\n",
    "        self.val = x\n",
    "        self.left = None\n",
    "        self.right = None\n",
    "\n",
    "\n",
    "class Solution(object):\n",
    "\n",
    "    def preorderTraversal(self, root):\n",
    "        \"\"\"\n",
    "        :type root: TreeNode\n",
    "        :rtype: List[int]\n",
    "        \"\"\"\n",
    "        result = []\n",
    "        if not root:\n",
    "            return result\n",
    "        \n",
    "        self.preorder(root, result)\n",
    "        return result\n",
    "        \n",
    "    def preorder(self, node, result):\n",
    "        if node is None:\n",
    "            return \n",
    "        \n",
    "        result.append(node.val)\n",
    "        self.preorder(node.left, result)\n",
    "        self.preorder(node.right, result)\n",
    "        \n",
    "\n",
    "a = TreeNode(1)        \n",
    "b = TreeNode(2)\n",
    "c = TreeNode(3)\n",
    "d = TreeNode(4)\n",
    "e = TreeNode(5)\n",
    "\n",
    "a.left = None\n",
    "a.right = b\n",
    "b.left = c\n",
    "\n",
    "print(Solution().preorderTraversal(a))"
   ]
  },
  {
   "cell_type": "markdown",
   "metadata": {},
   "source": [
    "## 二叉树层次遍历"
   ]
  },
  {
   "cell_type": "code",
   "execution_count": 49,
   "metadata": {},
   "outputs": [
    {
     "name": "stdout",
     "output_type": "stream",
     "text": [
      "[[3], [9, 20], [15, 7]]\n"
     ]
    }
   ],
   "source": [
    "# Definition for a binary tree node.\n",
    "class TreeNode(object):\n",
    "    def __init__(self, x):\n",
    "        self.val = x\n",
    "        self.left = None\n",
    "        self.right = None\n",
    "        \n",
    "\n",
    "a = TreeNode(3)        \n",
    "b = TreeNode(9)\n",
    "c = TreeNode(20)\n",
    "d = TreeNode(15)\n",
    "e = TreeNode(7)\n",
    "\n",
    "a.left = b\n",
    "a.right = c\n",
    "c.left = d\n",
    "c.right = e\n",
    "\n",
    "\n",
    "class Solution(object):\n",
    "    def levelOrder(self, root):\n",
    "        \"\"\"\n",
    "        :type root: TreeNode\n",
    "        :rtype: List[List[int]]\n",
    "        \"\"\"\n",
    "        result = []\n",
    "        if root is None:\n",
    "            return result\n",
    "        \n",
    "        queue = [root]\n",
    "        while queue:\n",
    "            size = len(queue)\n",
    "            tmp_ret = []\n",
    "            for i in range(size):\n",
    "                node = queue.pop(0)\n",
    "                tmp_ret.append(node.val)\n",
    "                if node.left:\n",
    "                    queue.append(node.left)\n",
    "                if node.right:\n",
    "                    queue.append(node.right)\n",
    "            result.append(tmp_ret)\n",
    "        return result\n",
    "    \n",
    "\n",
    "print(Solution().levelOrder(a))"
   ]
  },
  {
   "cell_type": "markdown",
   "metadata": {},
   "source": [
    "## 判断二叉树是否为子树"
   ]
  },
  {
   "cell_type": "code",
   "execution_count": 61,
   "metadata": {},
   "outputs": [
    {
     "name": "stdout",
     "output_type": "stream",
     "text": [
      "True\n"
     ]
    }
   ],
   "source": [
    "# Definition for a binary tree node.\n",
    "class TreeNode(object):\n",
    "    def __init__(self, x):\n",
    "        self.val = x\n",
    "        self.left = None\n",
    "        self.right = None\n",
    "        \n",
    "\n",
    "a = TreeNode(3)        \n",
    "b = TreeNode(4)\n",
    "c = TreeNode(5)\n",
    "d = TreeNode(1)\n",
    "e = TreeNode(2)\n",
    "\n",
    "a.left = b\n",
    "a.right = c\n",
    "b.left = d\n",
    "b.right = e\n",
    "\n",
    "b1 = TreeNode(4)\n",
    "d1 = TreeNode(1)\n",
    "e1 = TreeNode(2)\n",
    "\n",
    "b1.left = d1\n",
    "b1.right = e1\n",
    "\n",
    "\n",
    "class Solution(object):\n",
    "\n",
    "    def isSubtree(self, s, t):\n",
    "        \"\"\"\n",
    "        :type s: TreeNode\n",
    "        :type t: TreeNode\n",
    "        :rtype: bool\n",
    "        \"\"\"\n",
    "        if s is None:\n",
    "            return False\n",
    "        \n",
    "        if self.isSameTree(s, t):\n",
    "            return True\n",
    "        \n",
    "        return self.isSubtree(s.left, t) or self.isSubtree(s.right, t)\n",
    "            \n",
    "    def isSameTree(self, s, t):\n",
    "        if(s is None and t is None):\n",
    "            return True\n",
    "        \n",
    "        if((s is None and t) or (s and t is None)):\n",
    "            return False\n",
    "        \n",
    "        if(s.val != t.val):\n",
    "            return False\n",
    "        \n",
    "        return self.isSameTree(s.left, t.left) and self.isSameTree(s.right, t.right)\n",
    "    \n",
    "    \n",
    "print(Solution().isSubtree(a, b1))"
   ]
  },
  {
   "cell_type": "markdown",
   "metadata": {},
   "source": [
    "## 二叉树反转"
   ]
  },
  {
   "cell_type": "code",
   "execution_count": 64,
   "metadata": {},
   "outputs": [
    {
     "name": "stdout",
     "output_type": "stream",
     "text": [
      "[[4], [2, 7], [1, 3, 6, 9]]\n",
      "[[4], [7, 2], [9, 6, 3, 1]]\n"
     ]
    }
   ],
   "source": [
    "# Definition for a binary tree node.\n",
    "class TreeNode(object):\n",
    "    def __init__(self, x):\n",
    "        self.val = x\n",
    "        self.left = None\n",
    "        self.right = None\n",
    "        \n",
    "\n",
    "a = TreeNode(4)        \n",
    "b = TreeNode(2)\n",
    "c = TreeNode(7)\n",
    "d = TreeNode(1)\n",
    "e = TreeNode(3)\n",
    "f = TreeNode(6)\n",
    "g = TreeNode(9)\n",
    "\n",
    "a.left = b\n",
    "a.right = c\n",
    "b.left = d\n",
    "b.right = e\n",
    "c.left = f\n",
    "c.right = g\n",
    "\n",
    "\n",
    "class Printer(object):\n",
    "    def levelOrder(self, root):\n",
    "        \"\"\"\n",
    "        :type root: TreeNode\n",
    "        :rtype: List[List[int]]\n",
    "        \"\"\"\n",
    "        result = []\n",
    "        if root is None:\n",
    "            return result\n",
    "        \n",
    "        queue = [root]\n",
    "        while queue:\n",
    "            size = len(queue)\n",
    "            tmp_ret = []\n",
    "            for i in range(size):\n",
    "                node = queue.pop(0)\n",
    "                tmp_ret.append(node.val)\n",
    "                if node.left:\n",
    "                    queue.append(node.left)\n",
    "                if node.right:\n",
    "                    queue.append(node.right)\n",
    "            result.append(tmp_ret)\n",
    "        return result\n",
    "    \n",
    "    \n",
    "class Solution(object):\n",
    "    def invertTree(self, root):\n",
    "        \"\"\"\n",
    "        :type root: TreeNode\n",
    "        :rtype: TreeNode\n",
    "        \"\"\"\n",
    "        if not root:\n",
    "            return \n",
    "        \n",
    "        root.left, root.right = root.right, root.left\n",
    "        self.invertTree(root.left)\n",
    "        self.invertTree(root.right)\n",
    "        return root\n",
    "        \n",
    "        \n",
    "print(Printer().levelOrder(a))\n",
    "bar = Solution().invertTree(a)\n",
    "print(Printer().levelOrder(bar))"
   ]
  },
  {
   "cell_type": "code",
   "execution_count": null,
   "metadata": {},
   "outputs": [],
   "source": []
  }
 ],
 "metadata": {
  "kernelspec": {
   "display_name": "Python 3",
   "language": "python",
   "name": "python3"
  },
  "language_info": {
   "codemirror_mode": {
    "name": "ipython",
    "version": 3
   },
   "file_extension": ".py",
   "mimetype": "text/x-python",
   "name": "python",
   "nbconvert_exporter": "python",
   "pygments_lexer": "ipython3",
   "version": "3.7.5"
  }
 },
 "nbformat": 4,
 "nbformat_minor": 2
}
