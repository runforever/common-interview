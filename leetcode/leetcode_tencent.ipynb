{
 "nbformat": 4,
 "nbformat_minor": 2,
 "metadata": {
  "language_info": {
   "name": "python",
   "codemirror_mode": {
    "name": "ipython",
    "version": 3
   },
   "version": "3.7.5-final"
  },
  "orig_nbformat": 2,
  "file_extension": ".py",
  "mimetype": "text/x-python",
  "name": "python",
  "npconvert_exporter": "python",
  "pygments_lexer": "ipython3",
  "version": 3,
  "kernelspec": {
   "name": "python37564bitmoonjhp2p8invirtualenv0a40430fb9904e8ead4402bac3e206e2",
   "display_name": "Python 3.7.5 64-bit ('moon-jhP2p8in': virtualenv)"
  }
 },
 "cells": [
  {
   "cell_type": "markdown",
   "metadata": {},
   "source": [
    "## 判断一个数是否为 2 的幂"
   ]
  },
  {
   "cell_type": "code",
   "execution_count": 3,
   "metadata": {},
   "outputs": [
    {
     "name": "stdout",
     "output_type": "stream",
     "text": "1\n10\n100\n1000\n10000\n100000\n1000000\n10000000\n100000000\n1000000000\n"
    }
   ],
   "source": [
    "for i in range(10):\n",
    "    print('{0:b}'.format(2**i))"
   ]
  },
  {
   "cell_type": "code",
   "execution_count": 14,
   "metadata": {},
   "outputs": [
    {
     "name": "stdout",
     "output_type": "stream",
     "text": "-10000\n"
    }
   ],
   "source": [
    "print('{0:b}'.format(-16))"
   ]
  },
  {
   "cell_type": "code",
   "execution_count": 9,
   "metadata": {},
   "outputs": [],
   "source": [
    "class Solution(object):\n",
    "    def isPowerOfTwo(self, n):\n",
    "        \"\"\"\n",
    "        :type n: int\n",
    "        :rtype: bool\n",
    "        \"\"\"\n",
    "        if n <= 0:\n",
    "            return False\n",
    "        bin_str = '{0:b}'.format(n)\n",
    "        return True if len([char for char in bin_str if char == '1']) == 1 else False"
   ]
  },
  {
   "cell_type": "code",
   "execution_count": 13,
   "metadata": {},
   "outputs": [
    {
     "name": "stdout",
     "output_type": "stream",
     "text": "True\n"
    }
   ],
   "source": [
    "print(Solution().isPowerOfTwo(128))"
   ]
  },
  {
   "cell_type": "markdown",
   "metadata": {},
   "source": [
    "## 判断一个数是否是回文"
   ]
  },
  {
   "cell_type": "code",
   "execution_count": 51,
   "metadata": {},
   "outputs": [
    {
     "name": "stdout",
     "output_type": "stream",
     "text": "True\n"
    }
   ],
   "source": [
    "foo = 1\n",
    "foo = str(foo)\n",
    "foo_length = len(foo)\n",
    "\n",
    "start, end = -1, foo_length\n",
    "for i in range(foo_length):\n",
    "    start = start + 1\n",
    "    end = end - 1\n",
    "    start_char = foo[start]\n",
    "    end_char = foo[end]\n",
    "\n",
    "    if start_char != end_char:\n",
    "        print(False)\n",
    "        break\n",
    "\n",
    "    if start + 1 == end:\n",
    "        print(True)\n",
    "        break\n",
    "\n",
    "    if start == end:\n",
    "        print(True)\n",
    "        break\n"
   ]
  },
  {
   "cell_type": "code",
   "execution_count": 53,
   "metadata": {},
   "outputs": [],
   "source": [
    "class Solution(object):\n",
    "    def isPalindrome(self, foo):\n",
    "        \"\"\"\n",
    "        :type x: int\n",
    "        :rtype: bool\n",
    "        \"\"\"\n",
    "        foo = str(foo)\n",
    "        foo_length = len(foo)\n",
    "\n",
    "        start, end = -1, foo_length\n",
    "        for i in range(foo_length):\n",
    "            start = start + 1\n",
    "            end = end - 1\n",
    "            start_char = foo[start]\n",
    "            end_char = foo[end]\n",
    "            if start_char != end_char:\n",
    "                return False\n",
    "\n",
    "            if start + 1 == end:\n",
    "                return True\n",
    "\n",
    "            if start == end:\n",
    "                return True\n"
   ]
  },
  {
   "cell_type": "code",
   "execution_count": 55,
   "metadata": {},
   "outputs": [
    {
     "name": "stdout",
     "output_type": "stream",
     "text": "False\n"
    }
   ],
   "source": [
    "print(Solution().isPalindrome(-121))"
   ]
  },
  {
   "cell_type": "markdown",
   "metadata": {},
   "source": [
    "给出两个 非空 的链表用来表示两个非负的整数。其中，它们各自的位数是按照 逆序 的方式存储的，并且它们的每个节点只能存储 一位 数字。如果，我们将这两个数相加起来，则会返回一个新的链表来表示它们的和。您可以假设除了数字 0 之外，这两个数都不会以 0 开头。\n",
    "\n",
    "https://leetcode-cn.com/problems/add-two-numbers/\n"
   ]
  },
  {
   "cell_type": "code",
   "execution_count": 29,
   "metadata": {},
   "outputs": [
    {
     "name": "stdout",
     "output_type": "stream",
     "text": "2 4 3 \n5 6 4 \n7 0 8 \n"
    }
   ],
   "source": [
    "class ListNode:\n",
    "\n",
    "    def __init__(self, val):\n",
    "        self.val = val\n",
    "        self.next = None\n",
    "\n",
    "    def __str__(self):\n",
    "        return '%s' % self.val\n",
    "\n",
    "    \n",
    "def print_link(node):\n",
    "    while node:\n",
    "        print(node, end=' ')\n",
    "        node = node.next\n",
    "    print()\n",
    "\n",
    "\n",
    "class Solution(object):\n",
    "    def addTwoNumbers(self, l1, l2):\n",
    "        \"\"\"\n",
    "        :type l1: ListNode\n",
    "        :type l2: ListNode\n",
    "        :rtype: ListNode\n",
    "        \"\"\"\n",
    "        if l1 is None or l2 is None:\n",
    "            return l1 or l2\n",
    "\n",
    "        node1, node2 = l1, l2\n",
    "        temp_node = result_node = ListNode(0)\n",
    "\n",
    "        while node1 or node2:\n",
    "            node1_val = node1.val if node1 else 0\n",
    "            node2_val = node2.val if node2 else 0\n",
    "\n",
    "            temp_sum = node1_val + node2_val + temp_node.val\n",
    "            if temp_sum >= 10:\n",
    "                new_node_val = 1\n",
    "                temp_sum = temp_sum % 10\n",
    "            else:\n",
    "                new_node_val = 0\n",
    "\n",
    "            temp_node.val = temp_sum\n",
    "\n",
    "            if node1:\n",
    "                node1 = node1.next\n",
    "\n",
    "            if node2:\n",
    "                node2 = node2.next\n",
    "\n",
    "            if new_node_val:\n",
    "                new_node = ListNode(1)\n",
    "            elif node1 or node2:\n",
    "                new_node = ListNode(0)\n",
    "            else:\n",
    "                new_node = None\n",
    "\n",
    "            temp_node.next = new_node\n",
    "            temp_node = temp_node.next\n",
    "            \n",
    "        return result_node\n",
    "\n",
    "\n",
    "a = ListNode(2)\n",
    "b = ListNode(4)\n",
    "c = ListNode(3)\n",
    "\n",
    "a.next = b\n",
    "b.next = c\n",
    "\n",
    "d = ListNode(5)\n",
    "e = ListNode(6)\n",
    "f = ListNode(4)\n",
    "\n",
    "d.next = e\n",
    "e.next = f\n",
    "\n",
    "print_link(a)\n",
    "print_link(d)\n",
    "link_sum = Solution().addTwoNumbers(a, d)\n",
    "print_link(link_sum)"
   ]
  },
  {
   "cell_type": "markdown",
   "metadata": {},
   "source": [
    "编写一个函数来查找字符串数组中的最长公共前缀。\n",
    "\n",
    "如果不存在公共前缀，返回空字符串 \"\"\n",
    "\n",
    "https://leetcode-cn.com/problems/longest-common-prefix/\n"
   ]
  },
  {
   "cell_type": "code",
   "execution_count": 61,
   "metadata": {},
   "outputs": [
    {
     "name": "stdout",
     "output_type": "stream",
     "text": "\n"
    }
   ],
   "source": [
    "strs =  [\"dog\",\"racecar\",\"car\"]\n",
    "length = len(strs)\n",
    "if length == 0 or '' in strs:\n",
    "    print('')\n",
    "if length == 1:\n",
    "    print(strs[0])\n",
    "i = 0\n",
    "char = ''\n",
    "max_length = 0\n",
    "loop = True\n",
    "while 1:\n",
    "    for idx, string in enumerate(strs):\n",
    "        if i >= len(string):\n",
    "            loop = False\n",
    "            break\n",
    "\n",
    "        if idx == 0:\n",
    "            char = string[i]\n",
    "            continue\n",
    "\n",
    "        if char != string[i]:\n",
    "            loop = False\n",
    "            break\n",
    "    if loop:\n",
    "        max_length += 1\n",
    "        i += 1\n",
    "    else:\n",
    "        break\n",
    "print(strs[0][:max_length])\n",
    "\n",
    "\n"
   ]
  },
  {
   "cell_type": "code",
   "execution_count": 47,
   "metadata": {},
   "outputs": [
    {
     "data": {
      "text/plain": "''"
     },
     "execution_count": 47,
     "metadata": {},
     "output_type": "execute_result"
    }
   ],
   "source": [
    "foo = \"abc\"\n",
    "bar = foo[:0]\n",
    "bar"
   ]
  },
  {
   "cell_type": "markdown",
   "metadata": {},
   "source": [
    "给定一个非空整数数组，除了某个元素只出现一次以外，其余每个元素均出现两次。找出那个只出现了一次的元素。\n",
    "\n",
    "https://leetcode-cn.com/problems/single-number/"
   ]
  },
  {
   "cell_type": "code",
   "execution_count": 20,
   "metadata": {},
   "outputs": [],
   "source": [
    "class Solution(object):\n",
    "    def singleNumber(self, nums):\n",
    "        \"\"\"\n",
    "        :type nums: List[int]\n",
    "        :rtype: int\n",
    "        \"\"\"\n",
    "        nums.sort()\n",
    "        length = len(nums)\n",
    "        for i in range(0, length, 2):\n",
    "            if i+1 < length and nums[i] == nums[i+1]:\n",
    "                continue\n",
    "            return nums[i]\n",
    "\n"
   ]
  },
  {
   "cell_type": "code",
   "execution_count": 22,
   "metadata": {},
   "outputs": [
    {
     "name": "stdout",
     "output_type": "stream",
     "text": "4\n1\n"
    }
   ],
   "source": [
    "print(Solution().singleNumber([4,1,2,1,2]))\n",
    "print(Solution().singleNumber([2,2,1]))"
   ]
  },
  {
   "cell_type": "code",
   "execution_count": 14,
   "metadata": {},
   "outputs": [
    {
     "name": "stdout",
     "output_type": "stream",
     "text": "[1, 1, 2, 2, 4]\n"
    }
   ],
   "source": [
    "foo = [4,1,2,1,2]\n",
    "foo.sort()\n",
    "print(foo)"
   ]
  },
  {
   "cell_type": "markdown",
   "metadata": {},
   "source": [
    "给定一个排序数组，你需要在原地删除重复出现的元素，使得每个元素只出现一次，返回移除后数组的新长度。\n",
    "\n",
    "不要使用额外的数组空间，你必须在原地修改输入数组并在使用 O(1) 额外空间的条件下完成。\n",
    "\n",
    "链接：https://leetcode-cn.com/problems/remove-duplicates-from-sorted-array\n",
    "\n",
    "\n"
   ]
  },
  {
   "cell_type": "code",
   "execution_count": 29,
   "metadata": {},
   "outputs": [],
   "source": [
    "class Solution(object):\n",
    "    def removeDuplicates(self, nums):\n",
    "        \"\"\"\n",
    "        :type nums: List[int]\n",
    "        :rtype: int\n",
    "        \"\"\"\n",
    "        length = len(nums)\n",
    "        i = 0\n",
    "        while i < length:\n",
    "            if i+1 < length and nums[i] == nums[i+1]:\n",
    "                del nums[i]\n",
    "            else:\n",
    "                i = i+1\n",
    "            length = len(nums)\n",
    "        return i"
   ]
  },
  {
   "cell_type": "code",
   "execution_count": 31,
   "metadata": {},
   "outputs": [
    {
     "name": "stdout",
     "output_type": "stream",
     "text": "2\n"
    }
   ],
   "source": [
    "print(Solution().removeDuplicates([1,1,2]))"
   ]
  },
  {
   "cell_type": "markdown",
   "metadata": {},
   "source": [
    "给定一个只包括 '('，')'，'{'，'}'，'['，']' 的字符串，判断字符串是否有效。\n",
    "\n",
    "有效字符串需满足：\n",
    "\n",
    "左括号必须用相同类型的右括号闭合。\n",
    "左括号必须以正确的顺序闭合。\n",
    "注意空字符串可被认为是有效字符串。\n",
    "\n",
    "链接：https://leetcode-cn.com/problems/valid-parentheses\n"
   ]
  },
  {
   "cell_type": "code",
   "execution_count": 51,
   "metadata": {},
   "outputs": [],
   "source": [
    "class Solution(object):\n",
    "    def isValid(self, s):\n",
    "        \"\"\"\n",
    "        :type s: str\n",
    "        :rtype: bool\n",
    "        \"\"\"\n",
    "        stack = []\n",
    "        for char in s:\n",
    "            if char in ('(', '[', '{'):\n",
    "                stack.append(char)\n",
    "            if char in (')', ']', '}') and not stack:\n",
    "                return False\n",
    "                \n",
    "            if char == ')':\n",
    "                left = stack.pop()\n",
    "                if left != '(':\n",
    "                    return False\n",
    "            if char == ']':\n",
    "                left = stack.pop()\n",
    "                if left != '[':\n",
    "                    return False\n",
    "            if char == '}':\n",
    "                left = stack.pop()\n",
    "                if left != '{':\n",
    "                    return False\n",
    "        return False if stack else True"
   ]
  },
  {
   "cell_type": "code",
   "execution_count": 52,
   "metadata": {},
   "outputs": [
    {
     "name": "stdout",
     "output_type": "stream",
     "text": "True\nTrue\nFalse\nTrue\nTrue\nFalse\nFalse\n"
    }
   ],
   "source": [
    "print(Solution().isValid(\"()\"))\n",
    "print(Solution().isValid(\"()[]{}\"))\n",
    "print(Solution().isValid(\"([)]\"))\n",
    "print(Solution().isValid(\"([])\"))\n",
    "print(Solution().isValid(\"\"))\n",
    "print(Solution().isValid(\"[\"))\n",
    "print(Solution().isValid(\"]\"))"
   ]
  },
  {
   "cell_type": "markdown",
   "metadata": {},
   "source": [
    "给定一个二叉树，找出其最大深度。\n",
    "\n",
    "二叉树的深度为根节点到最远叶子节点的最长路径上的节点数。\n",
    "\n",
    "说明: 叶子节点是指没有子节点的节点。\n",
    "\n",
    "https://leetcode-cn.com/problems/maximum-depth-of-binary-tree/"
   ]
  },
  {
   "cell_type": "code",
   "execution_count": 62,
   "metadata": {},
   "outputs": [
    {
     "name": "stdout",
     "output_type": "stream",
     "text": "3\n"
    }
   ],
   "source": [
    "# Definition for a binary tree node.\n",
    "class TreeNode(object):\n",
    "    def __init__(self, x):\n",
    "        self.val = x\n",
    "        self.left = None\n",
    "        self.right = None\n",
    "\n",
    "    def __str__(self):\n",
    "        return '%s' % self.val\n",
    "\n",
    "\n",
    "class Solution(object):\n",
    "    def maxDepth(self, root):\n",
    "        \"\"\"\n",
    "        :type root: TreeNode\n",
    "        :rtype: int\n",
    "        \"\"\"\n",
    "\n",
    "        if root is None:\n",
    "            return 0\n",
    "\n",
    "        left = self.maxDepth(root.left)\n",
    "        right = self.maxDepth(root.right)\n",
    "        left_deepth = 1 + left\n",
    "        right_deepth = 1 + right\n",
    "        deepth = max(left_deepth, right_deepth)\n",
    "        return deepth\n",
    "\n",
    "a = TreeNode(3)\n",
    "b = TreeNode(9)\n",
    "c = TreeNode(20)\n",
    "d = TreeNode(15)\n",
    "e = TreeNode(7)\n",
    "\n",
    "a.left = b\n",
    "a.right = c\n",
    "c.left = d\n",
    "c.right = e\n",
    "\n",
    "print(Solution().maxDepth(a))"
   ]
  },
  {
   "cell_type": "markdown",
   "metadata": {},
   "source": [
    "给定一个数组，它的第 i 个元素是一支给定股票第 i 天的价格。\n",
    "\n",
    "如果你最多只允许完成一笔交易（即买入和卖出一支股票），设计一个算法来计算你所能获取的最大利润。\n",
    "\n",
    "注意你不能在买入股票前卖出股票。\n",
    "\n",
    "链接：https://leetcode-cn.com/problems/best-time-to-buy-and-sell-stock\n"
   ]
  },
  {
   "cell_type": "code",
   "execution_count": 116,
   "metadata": {},
   "outputs": [
    {
     "name": "stdout",
     "output_type": "stream",
     "text": "5\n0\n5\n4\n2\n0\n0\n"
    }
   ],
   "source": [
    "class Solution(object):\n",
    "\n",
    "    def maxProfit(self, prices):\n",
    "        \"\"\"\n",
    "        :type prices: List[int]\n",
    "        :rtype: int\n",
    "        \"\"\"\n",
    "        length = len(prices)\n",
    "        max_profit = 0\n",
    "\n",
    "        for i in range(length):\n",
    "            buy_price = prices[i]\n",
    "            for j in range(i+1, length):\n",
    "                max_profit = max(prices[j]-prices[i], max_profit)\n",
    "        return max_profit\n",
    "\n",
    "\n",
    "class Solution(object):\n",
    "\n",
    "    def maxProfit(self, prices):\n",
    "        \"\"\"\n",
    "        :type prices: List[int]\n",
    "        :rtype: int\n",
    "        \"\"\"\n",
    "\n",
    "        if len(prices) <= 1:\n",
    "            return 0\n",
    "            \n",
    "        min_buy = prices[0]\n",
    "        max_profit = 0\n",
    "\n",
    "        for i in prices:\n",
    "            min_buy = min(i, min_buy)\n",
    "            max_profit = max(max_profit, i-min_buy)\n",
    "        return max_profit\n",
    "\n",
    "\n",
    "\n",
    "print(Solution().maxProfit([7,1,5,3,6,4]))\n",
    "print(Solution().maxProfit([7,6,4,3,1]))\n",
    "print(Solution().maxProfit([1, 6]))\n",
    "print(Solution().maxProfit([7, 3, 6, 1, 3, 5]))\n",
    "print(Solution().maxProfit([2,1,2,1,0,1,2]))\n",
    "print(Solution().maxProfit([1]))\n",
    "print(Solution().maxProfit([]))"
   ]
  },
  {
   "cell_type": "code",
   "execution_count": 87,
   "metadata": {},
   "outputs": [
    {
     "data": {
      "text/plain": "[-1, -2, -3, -4, -5, -6]"
     },
     "execution_count": 87,
     "metadata": {},
     "output_type": "execute_result"
    }
   ],
   "source": [
    "list(range(-1, -7, -1))"
   ]
  },
  {
   "cell_type": "markdown",
   "metadata": {},
   "source": [
    "给定一个数组，它的第 i 个元素是一支给定股票第 i 天的价格。\n",
    "\n",
    "设计一个算法来计算你所能获取的最大利润。你可以尽可能地完成更多的交易（多次买卖一支股票）。\n",
    "\n",
    "注意：你不能同时参与多笔交易（你必须在再次购买前出售掉之前的股票）。\n",
    "\n",
    "来源：力扣（LeetCode）\n",
    "\n",
    "链接：https://leetcode-cn.com/problems/best-time-to-buy-and-sell-stock-ii\n",
    "\n",
    "```\n",
    "class Solution:\n",
    "    def maxProfit(self, prices: List[int]) -> int:\n",
    "        profit = 0\n",
    "        for i in range(1, len(prices)):\n",
    "            tmp = prices[i] - prices[i - 1]\n",
    "            if tmp > 0: profit += tmp\n",
    "        return profit\n",
    "\n",
    "作者：jyd\n",
    "链接：https://leetcode-cn.com/problems/best-time-to-buy-and-sell-stock-ii/solution/best-time-to-buy-and-sell-stock-ii-zhuan-hua-fa-ji/\n",
    "来源：力扣（LeetCode）\n",
    "著作权归作者所有。商业转载请联系作者获得授权，非商业转载请注明出处。\n",
    "```\n"
   ]
  },
  {
   "cell_type": "code",
   "execution_count": 120,
   "metadata": {},
   "outputs": [
    {
     "name": "stdout",
     "output_type": "stream",
     "text": "7\n"
    }
   ],
   "source": [
    "class Solution:\n",
    "    def maxProfit(self, prices):\n",
    "        profit = 0\n",
    "        for i in range(1, len(prices)):\n",
    "            tmp = prices[i] - prices[i - 1]\n",
    "            if tmp > 0: \n",
    "                profit += tmp\n",
    "        return profit\n",
    "\n",
    "\n",
    "print(Solution().maxProfit([7,1,5,3,6,4]))"
   ]
  },
  {
   "cell_type": "markdown",
   "metadata": {},
   "source": [
    "给定两个有序整数数组 nums1 和 nums2，将 nums2 合并到 nums1 中，使得 num1 成为一个有序数组。\n",
    "\n",
    "说明:\n",
    "\n",
    "初始化 nums1 和 nums2 的元素数量分别为 m 和 n。\n",
    "你可以假设 nums1 有足够的空间（空间大小大于或等于 m + n）来保存 nums2 中的元素。\n",
    "\n",
    "链接：https://leetcode-cn.com/problems/merge-sorted-array\n"
   ]
  },
  {
   "cell_type": "code",
   "execution_count": 36,
   "metadata": {},
   "outputs": [
    {
     "name": "stdout",
     "output_type": "stream",
     "text": "[1, 2, 2, 3, 5, 6]\n[2, 5, 6]\n[1, 2, 3]\n[]\n"
    }
   ],
   "source": [
    "class Solution(object):\n",
    "    def merge(self, nums1, m, nums2, n):\n",
    "        \"\"\"\n",
    "        :type nums1: List[int]\n",
    "        :type m: int\n",
    "        :type nums2: List[int]\n",
    "        :type n: int\n",
    "        :rtype: None Do not return anything, modify nums1 in-place instead.\n",
    "        \"\"\"\n",
    "        i = j = 0\n",
    "\n",
    "        while j < n:\n",
    "            \n",
    "            if i < len(nums1) and nums1[i] <= nums2[j]:                \n",
    "                i += 1\n",
    "            else:\n",
    "                nums1.insert(i, nums2[j])\n",
    "                j += 1\n",
    "\n",
    "\n",
    "class Solution(object):\n",
    "    def merge(self, nums1, m, nums2, n):\n",
    "        \"\"\"\n",
    "        :type nums1: List[int]\n",
    "        :type m: int\n",
    "        :type nums2: List[int]\n",
    "        :type n: int\n",
    "        :rtype: None Do not return anything, modify nums1 in-place instead.\n",
    "        \"\"\"\n",
    "        for i in range(m+n):\n",
    "            if i < n:\n",
    "                nums1[m+i] = nums2[i]\n",
    "        nums1.sort()\n",
    "\n",
    "\n",
    "nums1 = [1, 2, 3, 0, 0, 0]\n",
    "Solution().merge(nums1, 3, [2, 5, 6], 3)\n",
    "print(nums1)\n",
    "\n",
    "nums1 = [0, 0, 0]\n",
    "Solution().merge(nums1, 0, [2, 5, 6], 3)\n",
    "print(nums1)\n",
    "\n",
    "nums1 = [1, 2, 3]\n",
    "Solution().merge(nums1, 3, [], 0)\n",
    "print(nums1)\n",
    "\n",
    "nums1 = []\n",
    "Solution().merge(nums1, 0, [], 0)\n",
    "print(nums1)"
   ]
  },
  {
   "cell_type": "code",
   "execution_count": 23,
   "metadata": {},
   "outputs": [
    {
     "name": "stdout",
     "output_type": "stream",
     "text": "[1, 2]\n"
    }
   ],
   "source": [
    "def foo(a):\n",
    "    a = a[1:]\n",
    "\n",
    "b = [1, 2]\n",
    "foo(b)\n",
    "\n",
    "print(b)"
   ]
  },
  {
   "cell_type": "markdown",
   "metadata": {},
   "source": [
    "给定一个整数数组，判断是否存在重复元素。\n",
    "\n",
    "如果任何值在数组中出现至少两次，函数返回 true。如果数组中每个元素都不相同，则返回 false。\n",
    "\n",
    "https://leetcode-cn.com/problems/contains-duplicate/"
   ]
  },
  {
   "cell_type": "code",
   "execution_count": 41,
   "metadata": {},
   "outputs": [
    {
     "name": "stdout",
     "output_type": "stream",
     "text": "True\nFalse\nTrue\nFalse\nTrue\n"
    }
   ],
   "source": [
    "class Solution(object):\n",
    "    def containsDuplicate(self, nums):\n",
    "        \"\"\"\n",
    "        :type nums: List[int]\n",
    "        :rtype: bool\n",
    "        \"\"\"\n",
    "\n",
    "        nums.sort()\n",
    "        for i in range(len(nums)-1):\n",
    "            if nums[i] == nums[i+1]:\n",
    "                return True\n",
    "        return False\n",
    "\n",
    "\n",
    "print(Solution().containsDuplicate([1,2,3,1]))\n",
    "print(Solution().containsDuplicate([1,2,3,4]))\n",
    "print(Solution().containsDuplicate([1,1,1,3,3,4,3,2,4,2]))\n",
    "print(Solution().containsDuplicate([]))\n",
    "print(Solution().containsDuplicate([1, 1]))\n"
   ]
  },
  {
   "cell_type": "markdown",
   "metadata": {},
   "source": [
    "编写一个函数，其作用是将输入的字符串反转过来。输入字符串以字符数组 char[] 的形式给出。\n",
    "\n",
    "不要给另外的数组分配额外的空间，你必须原地修改输入数组、使用 O(1) 的额外空间解决这一问题。\n",
    "\n",
    "你可以假设数组中的所有字符都是 ASCII 码表中的可打印字符。\n",
    "\n",
    "链接：https://leetcode-cn.com/problems/reverse-string"
   ]
  },
  {
   "cell_type": "code",
   "execution_count": 54,
   "metadata": {},
   "outputs": [
    {
     "name": "stdout",
     "output_type": "stream",
     "text": "['o', 'l', 'l', 'e', 'h']\n['h', 'a', 'n', 'n', 'a', 'H']\n['H']\n[]\n['h', 'H']\n"
    }
   ],
   "source": [
    "class Solution(object):\n",
    "    def reverseString(self, s):\n",
    "        \"\"\"\n",
    "        :type s: List[str]\n",
    "        :rtype: None Do not return anything, modify s in-place instead.\n",
    "        \"\"\"\n",
    "\n",
    "        mid = len(s) // 2\n",
    "        for i in range(mid):\n",
    "            s[i], s[-i-1] = s[-i-1], s[i]\n",
    "\n",
    "s = [\"h\",\"e\",\"l\",\"l\",\"o\"]\n",
    "Solution().reverseString(s)\n",
    "print(s)\n",
    "\n",
    "s = [\"H\",\"a\",\"n\",\"n\",\"a\",\"h\"]\n",
    "Solution().reverseString(s)\n",
    "print(s)\n",
    "\n",
    "s = [\"H\"]\n",
    "Solution().reverseString(s)\n",
    "print(s)\n",
    "\n",
    "s = []\n",
    "Solution().reverseString(s)\n",
    "print(s)\n",
    "\n",
    "s = [\"H\", 'h']\n",
    "Solution().reverseString(s)\n",
    "print(s)"
   ]
  },
  {
   "cell_type": "code",
   "execution_count": 53,
   "metadata": {},
   "outputs": [
    {
     "data": {
      "text/plain": "2"
     },
     "execution_count": 53,
     "metadata": {},
     "output_type": "execute_result"
    }
   ],
   "source": [
    "4 // 2"
   ]
  },
  {
   "cell_type": "markdown",
   "metadata": {},
   "source": [
    "请编写一个函数，使其可以删除某个链表中给定的（非末尾）节点，你将只被给定要求被删除的节点。\n",
    "\n",
    "现有一个链表 -- head = [4,5,1,9]，它可以表示为:\n",
    "\n",
    "链接：https://leetcode-cn.com/problems/delete-node-in-a-linked-list"
   ]
  },
  {
   "cell_type": "code",
   "execution_count": 60,
   "metadata": {},
   "outputs": [
    {
     "name": "stdout",
     "output_type": "stream",
     "text": "4 5 \n5 \n"
    }
   ],
   "source": [
    "# Definition for singly-linked list.\n",
    "class ListNode(object):\n",
    "    def __init__(self, x):\n",
    "        self.val = x\n",
    "        self.next = None\n",
    "\n",
    "    def __str__(self):\n",
    "        return '%s' % self.val\n",
    "\n",
    "\n",
    "class Solution(object):\n",
    "    def deleteNode(self, node):\n",
    "        \"\"\"\n",
    "        :type node: ListNode\n",
    "        :rtype: void Do not return anything, modify node in-place instead.\n",
    "        \"\"\"\n",
    "        while node.next:\n",
    "            node.val = node.next.val\n",
    "            if node.next.next:\n",
    "                node = node.next\n",
    "            else: \n",
    "                node.next = None\n",
    "\n",
    "\n",
    "def print_link(node):\n",
    "    while node:\n",
    "        print(node, end=' ')\n",
    "        node = node.next\n",
    "    print()\n",
    "\n",
    "a = ListNode(4)\n",
    "b = ListNode(5)\n",
    "c = ListNode(1)\n",
    "d = ListNode(9)\n",
    "\n",
    "a.next = b\n",
    "#b.next = c\n",
    "#c.next = d\n",
    "\n",
    "print_link(a)\n",
    "Solution().deleteNode(a)\n",
    "print_link(a)"
   ]
  },
  {
   "cell_type": "markdown",
   "metadata": {},
   "source": [
    "给定一个大小为 n 的数组，找到其中的多数元素。多数元素是指在数组中出现次数大于 ⌊ n/2 ⌋ 的元素。\n",
    "\n",
    "你可以假设数组是非空的，并且给定的数组总是存在多数元素。\n",
    "\n",
    "链接：https://leetcode-cn.com/problems/majority-element"
   ]
  },
  {
   "cell_type": "code",
   "execution_count": 72,
   "metadata": {},
   "outputs": [
    {
     "name": "stdout",
     "output_type": "stream",
     "text": "3\n2\n1\n"
    }
   ],
   "source": [
    "class Solution(object):\n",
    "\n",
    "    def majorityElement(self, nums):\n",
    "        \"\"\"\n",
    "        :type nums: List[int]\n",
    "        :rtype: int\n",
    "        \"\"\"\n",
    "        length = len(nums)\n",
    "        if length == 1:\n",
    "            return nums[0]\n",
    "            \n",
    "        nums.sort()\n",
    "        count = 1\n",
    "\n",
    "        for i in range(1, length):\n",
    "            if nums[i] == nums[i-1]:\n",
    "                count += 1\n",
    "            if count > length/2:\n",
    "                return nums[i]\n",
    "            if nums[i] != nums[i-1]:\n",
    "                count = 1\n",
    "\n",
    "print(Solution().majorityElement([3,2,3]))\n",
    "print(Solution().majorityElement([2,2,1,1,1,2,2]))\n",
    "print(Solution().majorityElement([1]))"
   ]
  },
  {
   "cell_type": "code",
   "execution_count": 64,
   "metadata": {},
   "outputs": [
    {
     "data": {
      "text/plain": "1.5"
     },
     "execution_count": 64,
     "metadata": {},
     "output_type": "execute_result"
    }
   ],
   "source": [
    "3/2"
   ]
  },
  {
   "cell_type": "markdown",
   "metadata": {},
   "source": [
    "给定一个字符串，你需要反转字符串中每个单词的字符顺序，同时仍保留空格和单词的初始顺序。\n",
    "\n",
    "https://leetcode-cn.com/problems/reverse-words-in-a-string-iii/"
   ]
  },
  {
   "cell_type": "code",
   "execution_count": 77,
   "metadata": {},
   "outputs": [
    {
     "name": "stdout",
     "output_type": "stream",
     "text": "s'teL ekat edoCteeL tsetnoc\n"
    }
   ],
   "source": [
    "class Solution(object):\n",
    "    def reverseWords(self, s):\n",
    "        \"\"\"\n",
    "        :type s: str\n",
    "        :rtype: str\n",
    "        \"\"\"\n",
    "\n",
    "        return ' '.join(''.join(reversed(i)) for i in s.split(' '))\n",
    "\n",
    "\n",
    "print(Solution().reverseWords(\"Let's take LeetCode contest\"))"
   ]
  },
  {
   "cell_type": "code",
   "execution_count": 75,
   "metadata": {},
   "outputs": [
    {
     "data": {
      "text/plain": "'cba'"
     },
     "execution_count": 75,
     "metadata": {},
     "output_type": "execute_result"
    }
   ],
   "source": [
    "''.join(reversed(\"abc\"))"
   ]
  },
  {
   "cell_type": "markdown",
   "metadata": {},
   "source": [
    "在未排序的数组中找到第 k 个最大的元素。请注意，你需要找的是数组排序后的第 k 个最大的元素，而不是第 k 个不同的元素。\n",
    "\n",
    "https://leetcode-cn.com/problems/kth-largest-element-in-an-array/"
   ]
  },
  {
   "cell_type": "code",
   "execution_count": 6,
   "metadata": {},
   "outputs": [
    {
     "name": "stdout",
     "output_type": "stream",
     "text": "4\n"
    }
   ],
   "source": [
    "class Solution:\n",
    "    def findKthLargest(self, nums, k):\n",
    "        nums.sort()\n",
    "        return nums[-k]\n",
    "\n",
    "print(Solution().findKthLargest([3,2,3,1,2,4,5,5,6], 4))"
   ]
  },
  {
   "cell_type": "code",
   "execution_count": 4,
   "metadata": {},
   "outputs": [
    {
     "name": "stdout",
     "output_type": "stream",
     "text": "[1, 2, 2, 3, 3, 4, 5, 5, 6]\n"
    }
   ],
   "source": [
    "foo =  [3,2,3,1,2,4,5,5,6]\n",
    "foo.sort()\n",
    "print(foo)"
   ]
  },
  {
   "cell_type": "markdown",
   "metadata": {},
   "source": [
    "给定一组不含重复元素的整数数组 nums，返回该数组所有可能的子集（幂集）。\n",
    "\n",
    "说明：解集不能包含重复的子集。\n",
    "\n",
    "https://leetcode-cn.com/problems/subsets/"
   ]
  },
  {
   "cell_type": "code",
   "execution_count": 12,
   "metadata": {},
   "outputs": [
    {
     "name": "stdout",
     "output_type": "stream",
     "text": "[[], [1], [2], [1, 2], [3], [1, 3], [2, 3], [1, 2, 3]]\n[[]]\n[[], [1]]\n"
    }
   ],
   "source": [
    "class Solution(object):\n",
    "    def subsets(self, nums):\n",
    "        \"\"\"\n",
    "        :type nums: List[int]\n",
    "        :rtype: List[List[int]]\n",
    "        \"\"\"\n",
    "        length = len(nums)\n",
    "        max_num = 1 << length\n",
    "        result = []\n",
    "        for num in range(0, max_num):\n",
    "            child = []\n",
    "            for idx in range(length):\n",
    "                if ((1 << idx) & num):\n",
    "                    child.append(nums[idx])\n",
    "            result.append(child)\n",
    "        return result\n",
    "\n",
    "print(Solution().subsets([1, 2, 3]))\n",
    "print(Solution().subsets([]))\n",
    "print(Solution().subsets([1]))\n"
   ]
  },
  {
   "cell_type": "code",
   "execution_count": 9,
   "metadata": {},
   "outputs": [
    {
     "data": {
      "text/plain": "'111'"
     },
     "execution_count": 9,
     "metadata": {},
     "output_type": "execute_result"
    }
   ],
   "source": [
    "'{0:b}'.format(7)"
   ]
  },
  {
   "cell_type": "markdown",
   "metadata": {},
   "source": [
    "## 全排列问题\n"
   ]
  },
  {
   "cell_type": "code",
   "execution_count": 7,
   "metadata": {},
   "outputs": [
    {
     "name": "stdout",
     "output_type": "stream",
     "text": "[[1, 2, 3], [1, 3, 2], [2, 1, 3], [2, 3, 1], [3, 2, 1], [3, 1, 2]]\n"
    }
   ],
   "source": [
    "class Solution(object):\n",
    "\n",
    "    def backtrack(self, t):\n",
    "        if t >= self.length:\n",
    "            if not self.nums in self.result:\n",
    "                self.result.append(self.nums[:])\n",
    "            return \n",
    "\n",
    "        for i in range(t, self.length):\n",
    "            self.nums[i], self.nums[t] = self.nums[t], self.nums[i]\n",
    "            self.backtrack(t+1)\n",
    "            self.nums[i], self.nums[t] = self.nums[t], self.nums[i]\n",
    "\n",
    "    def permute(self, nums):\n",
    "        \"\"\"\n",
    "        :type nums: List[int]\n",
    "        :rtype: List[List[int]]\n",
    "        \"\"\"\n",
    "        self.nums = nums\n",
    "        self.length = len(nums)\n",
    "        self.result = []\n",
    "        self.backtrack(0)\n",
    "        return self.result\n",
    "\n",
    "print(Solution().permute([1, 2, 3]))"
   ]
  },
  {
   "cell_type": "code",
   "execution_count": 5,
   "metadata": {},
   "outputs": [
    {
     "data": {
      "text/plain": "True"
     },
     "execution_count": 5,
     "metadata": {},
     "output_type": "execute_result"
    }
   ],
   "source": [
    "foo = [[1, 2]]\n",
    "[1, 2] in foo"
   ]
  },
  {
   "cell_type": "markdown",
   "metadata": {},
   "source": [
    "格雷编码是一个二进制数字系统，在该系统中，两个连续的数值仅有一个位数的差异。\n",
    "\n",
    "给定一个代表编码总位数的非负整数 n，打印其格雷编码序列。格雷编码序列必须以 0 开头。\n",
    "\n",
    "链接：https://leetcode-cn.com/problems/gray-code\n"
   ]
  },
  {
   "cell_type": "code",
   "execution_count": 6,
   "metadata": {},
   "outputs": [
    {
     "name": "stdout",
     "output_type": "stream",
     "text": "0000\n0001\n0010\n0011\n0100\n0101\n0110\n0111\n1000\n1001\n1010\n1011\n1100\n1101\n1110\n1111\n"
    }
   ],
   "source": [
    "for i in range(16):\n",
    "    print('{:04b}'.format(i))"
   ]
  },
  {
   "cell_type": "code",
   "execution_count": 8,
   "metadata": {},
   "outputs": [
    {
     "name": "stdout",
     "output_type": "stream",
     "text": "2\n0\n"
    }
   ],
   "source": [
    "print(7 ^ 5)\n",
    "print(8&7)"
   ]
  },
  {
   "cell_type": "code",
   "execution_count": 20,
   "metadata": {},
   "outputs": [
    {
     "name": "stdout",
     "output_type": "stream",
     "text": "[0, 1, 3, 2]\n[0, 2, 3, 1]\n[1, 0, 2, 3]\n[2, 0, 1, 3]\n[2, 3, 1, 0]\n[3, 1, 0, 2]\n[3, 2, 0, 1]\n[0, 1, 2, 3]\nFalse\n"
    }
   ],
   "source": [
    "class Solution(object):\n",
    "\n",
    "    def is_valid(self, nums):\n",
    "        length = len(nums)\n",
    "        for i in range(1, length):\n",
    "            xor_num = nums[i] ^ nums[i-1]\n",
    "            if xor_num & (xor_num-1) != 0:\n",
    "                return False\n",
    "        return True\n",
    "\n",
    "    def backtrack(self, t):\n",
    "        if t >= self.length:\n",
    "            return \n",
    "\n",
    "        for i in range(t, self.length):\n",
    "            if self.is_valid(self.nums):\n",
    "                print(self.nums)\n",
    "                return\n",
    "            self.nums[i], self.nums[t] = self.nums[t], self.nums[i]\n",
    "            self.backtrack(t+1)\n",
    "            self.nums[i], self.nums[t] = self.nums[t], self.nums[i]\n",
    "\n",
    "    def grayCode(self, n):\n",
    "        \"\"\"\n",
    "        :type nums: List[int]\n",
    "        :rtype: List[List[int]]\n",
    "        \"\"\"\n",
    "        self.length = 2 ** n\n",
    "        self.nums = list(range(self.length))\n",
    "        self.backtrack(0)\n",
    "        return self.nums\n",
    "\n",
    "\n",
    "print(Solution().grayCode(2))\n",
    "print(Solution().is_valid([0, 1, 2, 3]))"
   ]
  },
  {
   "cell_type": "code",
   "execution_count": 11,
   "metadata": {},
   "outputs": [
    {
     "data": {
      "text/plain": "3"
     },
     "execution_count": 11,
     "metadata": {},
     "output_type": "execute_result"
    }
   ],
   "source": [
    "3 ^ 0"
   ]
  },
  {
   "cell_type": "code",
   "execution_count": 12,
   "metadata": {},
   "outputs": [
    {
     "data": {
      "text/plain": "2"
     },
     "execution_count": 12,
     "metadata": {},
     "output_type": "execute_result"
    }
   ],
   "source": [
    "3 & 2"
   ]
  },
  {
   "cell_type": "markdown",
   "metadata": {},
   "source": [
    "在 O(n log n) 时间复杂度和常数级空间复杂度下，对链表进行排序。\n",
    "\n",
    "示例 1:\n",
    "\n",
    "输入: 4->2->1->3\n",
    "\n",
    "输出: 1->2->3->4"
   ]
  },
  {
   "cell_type": "code",
   "execution_count": 9,
   "metadata": {},
   "outputs": [],
   "source": [
    "def print_link(node):\n",
    "    while node:\n",
    "        print(node, end=' ')\n",
    "        node = node.next\n",
    "    print()\n",
    "\n",
    "# Definition for singly-linked list.\n",
    "class ListNode(object):\n",
    "    def __init__(self, x):\n",
    "        self.val = x\n",
    "        self.next = None\n",
    "\n",
    "    def __str__(self):\n",
    "        return '%s' % self.val\n",
    "\n",
    "\n",
    "class Solution(object):\n",
    "    def get_list_length(self, head):\n",
    "        length = 0\n",
    "        while head:\n",
    "            length += 1\n",
    "            head = head.next\n",
    "        return length\n",
    "\n",
    "    def cut(self, head, count):\n",
    "        dummy_head = ListNode(0) \n",
    "        dummy_head.next = head\n",
    "\n",
    "        pre, rest_head = dummy_head, dummy_head.next\n",
    "\n",
    "        while count and rest_head:\n",
    "            pre = pre.next\n",
    "            rest_head = rest_head.next\n",
    "            count -= 1 \n",
    "\n",
    "        if rest_head:\n",
    "            pre.next = None\n",
    "\n",
    "        return dummy_head.next, rest_head\n",
    "\n",
    "    def merge(self, h1, h2):\n",
    "        pre = head = ListNode(0)\n",
    "\n",
    "        while h1 and h2:\n",
    "            if h1.val > h2.val:\n",
    "                pre.next, h2 = h2, h2.next\n",
    "            else:\n",
    "                pre.next, h1 = h1, h1.next\n",
    "            pre = pre.next\n",
    "\n",
    "        pre.next = h1 if h1 else h2\n",
    "        return head.next\n",
    "\n",
    "    def sortList(self, head):\n",
    "        \"\"\"\n",
    "        :type head: ListNode\n",
    "        :rtype: ListNode\n",
    "        \"\"\"\n",
    "        length = self.get_list_length(head)\n",
    "        sub_length = 1\n",
    "        dummy_head = ListNode(0)\n",
    "        dummy_head.next = head\n",
    "\n",
    "        while sub_length < length:\n",
    "            dummy_tail, rest_head = dummy_head, dummy_head.next\n",
    "\n",
    "            while rest_head:\n",
    "                h1, rest_head = self.cut(rest_head, sub_length)\n",
    "                h2, rest_head = self.cut(rest_head, sub_length)\n",
    "\n",
    "                sorted_link = self.merge(h1, h2)\n",
    "                dummy_tail.next = sorted_link\n",
    "\n",
    "                while dummy_tail.next:\n",
    "                    dummy_tail = dummy_tail.next\n",
    "\n",
    "            sub_length *= 2\n",
    "        return dummy_head.next\n",
    "\n",
    "\n",
    "a = ListNode(4)\n",
    "b = ListNode(2)\n",
    "c = ListNode(1)\n",
    "d = ListNode(3)\n",
    "\n",
    "# a.next = b\n",
    "# b.next = c\n",
    "# c.next = d\n",
    "# foo, bar = Solution().cut(a, 1)\n",
    "# print_link(foo)\n",
    "# print_link(bar)\n",
    "print_link(Solution().sortList(a))\n"
   ]
  },
  {
   "cell_type": "markdown",
   "metadata": {},
   "source": [
    "设计一个支持 push，pop，top 操作，并能在常数时间内检索到最小元素的栈。\n",
    "\n",
    "1. push(x) -- 将元素 x 推入栈中。\n",
    "2. pop() -- 删除栈顶的元素。\n",
    "3. top() -- 获取栈顶元素。\n",
    "4. getMin() -- 检索栈中的最小元素。\n",
    "\n",
    "链接：https://leetcode-cn.com/problems/min-stack\n"
   ]
  },
  {
   "cell_type": "code",
   "execution_count": null,
   "metadata": {},
   "outputs": [],
   "source": [
    "class MinStack(object):\n",
    "\n",
    "    def __init__(self):\n",
    "        \"\"\"\n",
    "        initialize your data structure here.\n",
    "        \"\"\"\n",
    "        self.stack = []\n",
    "        self.min = None\n",
    "        \n",
    "    def push(self, x):\n",
    "        \"\"\"\n",
    "        :type x: int\n",
    "        :rtype: None\n",
    "        \"\"\"\n",
    "        if self.min is None:\n",
    "            self.min = x\n",
    "        else:\n",
    "            self.min = min(self.min, x)\n",
    "        self.stack.append((self.min, x))\n",
    "\n",
    "    def pop(self):\n",
    "        \"\"\"\n",
    "        :rtype: None\n",
    "        \"\"\"\n",
    "        if self.stack:\n",
    "            self.stack.pop()\n",
    "        if not self.stack:\n",
    "            self.min = None\n",
    "\n",
    "    def top(self):\n",
    "        \"\"\"\n",
    "        :rtype: int\n",
    "        \"\"\"\n",
    "        if self.stack:\n",
    "            return self.stack[-1][1]\n",
    "\n",
    "    def getMin(self):\n",
    "        \"\"\"\n",
    "        :rtype: int\n",
    "        \"\"\"\n",
    "        if self.stack:\n",
    "            return self.stack[-1][0]\n"
   ]
  },
  {
   "cell_type": "markdown",
   "metadata": {},
   "source": [
    "给定 n 个非负整数 a1，a2，...，an，每个数代表坐标中的一个点 (i, ai) 。在坐标内画 n 条垂直线，垂直线 i 的两个端点分别为 (i, ai) 和 (i, 0)。找出其中的两条线，使得它们与 x 轴共同构成的容器可以容纳最多的水。\n",
    "\n",
    "说明：你不能倾斜容器，且 n 的值至少为 2。\n",
    "\n",
    "\n",
    "链接：https://leetcode-cn.com/problems/container-with-most-water"
   ]
  },
  {
   "cell_type": "code",
   "execution_count": 2,
   "metadata": {},
   "outputs": [
    {
     "name": "stdout",
     "output_type": "stream",
     "text": "49\n"
    }
   ],
   "source": [
    "class Solution(object):\n",
    "    \n",
    "    def maxArea(self, height):\n",
    "        \"\"\"\n",
    "        :type height: List[int]\n",
    "        :rtype: int\n",
    "        \"\"\"\n",
    "\n",
    "        length = len(height)\n",
    "        start, end = 0, length - 1\n",
    "        area = 0\n",
    "\n",
    "        while start < end:\n",
    "            area = max(min(height[start], height[end]) * (end-start), area)\n",
    "            if (height[start] < height[end]):\n",
    "                start += 1\n",
    "            else:\n",
    "                end -= 1\n",
    "        return area\n",
    "\n",
    "print(Solution().maxArea([1,8,6,2,5,4,8,3,7]))"
   ]
  },
  {
   "cell_type": "markdown",
   "metadata": {},
   "source": [
    "```给定长度为 n 的整数数组 nums，其中 n > 1，返回输出数组 output ，其中 output[i] 等于 nums 中除 nums[i] 之外其余各元素的乘积。```\n",
    "\n",
    "链接：https://leetcode-cn.com/problems/product-of-array-except-self\n"
   ]
  },
  {
   "cell_type": "code",
   "execution_count": 3,
   "metadata": {},
   "outputs": [],
   "source": [
    "from typing import List\n",
    "\n",
    "\n",
    "\"\"\"\n",
    "作者：QQqun902025048\n",
    "链接：https://leetcode-cn.com/problems/product-of-array-except-self/solution/python-5xing-shuang-zhi-zhen-by-knifezhu/\n",
    "来源：力扣（LeetCode）\n",
    "著作权归作者所有。商业转载请联系作者获得授权，非商业转载请注明出处。\n",
    "\"\"\"\n",
    "\n",
    "\n",
    "class Solution:\n",
    "    def productExceptSelf(self, nums: List[int]) -> List[int]:\n",
    "        res, l, r = [1] * len(nums), 1, 1\n",
    "        for i, j in zip(range(len(nums)), reversed(range(len(nums)))):\n",
    "            res[i], l = res[i] * l, l * nums[i]\n",
    "            res[j], r = res[j] * r, r * nums[j]\n",
    "        return res\n"
   ]
  },
  {
   "cell_type": "markdown",
   "metadata": {},
   "source": [
    "给定一个二叉搜索树, 找到该树中两个指定节点的最近公共祖先。\n",
    "\n",
    "百度百科中最近公共祖先的定义为：“对于有根树 T 的两个结点 p、q，最近公共祖先表示为一个结点 x，满足 x 是 p、q 的祖先且 x 的深度尽可能大（一个节点也可以是它自己的祖先）。”\n",
    "\n",
    "链接：https://leetcode-cn.com/problems/lowest-common-ancestor-of-a-binary-search-tree"
   ]
  },
  {
   "cell_type": "code",
   "execution_count": null,
   "metadata": {},
   "outputs": [],
   "source": [
    "class Solution(object):\n",
    "\n",
    "    def lowestCommonAncestor(self, root, p, q):\n",
    "        \"\"\"\n",
    "        :type root: TreeNode\n",
    "        :type p: TreeNode\n",
    "        :type q: TreeNode\n",
    "        :rtype: TreeNode\n",
    "        \"\"\"\n",
    "        if p < root and q < root:\n",
    "            return self.lowestCommonAncestor(root.left, p, q)\n",
    "\n",
    "        if p > root and q > root:\n",
    "            return self.lowestCommonAncestor(root.right, p, q)\n",
    "\n",
    "        \n"
   ]
  },
  {
   "cell_type": "markdown",
   "metadata": {},
   "source": [
    "给定一个二叉树, 找到该树中两个指定节点的最近公共祖先。\n",
    "\n",
    "百度百科中最近公共祖先的定义为：“对于有根树 T 的两个结点 p、q，最近公共祖先表示为一个结点 x，满足 x 是 p、q 的祖先且 x 的深度尽可能大（一个节点也可以是它自己的祖先）。”\n",
    "\n",
    "链接：https://leetcode-cn.com/problems/lowest-common-ancestor-of-a-binary-tree\n"
   ]
  },
  {
   "cell_type": "code",
   "execution_count": null,
   "metadata": {},
   "outputs": [],
   "source": [
    "class Solution(object):\n",
    "\n",
    "    def __init__(self):\n",
    "        # Variable to store LCA node.\n",
    "        self.ans = None\n",
    "\n",
    "    def lowestCommonAncestor(self, root, p, q):\n",
    "        \"\"\"\n",
    "        :type root: TreeNode\n",
    "        :type p: TreeNode\n",
    "        :type q: TreeNode\n",
    "        :rtype: TreeNode\n",
    "        \"\"\"\n",
    "        def recurse_tree(current_node):\n",
    "\n",
    "            # If reached the end of a branch, return False.\n",
    "            if not current_node:\n",
    "                return False\n",
    "\n",
    "            # Left Recursion\n",
    "            left = recurse_tree(current_node.left)\n",
    "\n",
    "            # Right Recursion\n",
    "            right = recurse_tree(current_node.right)\n",
    "\n",
    "            # If the current node is one of p or q\n",
    "            mid = current_node == p or current_node == q\n",
    "\n",
    "            # If any two of the three flags left, right or mid become True.\n",
    "            if mid + left + right >= 2:\n",
    "                self.ans = current_node\n",
    "\n",
    "            # Return True if either of the three bool values is True.\n",
    "            return mid or left or right\n",
    "\n",
    "        # Traverse the tree\n",
    "        recurse_tree(root)\n",
    "        return self.ans     "
   ]
  },
  {
   "cell_type": "code",
   "execution_count": 8,
   "metadata": {},
   "outputs": [
    {
     "name": "stdout",
     "output_type": "stream",
     "text": "True\nTrue\n"
    }
   ],
   "source": [
    "print(True == 1)\n",
    "print(False == 0)"
   ]
  },
  {
   "cell_type": "markdown",
   "metadata": {},
   "source": [
    "给定一个二叉搜索树，编写一个函数 kthSmallest 来查找其中第 k 个最小的元素。\n",
    "\n",
    "说明：\n",
    "你可以假设 k 总是有效的，1 ≤ k ≤ 二叉搜索树元素个数。\n",
    "\n",
    "链接：https://leetcode-cn.com/problems/kth-smallest-element-in-a-bst\n"
   ]
  },
  {
   "cell_type": "code",
   "execution_count": 10,
   "metadata": {},
   "outputs": [
    {
     "name": "stdout",
     "output_type": "stream",
     "text": "1\n"
    }
   ],
   "source": [
    "# Definition for a binary tree node.\n",
    "class TreeNode(object):\n",
    "    def __init__(self, x):\n",
    "        self.val = x\n",
    "        self.left = None\n",
    "        self.right = None\n",
    "\n",
    "\n",
    "class Solution(object):\n",
    "\n",
    "    def __init__(self):\n",
    "        self.array = []\n",
    "\n",
    "    def retrieve_tree(self, root):\n",
    "        if not root:\n",
    "            return False\n",
    "\n",
    "        self.retrieve_tree(root.left)\n",
    "        self.array.append(root.val)\n",
    "        self.retrieve_tree(root.right)\n",
    "\n",
    "    def kthSmallest(self, root, k):\n",
    "        \"\"\"\n",
    "        :type root: TreeNode\n",
    "        :type k: int\n",
    "        :rtype: int\n",
    "        \"\"\"\n",
    "        self.retrieve_tree(root)\n",
    "        return self.array[k-1]\n",
    "\n",
    "\n",
    "a = TreeNode(3)\n",
    "b = TreeNode(1)\n",
    "c = TreeNode(4)\n",
    "d = TreeNode(2)\n",
    "\n",
    "a.left = b\n",
    "a.right = c\n",
    "b.right = d\n",
    "\n",
    "\n",
    "print(Solution().kthSmallest(a, 1))"
   ]
  },
  {
   "cell_type": "markdown",
   "metadata": {},
   "source": [
    "LRU cache\n"
   ]
  },
  {
   "cell_type": "code",
   "execution_count": 1,
   "metadata": {},
   "outputs": [],
   "source": [
    "from collections import OrderedDict\n",
    "class LRUCache(OrderedDict):\n",
    "\n",
    "    def __init__(self, capacity):\n",
    "        \"\"\"\n",
    "        :type capacity: int\n",
    "        \"\"\"\n",
    "        self.capacity = capacity\n",
    "\n",
    "    def get(self, key):\n",
    "        \"\"\"\n",
    "        :type key: int\n",
    "        :rtype: int\n",
    "        \"\"\"\n",
    "        if key not in self:\n",
    "            return - 1\n",
    "        \n",
    "        self.move_to_end(key)\n",
    "        return self[key]\n",
    "\n",
    "    def put(self, key, value):\n",
    "        \"\"\"\n",
    "        :type key: int\n",
    "        :type value: int\n",
    "        :rtype: void\n",
    "        \"\"\"\n",
    "        if key in self:\n",
    "            self.move_to_end(key)\n",
    "        self[key] = value\n",
    "        if len(self) > self.capacity:\n",
    "            self.popitem(last = False)\n",
    "\n",
    "# LRUCache 对象会以如下语句构造和调用:\n",
    "obj = LRUCache(2)\n",
    "param_1 = obj.get('foo')\n",
    "obj.put('foo',1)\n"
   ]
  },
  {
   "cell_type": "markdown",
   "metadata": {},
   "source": [
    "一个机器人位于一个 m x n 网格的左上角 （起始点在下图中标记为“Start” ）。\n",
    "\n",
    "机器人每次只能向下或者向右移动一步。机器人试图达到网格的右下角（在下图中标记为“Finish”）。\n",
    "\n",
    "问总共有多少条不同的路径？\n",
    "\n",
    "链接：https://leetcode-cn.com/problems/unique-paths"
   ]
  },
  {
   "cell_type": "code",
   "execution_count": 4,
   "metadata": {},
   "outputs": [
    {
     "name": "stdout",
     "output_type": "stream",
     "text": "3\n28\n1\n1\n"
    }
   ],
   "source": [
    "class Solution(object):\n",
    "    def uniquePaths(self, m, n):\n",
    "        \"\"\"\n",
    "        :type m: int\n",
    "        :type n: int\n",
    "        :rtype: int\n",
    "        \"\"\"\n",
    "        if 0 in (m, n):\n",
    "            return 0\n",
    "\n",
    "        if 1 in (m, n):\n",
    "            return 1\n",
    "\n",
    "        dp = [[0] * m for i in range(n)]\n",
    "        for i in range(m):\n",
    "            dp[0][i] = 1\n",
    "        for i in range(n):\n",
    "            dp[i][0] = 1\n",
    "        for i in range(1, n):\n",
    "            for j in range(1, m):\n",
    "                dp[i][j] = dp[i-1][j] + dp[i][j-1]\n",
    "        return dp[n-1][m-1]\n",
    "\n",
    "print(Solution().uniquePaths(3, 2))\n",
    "print(Solution().uniquePaths(7, 3))\n",
    "print(Solution().uniquePaths(1, 3))\n",
    "print(Solution().uniquePaths(3, 1))"
   ]
  },
  {
   "cell_type": "markdown",
   "metadata": {},
   "source": [
    "合并 k 个排序链表，返回合并后的排序链表。请分析和描述算法的复杂度。\n",
    "\n",
    "https://leetcode-cn.com/problems/merge-k-sorted-lists/"
   ]
  },
  {
   "cell_type": "code",
   "execution_count": 4,
   "metadata": {},
   "outputs": [
    {
     "name": "stdout",
     "output_type": "stream",
     "text": "\n"
    }
   ],
   "source": [
    "# Definition for singly-linked list.\n",
    "class ListNode(object):\n",
    "\n",
    "    def __init__(self, x):\n",
    "        self.val = x\n",
    "        self.next = None\n",
    "\n",
    "    def __str__(self):\n",
    "        return '%s' % self.val\n",
    "\n",
    "\n",
    "class Solution(object):\n",
    "\n",
    "    def merge(self, h1, h2):\n",
    "        pre = dummy = ListNode(0)\n",
    "        \n",
    "        while h1 and h2:\n",
    "            if h1.val <= h2.val:\n",
    "                pre.next, h1 = h1, h1.next\n",
    "            else:\n",
    "                pre.next, h2 = h2, h2.next\n",
    "            pre = pre.next\n",
    "        pre.next = h1 if h1 else h2\n",
    "        return dummy.next\n",
    "        \n",
    "    def mergeKLists(self, lists):\n",
    "        \"\"\"\n",
    "        :type lists: List[ListNode]\n",
    "        :rtype: ListNode\n",
    "        \"\"\"\n",
    "        if not len(lists):\n",
    "            return \n",
    "\n",
    "        while len(lists) >= 2:\n",
    "            h1 = lists.pop(0)\n",
    "            h2 = lists.pop(0)\n",
    "            new_head = self.merge(h1, h2)\n",
    "            lists.append(new_head)\n",
    "        return lists[0]\n",
    "\n",
    "a, b, c = ListNode(1), ListNode(4), ListNode(5)\n",
    "a.next, b.next = b, c\n",
    "\n",
    "d, e, f = ListNode(1), ListNode(3), ListNode(4)\n",
    "d.next, e.next = e, f\n",
    "\n",
    "g, h = ListNode(2), ListNode(6)\n",
    "g.next = h\n",
    "\n",
    "def print_link(node):\n",
    "    while node:\n",
    "        print(node, end=' ')\n",
    "        node = node.next\n",
    "    print()\n",
    "\n",
    "print_link(Solution().mergeKLists([]))\n"
   ]
  },
  {
   "cell_type": "markdown",
   "metadata": {},
   "source": [
    "给定一个链表，返回链表开始入环的第一个节点。 如果链表无环，则返回 null。\n",
    "\n",
    "为了表示给定链表中的环，我们使用整数 pos 来表示链表尾连接到链表中的位置（索引从 0 开始）。 如果 pos 是 -1，则在该链表中没有环。\n",
    "\n",
    "说明：不允许修改给定的链表。\n",
    "\n",
    "链接：https://leetcode-cn.com/problems/linked-list-cycle-ii\n"
   ]
  },
  {
   "cell_type": "code",
   "execution_count": 17,
   "metadata": {},
   "outputs": [
    {
     "name": "stdout",
     "output_type": "stream",
     "text": "2\n1\nNone\nNone\n"
    }
   ],
   "source": [
    "# Definition for singly-linked list.\n",
    "class ListNode(object):\n",
    "    def __init__(self, x):\n",
    "        self.val = x\n",
    "        self.next = None\n",
    "\n",
    "    def __str__(self):\n",
    "        return '%s' % self.val        \n",
    "\n",
    "\n",
    "class Solution(object):\n",
    "    def detectCycle(self, head):\n",
    "        \"\"\"\n",
    "        :type head: ListNode\n",
    "        :rtype: ListNode\n",
    "        \"\"\"\n",
    "        if not head or not head.next:\n",
    "            return None\n",
    "\n",
    "        slow, fast = head, head\n",
    "        while fast is not None and fast.next is not None:\n",
    "            slow = slow.next\n",
    "            fast = fast.next.next\n",
    "            if fast == slow:\n",
    "                break\n",
    "\n",
    "        if slow is None:\n",
    "            return None\n",
    "\n",
    "        tmp1, tmp2 = head, slow\n",
    "        while tmp1 != tmp2:\n",
    "            tmp1 = tmp1.next\n",
    "            tmp2 = tmp2.next\n",
    "        return tmp1\n",
    "\n",
    "\n",
    "def print_link(node):\n",
    "    while node:\n",
    "        print(node, end=' ')\n",
    "        node = node.next\n",
    "    print()\n",
    "\n",
    "a, b, c, d = ListNode(3), ListNode(2), ListNode(0), ListNode(-4)\n",
    "a.next, b.next, c.next, d.next = b, c, d, b\n",
    "print(Solution().detectCycle(a))\n",
    "\n",
    "e, f = ListNode(1), ListNode(2)\n",
    "e.next, f.next = f, e\n",
    "print(Solution().detectCycle(e))\n",
    "\n",
    "g = ListNode(1)\n",
    "print(Solution().detectCycle(g))\n",
    "print(Solution().detectCycle(None))"
   ]
  },
  {
   "cell_type": "markdown",
   "metadata": {},
   "source": [
    "给定一个链表，旋转链表，将链表每个节点向右移动 k 个位置，其中 k 是非负数。\n",
    "\n",
    "https://leetcode-cn.com/problems/rotate-list/"
   ]
  },
  {
   "cell_type": "code",
   "execution_count": 27,
   "metadata": {},
   "outputs": [
    {
     "name": "stdout",
     "output_type": "stream",
     "text": "4 5 1 2 3 \n2 0 1 \n0 \n"
    }
   ],
   "source": [
    "class ListNode(object):\n",
    "    def __init__(self, x):\n",
    "        self.val = x\n",
    "        self.next = None\n",
    "\n",
    "    def __str__(self):\n",
    "        return '%s' % self.val      \n",
    "\n",
    "\n",
    "class Solution(object):\n",
    "\n",
    "    def getLinkLength(self, head):\n",
    "        length = 0\n",
    "        while head:\n",
    "            head = head.next\n",
    "            length += 1\n",
    "        return length\n",
    "    \n",
    "    def reverseLink(self, head):\n",
    "        pre, cur = None, head\n",
    "\n",
    "        while cur:\n",
    "            tmp = cur.next\n",
    "            cur.next = pre\n",
    "            pre = cur\n",
    "            cur = tmp\n",
    "\n",
    "        return pre\n",
    "\n",
    "    def rotateRight(self, head, k):\n",
    "        \"\"\"\n",
    "        :type head: ListNode\n",
    "        :type k: int\n",
    "        :rtype: ListNode\n",
    "        \"\"\"\n",
    "        if not head:\n",
    "            return \n",
    "\n",
    "        length = self.getLinkLength(head)\n",
    "        reverse_head = self.reverseLink(head)\n",
    "\n",
    "        step = k % length\n",
    "        while step:\n",
    "            head.next = reverse_head\n",
    "            head = reverse_head\n",
    "\n",
    "            tmp = reverse_head.next\n",
    "            reverse_head.next = None\n",
    "            reverse_head = tmp\n",
    "\n",
    "            step -= 1\n",
    "\n",
    "        return self.reverseLink(reverse_head)\n",
    "\n",
    "def print_link(node):\n",
    "    while node:\n",
    "        print(node, end=' ')\n",
    "        node = node.next\n",
    "    print()\n",
    "\n",
    "a, b, c, d, e = ListNode(1), ListNode(2), ListNode(3), ListNode(4), ListNode(5)\n",
    "a.next, b.next, c.next, d.next = b, c, d, e\n",
    "print_link(Solution().rotateRight(a, 2))\n",
    "\n",
    "f, g, h = ListNode(0), ListNode(1), ListNode(2)\n",
    "f.next, g.next = g, h\n",
    "print_link(Solution().rotateRight(f, 4))\n",
    "\n",
    "i = ListNode(0)\n",
    "print_link(Solution().rotateRight(i, 2000000))"
   ]
  },
  {
   "cell_type": "code",
   "execution_count": 28,
   "metadata": {},
   "outputs": [
    {
     "data": {
      "text/plain": "2"
     },
     "execution_count": 28,
     "metadata": {},
     "output_type": "execute_result"
    }
   ],
   "source": [
    "2 % 5"
   ]
  },
  {
   "cell_type": "markdown",
   "metadata": {},
   "source": [
    "给定一个包括 n 个整数的数组 nums 和 一个目标值 target。找出 nums 中的三个整数，使得它们的和与 target 最接近。返回这三个数的和。假定每组输入只存在唯一答案。\n",
    "\n",
    "链接：https://leetcode-cn.com/problems/3sum-closest\n"
   ]
  },
  {
   "cell_type": "code",
   "execution_count": 9,
   "metadata": {},
   "outputs": [
    {
     "name": "stdout",
     "output_type": "stream",
     "text": "0 0\n1 0\n2 0\n3 0\n-2 0\n-1 0\n0 0\n0 0\n1 0\n2 0\n-5 0\n-4 0\n-3 0\n-3 0\n-2 0\n-1 0\n-6 0\n-5 0\n-4 0\n-3 0\n0\n"
    }
   ],
   "source": [
    "class Solution(object):\n",
    "    \n",
    "    def threeSumClosest(self, nums, target):\n",
    "        \"\"\"\n",
    "        :type nums: List[int]\n",
    "        :type target: int\n",
    "        :rtype: int\n",
    "        \"\"\"\n",
    "        length = len(nums)\n",
    "        if length < 3:\n",
    "            return \n",
    "\n",
    "        ret = None\n",
    "        endValue = 1 << length\n",
    "\n",
    "        for i in range(endValue):\n",
    "            valid_bin_str = [bit for bit in '{0:2b}'.format(i) if bit == '1']\n",
    "            if len(valid_bin_str) != 3:\n",
    "                continue\n",
    "\n",
    "            tmp_sum = 0\n",
    "            for idx in range(length):\n",
    "                if ((1 << idx) & i):\n",
    "                    tmp_sum += nums[idx]\n",
    "            \n",
    "            print(tmp_sum, target)\n",
    "            if ret is None:\n",
    "                ret = tmp_sum\n",
    "            else:\n",
    "                ret = ret if abs(ret-target) < abs(tmp_sum-target) else tmp_sum\n",
    "        return ret\n",
    "\n",
    "print(Solution().threeSumClosest([-1,0,1,2,-1,-4], 0))\n"
   ]
  },
  {
   "cell_type": "code",
   "execution_count": 1,
   "metadata": {},
   "outputs": [
    {
     "data": {
      "text/plain": "'110'"
     },
     "execution_count": 1,
     "metadata": {},
     "output_type": "execute_result"
    }
   ],
   "source": [
    "'{0:2b}'.format(6)"
   ]
  },
  {
   "cell_type": "markdown",
   "metadata": {},
   "source": [
    "给你一个包含 n 个整数的数组 nums，判断 nums 中是否存在三个元素 a，b，c ，使得 a + b + c = 0 ？请你找出所有满足条件且不重复的三元组。\n",
    "\n",
    "注意：答案中不可以包含重复的三元组。\n",
    "\n",
    "链接：https://leetcode-cn.com/problems/3sum"
   ]
  },
  {
   "cell_type": "code",
   "execution_count": 21,
   "metadata": {},
   "outputs": [
    {
     "name": "stdout",
     "output_type": "stream",
     "text": "[[-1, -1, 2], [-1, 0, 1]]\n[[-1, 0, 1]]\n[[0, 0, 0]]\n[[-2, -1, 3], [-2, 0, 2], [-1, 0, 1]]\n"
    }
   ],
   "source": [
    "class Solution(object):\n",
    "\n",
    "    def threeSum(self, nums):\n",
    "        \"\"\"\n",
    "        :type nums: List[int]\n",
    "        :rtype: List[List[int]]\n",
    "        \"\"\"\n",
    "        length = len(nums)\n",
    "        if length < 3:\n",
    "            return []\n",
    "\n",
    "        nums.sort()\n",
    "        ret = []\n",
    "\n",
    "        for i in range(length):\n",
    "            if(nums[i]>0):\n",
    "                return ret\n",
    "            if(i>0 and nums[i]==nums[i-1]):\n",
    "                continue\n",
    "\n",
    "            start, end = i + 1, length - 1\n",
    "            while start < end:\n",
    "                tmp_sum = nums[start] + nums[end]\n",
    "                if nums[i] + tmp_sum == 0:\n",
    "                    ret.append([nums[i], nums[start], nums[end]])\n",
    "                    while (start < end and nums[start] == nums[start+1]):\n",
    "                        start += 1\n",
    "                    while (start < end and nums[end] == nums[end-1]):\n",
    "                        end -= 1\n",
    "                    start += 1\n",
    "                    end -= 1\n",
    "                elif nums[i] + tmp_sum > 0:\n",
    "                    end -= 1\n",
    "                else:\n",
    "                    start += 1 \n",
    "        return ret\n",
    "\n",
    "print(Solution().threeSum([-1, 0, 1, 2, -1, -4]))   \n",
    "print(Solution().threeSum([1,-1,-1,0]))      \n",
    "print(Solution().threeSum([0,0,0,0]))  \n",
    "print(Solution().threeSum([3,0,-2,-1,1,2]))       "
   ]
  },
  {
   "cell_type": "markdown",
   "metadata": {},
   "source": [
    "给定一个非空二叉树，返回其最大路径和。\n",
    "\n",
    "本题中，路径被定义为一条从树中任意节点出发，达到任意节点的序列。该路径至少包含一个节点，且不一定经过根节点。"
   ]
  },
  {
   "cell_type": "code",
   "execution_count": 7,
   "metadata": {},
   "outputs": [
    {
     "name": "stdout",
     "output_type": "stream",
     "text": "42\n6\n2\n-inf\n"
    }
   ],
   "source": [
    "class TreeNode(object):\n",
    "    def __init__(self, x):\n",
    "        self.val = x\n",
    "        self.left = None\n",
    "        self.right = None\n",
    "\n",
    "\n",
    "class Solution(object):\n",
    "\n",
    "    def __init__(self):\n",
    "        self.max_sum = float('-inf')\n",
    "\n",
    "    def max_gain(self, root):\n",
    "        if not root:\n",
    "            return 0\n",
    "        left = max(self.max_gain(root.left), 0)\n",
    "        right = max(self.max_gain(root.right), 0)\n",
    "\n",
    "        cur_sum = root.val + left + right\n",
    "        self.max_sum = max(self.max_sum, cur_sum)\n",
    "        return root.val + max(left, right)\n",
    "\n",
    "    def maxPathSum(self, root):\n",
    "        \"\"\"\n",
    "        :type root: TreeNode\n",
    "        :rtype: int\n",
    "        \"\"\"\n",
    "        self.max_gain(root)\n",
    "        return self.max_sum\n",
    "\n",
    "a, b, c, d, e = TreeNode(-10), TreeNode(9), TreeNode(20), TreeNode(15), TreeNode(7)\n",
    "a.left, a.right = b, c\n",
    "c.left, c.right = d, e\n",
    "print(Solution().maxPathSum(a))\n",
    "\n",
    "f, g, h = TreeNode(1), TreeNode(2), TreeNode(3)\n",
    "f.left, f.right = g, h\n",
    "print(Solution().maxPathSum(f))\n",
    "\n",
    "i = TreeNode(2)\n",
    "print(Solution().maxPathSum(i))\n",
    "\n",
    "print(Solution().maxPathSum(None))"
   ]
  },
  {
   "cell_type": "code",
   "execution_count": 3,
   "metadata": {},
   "outputs": [
    {
     "data": {
      "text/plain": "-inf"
     },
     "execution_count": 3,
     "metadata": {},
     "output_type": "execute_result"
    }
   ],
   "source": [
    "float('-inf')"
   ]
  },
  {
   "cell_type": "code",
   "execution_count": null,
   "metadata": {},
   "outputs": [],
   "source": []
  }
 ]
}