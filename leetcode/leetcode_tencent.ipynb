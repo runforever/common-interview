{
 "nbformat": 4,
 "nbformat_minor": 2,
 "metadata": {
  "language_info": {
   "name": "python",
   "codemirror_mode": {
    "name": "ipython",
    "version": 3
   },
   "version": "3.7.5-final"
  },
  "orig_nbformat": 2,
  "file_extension": ".py",
  "mimetype": "text/x-python",
  "name": "python",
  "npconvert_exporter": "python",
  "pygments_lexer": "ipython3",
  "version": 3,
  "kernelspec": {
   "name": "python37564bitmoonjhp2p8invirtualenv0a40430fb9904e8ead4402bac3e206e2",
   "display_name": "Python 3.7.5 64-bit ('moon-jhP2p8in': virtualenv)"
  }
 },
 "cells": [
  {
   "cell_type": "markdown",
   "metadata": {},
   "source": [
    "## 判断一个数是否为 2 的幂"
   ]
  },
  {
   "cell_type": "code",
   "execution_count": 3,
   "metadata": {},
   "outputs": [
    {
     "name": "stdout",
     "output_type": "stream",
     "text": "1\n10\n100\n1000\n10000\n100000\n1000000\n10000000\n100000000\n1000000000\n"
    }
   ],
   "source": [
    "for i in range(10):\n",
    "    print('{0:b}'.format(2**i))"
   ]
  },
  {
   "cell_type": "code",
   "execution_count": 14,
   "metadata": {},
   "outputs": [
    {
     "name": "stdout",
     "output_type": "stream",
     "text": "-10000\n"
    }
   ],
   "source": [
    "print('{0:b}'.format(-16))"
   ]
  },
  {
   "cell_type": "code",
   "execution_count": 9,
   "metadata": {},
   "outputs": [],
   "source": [
    "class Solution(object):\n",
    "    def isPowerOfTwo(self, n):\n",
    "        \"\"\"\n",
    "        :type n: int\n",
    "        :rtype: bool\n",
    "        \"\"\"\n",
    "        if n <= 0:\n",
    "            return False\n",
    "        bin_str = '{0:b}'.format(n)\n",
    "        return True if len([char for char in bin_str if char == '1']) == 1 else False"
   ]
  },
  {
   "cell_type": "code",
   "execution_count": 13,
   "metadata": {},
   "outputs": [
    {
     "name": "stdout",
     "output_type": "stream",
     "text": "True\n"
    }
   ],
   "source": [
    "print(Solution().isPowerOfTwo(128))"
   ]
  },
  {
   "cell_type": "markdown",
   "metadata": {},
   "source": [
    "## 判断一个数是否是回文"
   ]
  },
  {
   "cell_type": "code",
   "execution_count": 51,
   "metadata": {},
   "outputs": [
    {
     "name": "stdout",
     "output_type": "stream",
     "text": "True\n"
    }
   ],
   "source": [
    "foo = 1\n",
    "foo = str(foo)\n",
    "foo_length = len(foo)\n",
    "\n",
    "start, end = -1, foo_length\n",
    "for i in range(foo_length):\n",
    "    start = start + 1\n",
    "    end = end - 1\n",
    "    start_char = foo[start]\n",
    "    end_char = foo[end]\n",
    "\n",
    "    if start_char != end_char:\n",
    "        print(False)\n",
    "        break\n",
    "\n",
    "    if start + 1 == end:\n",
    "        print(True)\n",
    "        break\n",
    "\n",
    "    if start == end:\n",
    "        print(True)\n",
    "        break\n"
   ]
  },
  {
   "cell_type": "code",
   "execution_count": 53,
   "metadata": {},
   "outputs": [],
   "source": [
    "class Solution(object):\n",
    "    def isPalindrome(self, foo):\n",
    "        \"\"\"\n",
    "        :type x: int\n",
    "        :rtype: bool\n",
    "        \"\"\"\n",
    "        foo = str(foo)\n",
    "        foo_length = len(foo)\n",
    "\n",
    "        start, end = -1, foo_length\n",
    "        for i in range(foo_length):\n",
    "            start = start + 1\n",
    "            end = end - 1\n",
    "            start_char = foo[start]\n",
    "            end_char = foo[end]\n",
    "            if start_char != end_char:\n",
    "                return False\n",
    "\n",
    "            if start + 1 == end:\n",
    "                return True\n",
    "\n",
    "            if start == end:\n",
    "                return True\n"
   ]
  },
  {
   "cell_type": "code",
   "execution_count": 55,
   "metadata": {},
   "outputs": [
    {
     "name": "stdout",
     "output_type": "stream",
     "text": "False\n"
    }
   ],
   "source": [
    "print(Solution().isPalindrome(-121))"
   ]
  },
  {
   "cell_type": "markdown",
   "metadata": {},
   "source": [
    "给出两个 非空 的链表用来表示两个非负的整数。其中，它们各自的位数是按照 逆序 的方式存储的，并且它们的每个节点只能存储 一位 数字。如果，我们将这两个数相加起来，则会返回一个新的链表来表示它们的和。您可以假设除了数字 0 之外，这两个数都不会以 0 开头。\n",
    "\n",
    "https://leetcode-cn.com/problems/add-two-numbers/\n"
   ]
  },
  {
   "cell_type": "code",
   "execution_count": 29,
   "metadata": {},
   "outputs": [
    {
     "name": "stdout",
     "output_type": "stream",
     "text": "2 4 3 \n5 6 4 \n7 0 8 \n"
    }
   ],
   "source": [
    "class ListNode:\n",
    "\n",
    "    def __init__(self, val):\n",
    "        self.val = val\n",
    "        self.next = None\n",
    "\n",
    "    def __str__(self):\n",
    "        return '%s' % self.val\n",
    "\n",
    "    \n",
    "def print_link(node):\n",
    "    while node:\n",
    "        print(node, end=' ')\n",
    "        node = node.next\n",
    "    print()\n",
    "\n",
    "\n",
    "class Solution(object):\n",
    "    def addTwoNumbers(self, l1, l2):\n",
    "        \"\"\"\n",
    "        :type l1: ListNode\n",
    "        :type l2: ListNode\n",
    "        :rtype: ListNode\n",
    "        \"\"\"\n",
    "        if l1 is None or l2 is None:\n",
    "            return l1 or l2\n",
    "\n",
    "        node1, node2 = l1, l2\n",
    "        temp_node = result_node = ListNode(0)\n",
    "\n",
    "        while node1 or node2:\n",
    "            node1_val = node1.val if node1 else 0\n",
    "            node2_val = node2.val if node2 else 0\n",
    "\n",
    "            temp_sum = node1_val + node2_val + temp_node.val\n",
    "            if temp_sum >= 10:\n",
    "                new_node_val = 1\n",
    "                temp_sum = temp_sum % 10\n",
    "            else:\n",
    "                new_node_val = 0\n",
    "\n",
    "            temp_node.val = temp_sum\n",
    "\n",
    "            if node1:\n",
    "                node1 = node1.next\n",
    "\n",
    "            if node2:\n",
    "                node2 = node2.next\n",
    "\n",
    "            if new_node_val:\n",
    "                new_node = ListNode(1)\n",
    "            elif node1 or node2:\n",
    "                new_node = ListNode(0)\n",
    "            else:\n",
    "                new_node = None\n",
    "\n",
    "            temp_node.next = new_node\n",
    "            temp_node = temp_node.next\n",
    "            \n",
    "        return result_node\n",
    "\n",
    "\n",
    "a = ListNode(2)\n",
    "b = ListNode(4)\n",
    "c = ListNode(3)\n",
    "\n",
    "a.next = b\n",
    "b.next = c\n",
    "\n",
    "d = ListNode(5)\n",
    "e = ListNode(6)\n",
    "f = ListNode(4)\n",
    "\n",
    "d.next = e\n",
    "e.next = f\n",
    "\n",
    "print_link(a)\n",
    "print_link(d)\n",
    "link_sum = Solution().addTwoNumbers(a, d)\n",
    "print_link(link_sum)"
   ]
  },
  {
   "cell_type": "markdown",
   "metadata": {},
   "source": [
    "编写一个函数来查找字符串数组中的最长公共前缀。\n",
    "\n",
    "如果不存在公共前缀，返回空字符串 \"\"\n",
    "\n",
    "https://leetcode-cn.com/problems/longest-common-prefix/\n"
   ]
  },
  {
   "cell_type": "code",
   "execution_count": 61,
   "metadata": {},
   "outputs": [
    {
     "name": "stdout",
     "output_type": "stream",
     "text": "\n"
    }
   ],
   "source": [
    "strs =  [\"dog\",\"racecar\",\"car\"]\n",
    "length = len(strs)\n",
    "if length == 0 or '' in strs:\n",
    "    print('')\n",
    "if length == 1:\n",
    "    print(strs[0])\n",
    "i = 0\n",
    "char = ''\n",
    "max_length = 0\n",
    "loop = True\n",
    "while 1:\n",
    "    for idx, string in enumerate(strs):\n",
    "        if i >= len(string):\n",
    "            loop = False\n",
    "            break\n",
    "\n",
    "        if idx == 0:\n",
    "            char = string[i]\n",
    "            continue\n",
    "\n",
    "        if char != string[i]:\n",
    "            loop = False\n",
    "            break\n",
    "    if loop:\n",
    "        max_length += 1\n",
    "        i += 1\n",
    "    else:\n",
    "        break\n",
    "print(strs[0][:max_length])\n",
    "\n",
    "\n"
   ]
  },
  {
   "cell_type": "code",
   "execution_count": 47,
   "metadata": {},
   "outputs": [
    {
     "data": {
      "text/plain": "''"
     },
     "execution_count": 47,
     "metadata": {},
     "output_type": "execute_result"
    }
   ],
   "source": [
    "foo = \"abc\"\n",
    "bar = foo[:0]\n",
    "bar"
   ]
  },
  {
   "cell_type": "markdown",
   "metadata": {},
   "source": [
    "给定一个非空整数数组，除了某个元素只出现一次以外，其余每个元素均出现两次。找出那个只出现了一次的元素。\n",
    "\n",
    "https://leetcode-cn.com/problems/single-number/"
   ]
  },
  {
   "cell_type": "code",
   "execution_count": 20,
   "metadata": {},
   "outputs": [],
   "source": [
    "class Solution(object):\n",
    "    def singleNumber(self, nums):\n",
    "        \"\"\"\n",
    "        :type nums: List[int]\n",
    "        :rtype: int\n",
    "        \"\"\"\n",
    "        nums.sort()\n",
    "        length = len(nums)\n",
    "        for i in range(0, length, 2):\n",
    "            if i+1 < length and nums[i] == nums[i+1]:\n",
    "                continue\n",
    "            return nums[i]\n",
    "\n"
   ]
  },
  {
   "cell_type": "code",
   "execution_count": 22,
   "metadata": {},
   "outputs": [
    {
     "name": "stdout",
     "output_type": "stream",
     "text": "4\n1\n"
    }
   ],
   "source": [
    "print(Solution().singleNumber([4,1,2,1,2]))\n",
    "print(Solution().singleNumber([2,2,1]))"
   ]
  },
  {
   "cell_type": "code",
   "execution_count": 14,
   "metadata": {},
   "outputs": [
    {
     "name": "stdout",
     "output_type": "stream",
     "text": "[1, 1, 2, 2, 4]\n"
    }
   ],
   "source": [
    "foo = [4,1,2,1,2]\n",
    "foo.sort()\n",
    "print(foo)"
   ]
  },
  {
   "cell_type": "markdown",
   "metadata": {},
   "source": [
    "给定一个排序数组，你需要在原地删除重复出现的元素，使得每个元素只出现一次，返回移除后数组的新长度。\n",
    "\n",
    "不要使用额外的数组空间，你必须在原地修改输入数组并在使用 O(1) 额外空间的条件下完成。\n",
    "\n",
    "链接：https://leetcode-cn.com/problems/remove-duplicates-from-sorted-array\n",
    "\n",
    "\n"
   ]
  },
  {
   "cell_type": "code",
   "execution_count": 29,
   "metadata": {},
   "outputs": [],
   "source": [
    "class Solution(object):\n",
    "    def removeDuplicates(self, nums):\n",
    "        \"\"\"\n",
    "        :type nums: List[int]\n",
    "        :rtype: int\n",
    "        \"\"\"\n",
    "        length = len(nums)\n",
    "        i = 0\n",
    "        while i < length:\n",
    "            if i+1 < length and nums[i] == nums[i+1]:\n",
    "                del nums[i]\n",
    "            else:\n",
    "                i = i+1\n",
    "            length = len(nums)\n",
    "        return i"
   ]
  },
  {
   "cell_type": "code",
   "execution_count": 31,
   "metadata": {},
   "outputs": [
    {
     "name": "stdout",
     "output_type": "stream",
     "text": "2\n"
    }
   ],
   "source": [
    "print(Solution().removeDuplicates([1,1,2]))"
   ]
  },
  {
   "cell_type": "markdown",
   "metadata": {},
   "source": [
    "给定一个只包括 '('，')'，'{'，'}'，'['，']' 的字符串，判断字符串是否有效。\n",
    "\n",
    "有效字符串需满足：\n",
    "\n",
    "左括号必须用相同类型的右括号闭合。\n",
    "左括号必须以正确的顺序闭合。\n",
    "注意空字符串可被认为是有效字符串。\n",
    "\n",
    "链接：https://leetcode-cn.com/problems/valid-parentheses\n"
   ]
  },
  {
   "cell_type": "code",
   "execution_count": 51,
   "metadata": {},
   "outputs": [],
   "source": [
    "class Solution(object):\n",
    "    def isValid(self, s):\n",
    "        \"\"\"\n",
    "        :type s: str\n",
    "        :rtype: bool\n",
    "        \"\"\"\n",
    "        stack = []\n",
    "        for char in s:\n",
    "            if char in ('(', '[', '{'):\n",
    "                stack.append(char)\n",
    "            if char in (')', ']', '}') and not stack:\n",
    "                return False\n",
    "                \n",
    "            if char == ')':\n",
    "                left = stack.pop()\n",
    "                if left != '(':\n",
    "                    return False\n",
    "            if char == ']':\n",
    "                left = stack.pop()\n",
    "                if left != '[':\n",
    "                    return False\n",
    "            if char == '}':\n",
    "                left = stack.pop()\n",
    "                if left != '{':\n",
    "                    return False\n",
    "        return False if stack else True"
   ]
  },
  {
   "cell_type": "code",
   "execution_count": 52,
   "metadata": {},
   "outputs": [
    {
     "name": "stdout",
     "output_type": "stream",
     "text": "True\nTrue\nFalse\nTrue\nTrue\nFalse\nFalse\n"
    }
   ],
   "source": [
    "print(Solution().isValid(\"()\"))\n",
    "print(Solution().isValid(\"()[]{}\"))\n",
    "print(Solution().isValid(\"([)]\"))\n",
    "print(Solution().isValid(\"([])\"))\n",
    "print(Solution().isValid(\"\"))\n",
    "print(Solution().isValid(\"[\"))\n",
    "print(Solution().isValid(\"]\"))"
   ]
  },
  {
   "cell_type": "markdown",
   "metadata": {},
   "source": [
    "给定一个二叉树，找出其最大深度。\n",
    "\n",
    "二叉树的深度为根节点到最远叶子节点的最长路径上的节点数。\n",
    "\n",
    "说明: 叶子节点是指没有子节点的节点。\n",
    "\n",
    "https://leetcode-cn.com/problems/maximum-depth-of-binary-tree/"
   ]
  },
  {
   "cell_type": "code",
   "execution_count": 62,
   "metadata": {},
   "outputs": [
    {
     "name": "stdout",
     "output_type": "stream",
     "text": "3\n"
    }
   ],
   "source": [
    "# Definition for a binary tree node.\n",
    "class TreeNode(object):\n",
    "    def __init__(self, x):\n",
    "        self.val = x\n",
    "        self.left = None\n",
    "        self.right = None\n",
    "\n",
    "    def __str__(self):\n",
    "        return '%s' % self.val\n",
    "\n",
    "\n",
    "class Solution(object):\n",
    "    def maxDepth(self, root):\n",
    "        \"\"\"\n",
    "        :type root: TreeNode\n",
    "        :rtype: int\n",
    "        \"\"\"\n",
    "\n",
    "        if root is None:\n",
    "            return 0\n",
    "\n",
    "        left = self.maxDepth(root.left)\n",
    "        right = self.maxDepth(root.right)\n",
    "        left_deepth = 1 + left\n",
    "        right_deepth = 1 + right\n",
    "        deepth = max(left_deepth, right_deepth)\n",
    "        return deepth\n",
    "\n",
    "a = TreeNode(3)\n",
    "b = TreeNode(9)\n",
    "c = TreeNode(20)\n",
    "d = TreeNode(15)\n",
    "e = TreeNode(7)\n",
    "\n",
    "a.left = b\n",
    "a.right = c\n",
    "c.left = d\n",
    "c.right = e\n",
    "\n",
    "print(Solution().maxDepth(a))"
   ]
  },
  {
   "cell_type": "markdown",
   "metadata": {},
   "source": [
    "给定一个数组，它的第 i 个元素是一支给定股票第 i 天的价格。\n",
    "\n",
    "如果你最多只允许完成一笔交易（即买入和卖出一支股票），设计一个算法来计算你所能获取的最大利润。\n",
    "\n",
    "注意你不能在买入股票前卖出股票。\n",
    "\n",
    "链接：https://leetcode-cn.com/problems/best-time-to-buy-and-sell-stock\n"
   ]
  },
  {
   "cell_type": "code",
   "execution_count": 116,
   "metadata": {},
   "outputs": [
    {
     "name": "stdout",
     "output_type": "stream",
     "text": "5\n0\n5\n4\n2\n0\n0\n"
    }
   ],
   "source": [
    "class Solution(object):\n",
    "\n",
    "    def maxProfit(self, prices):\n",
    "        \"\"\"\n",
    "        :type prices: List[int]\n",
    "        :rtype: int\n",
    "        \"\"\"\n",
    "        length = len(prices)\n",
    "        max_profit = 0\n",
    "\n",
    "        for i in range(length):\n",
    "            buy_price = prices[i]\n",
    "            for j in range(i+1, length):\n",
    "                max_profit = max(prices[j]-prices[i], max_profit)\n",
    "        return max_profit\n",
    "\n",
    "\n",
    "class Solution(object):\n",
    "\n",
    "    def maxProfit(self, prices):\n",
    "        \"\"\"\n",
    "        :type prices: List[int]\n",
    "        :rtype: int\n",
    "        \"\"\"\n",
    "\n",
    "        if len(prices) <= 1:\n",
    "            return 0\n",
    "            \n",
    "        min_buy = prices[0]\n",
    "        max_profit = 0\n",
    "\n",
    "        for i in prices:\n",
    "            min_buy = min(i, min_buy)\n",
    "            max_profit = max(max_profit, i-min_buy)\n",
    "        return max_profit\n",
    "\n",
    "\n",
    "\n",
    "print(Solution().maxProfit([7,1,5,3,6,4]))\n",
    "print(Solution().maxProfit([7,6,4,3,1]))\n",
    "print(Solution().maxProfit([1, 6]))\n",
    "print(Solution().maxProfit([7, 3, 6, 1, 3, 5]))\n",
    "print(Solution().maxProfit([2,1,2,1,0,1,2]))\n",
    "print(Solution().maxProfit([1]))\n",
    "print(Solution().maxProfit([]))"
   ]
  },
  {
   "cell_type": "code",
   "execution_count": 87,
   "metadata": {},
   "outputs": [
    {
     "data": {
      "text/plain": "[-1, -2, -3, -4, -5, -6]"
     },
     "execution_count": 87,
     "metadata": {},
     "output_type": "execute_result"
    }
   ],
   "source": [
    "list(range(-1, -7, -1))"
   ]
  },
  {
   "cell_type": "markdown",
   "metadata": {},
   "source": [
    "给定一个数组，它的第 i 个元素是一支给定股票第 i 天的价格。\n",
    "\n",
    "设计一个算法来计算你所能获取的最大利润。你可以尽可能地完成更多的交易（多次买卖一支股票）。\n",
    "\n",
    "注意：你不能同时参与多笔交易（你必须在再次购买前出售掉之前的股票）。\n",
    "\n",
    "来源：力扣（LeetCode）\n",
    "\n",
    "链接：https://leetcode-cn.com/problems/best-time-to-buy-and-sell-stock-ii\n",
    "\n",
    "```\n",
    "class Solution:\n",
    "    def maxProfit(self, prices: List[int]) -> int:\n",
    "        profit = 0\n",
    "        for i in range(1, len(prices)):\n",
    "            tmp = prices[i] - prices[i - 1]\n",
    "            if tmp > 0: profit += tmp\n",
    "        return profit\n",
    "\n",
    "作者：jyd\n",
    "链接：https://leetcode-cn.com/problems/best-time-to-buy-and-sell-stock-ii/solution/best-time-to-buy-and-sell-stock-ii-zhuan-hua-fa-ji/\n",
    "来源：力扣（LeetCode）\n",
    "著作权归作者所有。商业转载请联系作者获得授权，非商业转载请注明出处。\n",
    "```\n"
   ]
  },
  {
   "cell_type": "code",
   "execution_count": 120,
   "metadata": {},
   "outputs": [
    {
     "name": "stdout",
     "output_type": "stream",
     "text": "7\n"
    }
   ],
   "source": [
    "class Solution:\n",
    "    def maxProfit(self, prices):\n",
    "        profit = 0\n",
    "        for i in range(1, len(prices)):\n",
    "            tmp = prices[i] - prices[i - 1]\n",
    "            if tmp > 0: \n",
    "                profit += tmp\n",
    "        return profit\n",
    "\n",
    "\n",
    "print(Solution().maxProfit([7,1,5,3,6,4]))"
   ]
  },
  {
   "cell_type": "markdown",
   "metadata": {},
   "source": [
    "给定两个有序整数数组 nums1 和 nums2，将 nums2 合并到 nums1 中，使得 num1 成为一个有序数组。\n",
    "\n",
    "说明:\n",
    "\n",
    "初始化 nums1 和 nums2 的元素数量分别为 m 和 n。\n",
    "你可以假设 nums1 有足够的空间（空间大小大于或等于 m + n）来保存 nums2 中的元素。\n",
    "\n",
    "链接：https://leetcode-cn.com/problems/merge-sorted-array\n"
   ]
  },
  {
   "cell_type": "code",
   "execution_count": 36,
   "metadata": {},
   "outputs": [
    {
     "name": "stdout",
     "output_type": "stream",
     "text": "[1, 2, 2, 3, 5, 6]\n[2, 5, 6]\n[1, 2, 3]\n[]\n"
    }
   ],
   "source": [
    "class Solution(object):\n",
    "    def merge(self, nums1, m, nums2, n):\n",
    "        \"\"\"\n",
    "        :type nums1: List[int]\n",
    "        :type m: int\n",
    "        :type nums2: List[int]\n",
    "        :type n: int\n",
    "        :rtype: None Do not return anything, modify nums1 in-place instead.\n",
    "        \"\"\"\n",
    "        i = j = 0\n",
    "\n",
    "        while j < n:\n",
    "            \n",
    "            if i < len(nums1) and nums1[i] <= nums2[j]:                \n",
    "                i += 1\n",
    "            else:\n",
    "                nums1.insert(i, nums2[j])\n",
    "                j += 1\n",
    "\n",
    "\n",
    "class Solution(object):\n",
    "    def merge(self, nums1, m, nums2, n):\n",
    "        \"\"\"\n",
    "        :type nums1: List[int]\n",
    "        :type m: int\n",
    "        :type nums2: List[int]\n",
    "        :type n: int\n",
    "        :rtype: None Do not return anything, modify nums1 in-place instead.\n",
    "        \"\"\"\n",
    "        for i in range(m+n):\n",
    "            if i < n:\n",
    "                nums1[m+i] = nums2[i]\n",
    "        nums1.sort()\n",
    "\n",
    "\n",
    "nums1 = [1, 2, 3, 0, 0, 0]\n",
    "Solution().merge(nums1, 3, [2, 5, 6], 3)\n",
    "print(nums1)\n",
    "\n",
    "nums1 = [0, 0, 0]\n",
    "Solution().merge(nums1, 0, [2, 5, 6], 3)\n",
    "print(nums1)\n",
    "\n",
    "nums1 = [1, 2, 3]\n",
    "Solution().merge(nums1, 3, [], 0)\n",
    "print(nums1)\n",
    "\n",
    "nums1 = []\n",
    "Solution().merge(nums1, 0, [], 0)\n",
    "print(nums1)"
   ]
  },
  {
   "cell_type": "code",
   "execution_count": 23,
   "metadata": {},
   "outputs": [
    {
     "name": "stdout",
     "output_type": "stream",
     "text": "[1, 2]\n"
    }
   ],
   "source": [
    "def foo(a):\n",
    "    a = a[1:]\n",
    "\n",
    "b = [1, 2]\n",
    "foo(b)\n",
    "\n",
    "print(b)"
   ]
  },
  {
   "cell_type": "markdown",
   "metadata": {},
   "source": [
    "给定一个整数数组，判断是否存在重复元素。\n",
    "\n",
    "如果任何值在数组中出现至少两次，函数返回 true。如果数组中每个元素都不相同，则返回 false。\n",
    "\n",
    "https://leetcode-cn.com/problems/contains-duplicate/"
   ]
  },
  {
   "cell_type": "code",
   "execution_count": 41,
   "metadata": {},
   "outputs": [
    {
     "name": "stdout",
     "output_type": "stream",
     "text": "True\nFalse\nTrue\nFalse\nTrue\n"
    }
   ],
   "source": [
    "class Solution(object):\n",
    "    def containsDuplicate(self, nums):\n",
    "        \"\"\"\n",
    "        :type nums: List[int]\n",
    "        :rtype: bool\n",
    "        \"\"\"\n",
    "\n",
    "        nums.sort()\n",
    "        for i in range(len(nums)-1):\n",
    "            if nums[i] == nums[i+1]:\n",
    "                return True\n",
    "        return False\n",
    "\n",
    "\n",
    "print(Solution().containsDuplicate([1,2,3,1]))\n",
    "print(Solution().containsDuplicate([1,2,3,4]))\n",
    "print(Solution().containsDuplicate([1,1,1,3,3,4,3,2,4,2]))\n",
    "print(Solution().containsDuplicate([]))\n",
    "print(Solution().containsDuplicate([1, 1]))\n"
   ]
  },
  {
   "cell_type": "markdown",
   "metadata": {},
   "source": [
    "编写一个函数，其作用是将输入的字符串反转过来。输入字符串以字符数组 char[] 的形式给出。\n",
    "\n",
    "不要给另外的数组分配额外的空间，你必须原地修改输入数组、使用 O(1) 的额外空间解决这一问题。\n",
    "\n",
    "你可以假设数组中的所有字符都是 ASCII 码表中的可打印字符。\n",
    "\n",
    "链接：https://leetcode-cn.com/problems/reverse-string"
   ]
  },
  {
   "cell_type": "code",
   "execution_count": 54,
   "metadata": {},
   "outputs": [
    {
     "name": "stdout",
     "output_type": "stream",
     "text": "['o', 'l', 'l', 'e', 'h']\n['h', 'a', 'n', 'n', 'a', 'H']\n['H']\n[]\n['h', 'H']\n"
    }
   ],
   "source": [
    "class Solution(object):\n",
    "    def reverseString(self, s):\n",
    "        \"\"\"\n",
    "        :type s: List[str]\n",
    "        :rtype: None Do not return anything, modify s in-place instead.\n",
    "        \"\"\"\n",
    "\n",
    "        mid = len(s) // 2\n",
    "        for i in range(mid):\n",
    "            s[i], s[-i-1] = s[-i-1], s[i]\n",
    "\n",
    "s = [\"h\",\"e\",\"l\",\"l\",\"o\"]\n",
    "Solution().reverseString(s)\n",
    "print(s)\n",
    "\n",
    "s = [\"H\",\"a\",\"n\",\"n\",\"a\",\"h\"]\n",
    "Solution().reverseString(s)\n",
    "print(s)\n",
    "\n",
    "s = [\"H\"]\n",
    "Solution().reverseString(s)\n",
    "print(s)\n",
    "\n",
    "s = []\n",
    "Solution().reverseString(s)\n",
    "print(s)\n",
    "\n",
    "s = [\"H\", 'h']\n",
    "Solution().reverseString(s)\n",
    "print(s)"
   ]
  },
  {
   "cell_type": "code",
   "execution_count": 53,
   "metadata": {},
   "outputs": [
    {
     "data": {
      "text/plain": "2"
     },
     "execution_count": 53,
     "metadata": {},
     "output_type": "execute_result"
    }
   ],
   "source": [
    "4 // 2"
   ]
  },
  {
   "cell_type": "markdown",
   "metadata": {},
   "source": [
    "请编写一个函数，使其可以删除某个链表中给定的（非末尾）节点，你将只被给定要求被删除的节点。\n",
    "\n",
    "现有一个链表 -- head = [4,5,1,9]，它可以表示为:\n",
    "\n",
    "链接：https://leetcode-cn.com/problems/delete-node-in-a-linked-list"
   ]
  },
  {
   "cell_type": "code",
   "execution_count": 60,
   "metadata": {},
   "outputs": [
    {
     "name": "stdout",
     "output_type": "stream",
     "text": "4 5 \n5 \n"
    }
   ],
   "source": [
    "# Definition for singly-linked list.\n",
    "class ListNode(object):\n",
    "    def __init__(self, x):\n",
    "        self.val = x\n",
    "        self.next = None\n",
    "\n",
    "    def __str__(self):\n",
    "        return '%s' % self.val\n",
    "\n",
    "\n",
    "class Solution(object):\n",
    "    def deleteNode(self, node):\n",
    "        \"\"\"\n",
    "        :type node: ListNode\n",
    "        :rtype: void Do not return anything, modify node in-place instead.\n",
    "        \"\"\"\n",
    "        while node.next:\n",
    "            node.val = node.next.val\n",
    "            if node.next.next:\n",
    "                node = node.next\n",
    "            else: \n",
    "                node.next = None\n",
    "\n",
    "\n",
    "def print_link(node):\n",
    "    while node:\n",
    "        print(node, end=' ')\n",
    "        node = node.next\n",
    "    print()\n",
    "\n",
    "a = ListNode(4)\n",
    "b = ListNode(5)\n",
    "c = ListNode(1)\n",
    "d = ListNode(9)\n",
    "\n",
    "a.next = b\n",
    "#b.next = c\n",
    "#c.next = d\n",
    "\n",
    "print_link(a)\n",
    "Solution().deleteNode(a)\n",
    "print_link(a)"
   ]
  },
  {
   "cell_type": "markdown",
   "metadata": {},
   "source": [
    "给定一个大小为 n 的数组，找到其中的多数元素。多数元素是指在数组中出现次数大于 ⌊ n/2 ⌋ 的元素。\n",
    "\n",
    "你可以假设数组是非空的，并且给定的数组总是存在多数元素。\n",
    "\n",
    "链接：https://leetcode-cn.com/problems/majority-element"
   ]
  },
  {
   "cell_type": "code",
   "execution_count": 72,
   "metadata": {},
   "outputs": [
    {
     "name": "stdout",
     "output_type": "stream",
     "text": "3\n2\n1\n"
    }
   ],
   "source": [
    "class Solution(object):\n",
    "\n",
    "    def majorityElement(self, nums):\n",
    "        \"\"\"\n",
    "        :type nums: List[int]\n",
    "        :rtype: int\n",
    "        \"\"\"\n",
    "        length = len(nums)\n",
    "        if length == 1:\n",
    "            return nums[0]\n",
    "            \n",
    "        nums.sort()\n",
    "        count = 1\n",
    "\n",
    "        for i in range(1, length):\n",
    "            if nums[i] == nums[i-1]:\n",
    "                count += 1\n",
    "            if count > length/2:\n",
    "                return nums[i]\n",
    "            if nums[i] != nums[i-1]:\n",
    "                count = 1\n",
    "\n",
    "print(Solution().majorityElement([3,2,3]))\n",
    "print(Solution().majorityElement([2,2,1,1,1,2,2]))\n",
    "print(Solution().majorityElement([1]))"
   ]
  },
  {
   "cell_type": "code",
   "execution_count": 64,
   "metadata": {},
   "outputs": [
    {
     "data": {
      "text/plain": "1.5"
     },
     "execution_count": 64,
     "metadata": {},
     "output_type": "execute_result"
    }
   ],
   "source": [
    "3/2"
   ]
  },
  {
   "cell_type": "markdown",
   "metadata": {},
   "source": [
    "给定一个字符串，你需要反转字符串中每个单词的字符顺序，同时仍保留空格和单词的初始顺序。\n",
    "\n",
    "https://leetcode-cn.com/problems/reverse-words-in-a-string-iii/"
   ]
  },
  {
   "cell_type": "code",
   "execution_count": 77,
   "metadata": {},
   "outputs": [
    {
     "name": "stdout",
     "output_type": "stream",
     "text": "s'teL ekat edoCteeL tsetnoc\n"
    }
   ],
   "source": [
    "class Solution(object):\n",
    "    def reverseWords(self, s):\n",
    "        \"\"\"\n",
    "        :type s: str\n",
    "        :rtype: str\n",
    "        \"\"\"\n",
    "\n",
    "        return ' '.join(''.join(reversed(i)) for i in s.split(' '))\n",
    "\n",
    "\n",
    "print(Solution().reverseWords(\"Let's take LeetCode contest\"))"
   ]
  },
  {
   "cell_type": "code",
   "execution_count": 75,
   "metadata": {},
   "outputs": [
    {
     "data": {
      "text/plain": "'cba'"
     },
     "execution_count": 75,
     "metadata": {},
     "output_type": "execute_result"
    }
   ],
   "source": [
    "''.join(reversed(\"abc\"))"
   ]
  },
  {
   "cell_type": "markdown",
   "metadata": {},
   "source": [
    "在未排序的数组中找到第 k 个最大的元素。请注意，你需要找的是数组排序后的第 k 个最大的元素，而不是第 k 个不同的元素。\n",
    "\n",
    "https://leetcode-cn.com/problems/kth-largest-element-in-an-array/"
   ]
  },
  {
   "cell_type": "code",
   "execution_count": 6,
   "metadata": {},
   "outputs": [
    {
     "name": "stdout",
     "output_type": "stream",
     "text": "4\n"
    }
   ],
   "source": [
    "class Solution:\n",
    "    def findKthLargest(self, nums, k):\n",
    "        nums.sort()\n",
    "        return nums[-k]\n",
    "\n",
    "print(Solution().findKthLargest([3,2,3,1,2,4,5,5,6], 4))"
   ]
  },
  {
   "cell_type": "code",
   "execution_count": 4,
   "metadata": {},
   "outputs": [
    {
     "name": "stdout",
     "output_type": "stream",
     "text": "[1, 2, 2, 3, 3, 4, 5, 5, 6]\n"
    }
   ],
   "source": [
    "foo =  [3,2,3,1,2,4,5,5,6]\n",
    "foo.sort()\n",
    "print(foo)"
   ]
  },
  {
   "cell_type": "markdown",
   "metadata": {},
   "source": [
    "给定一组不含重复元素的整数数组 nums，返回该数组所有可能的子集（幂集）。\n",
    "\n",
    "说明：解集不能包含重复的子集。\n",
    "\n",
    "https://leetcode-cn.com/problems/subsets/"
   ]
  },
  {
   "cell_type": "code",
   "execution_count": 12,
   "metadata": {},
   "outputs": [
    {
     "name": "stdout",
     "output_type": "stream",
     "text": "[[], [1], [2], [1, 2], [3], [1, 3], [2, 3], [1, 2, 3]]\n[[]]\n[[], [1]]\n"
    }
   ],
   "source": [
    "class Solution(object):\n",
    "    def subsets(self, nums):\n",
    "        \"\"\"\n",
    "        :type nums: List[int]\n",
    "        :rtype: List[List[int]]\n",
    "        \"\"\"\n",
    "        length = len(nums)\n",
    "        max_num = 1 << length\n",
    "        result = []\n",
    "        for num in range(0, max_num):\n",
    "            child = []\n",
    "            for idx in range(length):\n",
    "                if ((1 << idx) & num):\n",
    "                    child.append(nums[idx])\n",
    "            result.append(child)\n",
    "        return result\n",
    "\n",
    "print(Solution().subsets([1, 2, 3]))\n",
    "print(Solution().subsets([]))\n",
    "print(Solution().subsets([1]))\n"
   ]
  },
  {
   "cell_type": "code",
   "execution_count": 9,
   "metadata": {},
   "outputs": [
    {
     "data": {
      "text/plain": "'111'"
     },
     "execution_count": 9,
     "metadata": {},
     "output_type": "execute_result"
    }
   ],
   "source": [
    "'{0:b}'.format(7)"
   ]
  },
  {
   "cell_type": "markdown",
   "metadata": {},
   "source": [
    "## 全排列问题\n"
   ]
  },
  {
   "cell_type": "code",
   "execution_count": 7,
   "metadata": {},
   "outputs": [
    {
     "name": "stdout",
     "output_type": "stream",
     "text": "[[1, 2, 3], [1, 3, 2], [2, 1, 3], [2, 3, 1], [3, 2, 1], [3, 1, 2]]\n"
    }
   ],
   "source": [
    "class Solution(object):\n",
    "\n",
    "    def backtrack(self, t):\n",
    "        if t >= self.length:\n",
    "            if not self.nums in self.result:\n",
    "                self.result.append(self.nums[:])\n",
    "            return \n",
    "\n",
    "        for i in range(t, self.length):\n",
    "            self.nums[i], self.nums[t] = self.nums[t], self.nums[i]\n",
    "            self.backtrack(t+1)\n",
    "            self.nums[i], self.nums[t] = self.nums[t], self.nums[i]\n",
    "\n",
    "    def permute(self, nums):\n",
    "        \"\"\"\n",
    "        :type nums: List[int]\n",
    "        :rtype: List[List[int]]\n",
    "        \"\"\"\n",
    "        self.nums = nums\n",
    "        self.length = len(nums)\n",
    "        self.result = []\n",
    "        self.backtrack(0)\n",
    "        return self.result\n",
    "\n",
    "print(Solution().permute([1, 2, 3]))"
   ]
  },
  {
   "cell_type": "code",
   "execution_count": 5,
   "metadata": {},
   "outputs": [
    {
     "data": {
      "text/plain": "True"
     },
     "execution_count": 5,
     "metadata": {},
     "output_type": "execute_result"
    }
   ],
   "source": [
    "foo = [[1, 2]]\n",
    "[1, 2] in foo"
   ]
  },
  {
   "cell_type": "markdown",
   "metadata": {},
   "source": [
    "格雷编码是一个二进制数字系统，在该系统中，两个连续的数值仅有一个位数的差异。\n",
    "\n",
    "给定一个代表编码总位数的非负整数 n，打印其格雷编码序列。格雷编码序列必须以 0 开头。\n",
    "\n",
    "链接：https://leetcode-cn.com/problems/gray-code\n"
   ]
  },
  {
   "cell_type": "code",
   "execution_count": 6,
   "metadata": {},
   "outputs": [
    {
     "name": "stdout",
     "output_type": "stream",
     "text": "0000\n0001\n0010\n0011\n0100\n0101\n0110\n0111\n1000\n1001\n1010\n1011\n1100\n1101\n1110\n1111\n"
    }
   ],
   "source": [
    "for i in range(16):\n",
    "    print('{:04b}'.format(i))"
   ]
  },
  {
   "cell_type": "code",
   "execution_count": 8,
   "metadata": {},
   "outputs": [
    {
     "name": "stdout",
     "output_type": "stream",
     "text": "2\n0\n"
    }
   ],
   "source": [
    "print(7 ^ 5)\n",
    "print(8&7)"
   ]
  },
  {
   "cell_type": "code",
   "execution_count": 20,
   "metadata": {},
   "outputs": [
    {
     "name": "stdout",
     "output_type": "stream",
     "text": "[0, 1, 3, 2]\n[0, 2, 3, 1]\n[1, 0, 2, 3]\n[2, 0, 1, 3]\n[2, 3, 1, 0]\n[3, 1, 0, 2]\n[3, 2, 0, 1]\n[0, 1, 2, 3]\nFalse\n"
    }
   ],
   "source": [
    "class Solution(object):\n",
    "\n",
    "    def is_valid(self, nums):\n",
    "        length = len(nums)\n",
    "        for i in range(1, length):\n",
    "            xor_num = nums[i] ^ nums[i-1]\n",
    "            if xor_num & (xor_num-1) != 0:\n",
    "                return False\n",
    "        return True\n",
    "\n",
    "    def backtrack(self, t):\n",
    "        if t >= self.length:\n",
    "            return \n",
    "\n",
    "        for i in range(t, self.length):\n",
    "            if self.is_valid(self.nums):\n",
    "                print(self.nums)\n",
    "                return\n",
    "            self.nums[i], self.nums[t] = self.nums[t], self.nums[i]\n",
    "            self.backtrack(t+1)\n",
    "            self.nums[i], self.nums[t] = self.nums[t], self.nums[i]\n",
    "\n",
    "    def grayCode(self, n):\n",
    "        \"\"\"\n",
    "        :type nums: List[int]\n",
    "        :rtype: List[List[int]]\n",
    "        \"\"\"\n",
    "        self.length = 2 ** n\n",
    "        self.nums = list(range(self.length))\n",
    "        self.backtrack(0)\n",
    "        return self.nums\n",
    "\n",
    "\n",
    "print(Solution().grayCode(2))\n",
    "print(Solution().is_valid([0, 1, 2, 3]))"
   ]
  },
  {
   "cell_type": "code",
   "execution_count": 11,
   "metadata": {},
   "outputs": [
    {
     "data": {
      "text/plain": "3"
     },
     "execution_count": 11,
     "metadata": {},
     "output_type": "execute_result"
    }
   ],
   "source": [
    "3 ^ 0"
   ]
  },
  {
   "cell_type": "code",
   "execution_count": 12,
   "metadata": {},
   "outputs": [
    {
     "data": {
      "text/plain": "2"
     },
     "execution_count": 12,
     "metadata": {},
     "output_type": "execute_result"
    }
   ],
   "source": [
    "3 & 2"
   ]
  },
  {
   "cell_type": "markdown",
   "metadata": {},
   "source": [
    "在 O(n log n) 时间复杂度和常数级空间复杂度下，对链表进行排序。\n",
    "\n",
    "示例 1:\n",
    "\n",
    "输入: 4->2->1->3\n",
    "\n",
    "输出: 1->2->3->4"
   ]
  },
  {
   "cell_type": "code",
   "execution_count": 18,
   "metadata": {},
   "outputs": [
    {
     "name": "stdout",
     "output_type": "stream",
     "text": "2 1 3 \n1\n2 \n1 3 \n2 \n"
    }
   ],
   "source": [
    "def print_link(node):\n",
    "    while node:\n",
    "        print(node, end=' ')\n",
    "        node = node.next\n",
    "    print()\n",
    "\n",
    "# Definition for singly-linked list.\n",
    "class ListNode(object):\n",
    "    def __init__(self, x):\n",
    "        self.val = x\n",
    "        self.next = None\n",
    "\n",
    "    def __str__(self):\n",
    "        return '%s' % self.val\n",
    "\n",
    "\n",
    "class Solution(object):\n",
    "    def get_list_length(self, head):\n",
    "        length = 0\n",
    "        temp = head\n",
    "        while temp:\n",
    "            length += 1\n",
    "            temp = temp.next\n",
    "        return length\n",
    "\n",
    "    def sort(self, h1, h2, l1, l2):\n",
    "        head = pre = ListNode(0)\n",
    "\n",
    "        while l1 and l2:\n",
    "            if h1.val > h2.val:\n",
    "                pre.next = h2\n",
    "                h2 = h2.next\n",
    "                l2 -= 1\n",
    "            else:\n",
    "                pre.next = h1\n",
    "                h1 = h1.next\n",
    "                l1 -= 1\n",
    "            pre = pre.next\n",
    "\n",
    "        print_link(head.next)\n",
    "        print(l1)\n",
    "        while l1:\n",
    "            pre.next = h1\n",
    "            l1 -= 1\n",
    "            h1 = h1.next\n",
    "            pre = pre.next\n",
    "\n",
    "        h1.next = None\n",
    "\n",
    "        print_link(h1)\n",
    "        print_link(h2)\n",
    "        while l2:\n",
    "            pre.next = h2\n",
    "            l2 -= 1\n",
    "            h2 = h2.next\n",
    "            pre = pre.next\n",
    "\n",
    "        pre.next = h2.next\n",
    "        return head.next\n",
    "\n",
    "    def sortList(self, head):\n",
    "        \"\"\"\n",
    "        :type head: ListNode\n",
    "        :rtype: ListNode\n",
    "        \"\"\"\n",
    "        length = self.get_list_length(head)\n",
    "        step = 1\n",
    "        pass\n",
    "\n",
    "\n",
    "a = ListNode(4)\n",
    "b = ListNode(2)\n",
    "c = ListNode(1)\n",
    "d = ListNode(3)\n",
    "\n",
    "a.next = b\n",
    "b.next = c\n",
    "c.next = d\n",
    "\n",
    "print_link(Solution().sort(a, b, 1, 1))"
   ]
  },
  {
   "cell_type": "markdown",
   "metadata": {},
   "source": [
    "设计一个支持 push，pop，top 操作，并能在常数时间内检索到最小元素的栈。\n",
    "\n",
    "1. push(x) -- 将元素 x 推入栈中。\n",
    "2. pop() -- 删除栈顶的元素。\n",
    "3. top() -- 获取栈顶元素。\n",
    "4. getMin() -- 检索栈中的最小元素。\n",
    "\n",
    "链接：https://leetcode-cn.com/problems/min-stack\n"
   ]
  },
  {
   "cell_type": "code",
   "execution_count": null,
   "metadata": {},
   "outputs": [],
   "source": [
    "class MinStack(object):\n",
    "\n",
    "    def __init__(self):\n",
    "        \"\"\"\n",
    "        initialize your data structure here.\n",
    "        \"\"\"\n",
    "        self.stack = []\n",
    "        self.min = None\n",
    "        \n",
    "    def push(self, x):\n",
    "        \"\"\"\n",
    "        :type x: int\n",
    "        :rtype: None\n",
    "        \"\"\"\n",
    "        if self.min is None:\n",
    "            self.min = x\n",
    "        else:\n",
    "            self.min = min(self.min, x)\n",
    "        self.stack.append((self.min, x))\n",
    "\n",
    "    def pop(self):\n",
    "        \"\"\"\n",
    "        :rtype: None\n",
    "        \"\"\"\n",
    "        if self.stack:\n",
    "            self.stack.pop()\n",
    "        if not self.stack:\n",
    "            self.min = None\n",
    "\n",
    "    def top(self):\n",
    "        \"\"\"\n",
    "        :rtype: int\n",
    "        \"\"\"\n",
    "        if self.stack:\n",
    "            return self.stack[-1][1]\n",
    "\n",
    "    def getMin(self):\n",
    "        \"\"\"\n",
    "        :rtype: int\n",
    "        \"\"\"\n",
    "        if self.stack:\n",
    "            return self.stack[-1][0]\n"
   ]
  },
  {
   "cell_type": "markdown",
   "metadata": {},
   "source": [
    "给定 n 个非负整数 a1，a2，...，an，每个数代表坐标中的一个点 (i, ai) 。在坐标内画 n 条垂直线，垂直线 i 的两个端点分别为 (i, ai) 和 (i, 0)。找出其中的两条线，使得它们与 x 轴共同构成的容器可以容纳最多的水。\n",
    "\n",
    "说明：你不能倾斜容器，且 n 的值至少为 2。\n",
    "\n",
    "\n",
    "链接：https://leetcode-cn.com/problems/container-with-most-water"
   ]
  },
  {
   "cell_type": "code",
   "execution_count": 2,
   "metadata": {},
   "outputs": [
    {
     "name": "stdout",
     "output_type": "stream",
     "text": "49\n"
    }
   ],
   "source": [
    "class Solution(object):\n",
    "    \n",
    "    def maxArea(self, height):\n",
    "        \"\"\"\n",
    "        :type height: List[int]\n",
    "        :rtype: int\n",
    "        \"\"\"\n",
    "\n",
    "        length = len(height)\n",
    "        start, end = 0, length - 1\n",
    "        area = 0\n",
    "\n",
    "        while start < end:\n",
    "            area = max(min(height[start], height[end]) * (end-start), area)\n",
    "            if (height[start] < height[end]):\n",
    "                start += 1\n",
    "            else:\n",
    "                end -= 1\n",
    "        return area\n",
    "\n",
    "print(Solution().maxArea([1,8,6,2,5,4,8,3,7]))"
   ]
  },
  {
   "cell_type": "markdown",
   "metadata": {},
   "source": [
    "```给定长度为 n 的整数数组 nums，其中 n > 1，返回输出数组 output ，其中 output[i] 等于 nums 中除 nums[i] 之外其余各元素的乘积。```\n",
    "\n",
    "链接：https://leetcode-cn.com/problems/product-of-array-except-self\n"
   ]
  },
  {
   "cell_type": "code",
   "execution_count": 3,
   "metadata": {},
   "outputs": [
    {
     "ename": "NameError",
     "evalue": "name 'List' is not defined",
     "output_type": "error",
     "traceback": [
      "\u001b[0;31m---------------------------------------------------------------------------\u001b[0m",
      "\u001b[0;31mNameError\u001b[0m                                 Traceback (most recent call last)",
      "\u001b[0;32m<ipython-input-3-79d9f29de44c>\u001b[0m in \u001b[0;36m<module>\u001b[0;34m\u001b[0m\n\u001b[0;32m----> 1\u001b[0;31m \u001b[0;32mclass\u001b[0m \u001b[0mSolution\u001b[0m\u001b[0;34m:\u001b[0m\u001b[0;34m\u001b[0m\u001b[0;34m\u001b[0m\u001b[0m\n\u001b[0m\u001b[1;32m      2\u001b[0m     \u001b[0;32mdef\u001b[0m \u001b[0mproductExceptSelf\u001b[0m\u001b[0;34m(\u001b[0m\u001b[0mself\u001b[0m\u001b[0;34m,\u001b[0m \u001b[0mnums\u001b[0m\u001b[0;34m:\u001b[0m \u001b[0mList\u001b[0m\u001b[0;34m[\u001b[0m\u001b[0mint\u001b[0m\u001b[0;34m]\u001b[0m\u001b[0;34m)\u001b[0m \u001b[0;34m->\u001b[0m \u001b[0mList\u001b[0m\u001b[0;34m[\u001b[0m\u001b[0mint\u001b[0m\u001b[0;34m]\u001b[0m\u001b[0;34m:\u001b[0m\u001b[0;34m\u001b[0m\u001b[0;34m\u001b[0m\u001b[0m\n\u001b[1;32m      3\u001b[0m         \u001b[0mres\u001b[0m\u001b[0;34m,\u001b[0m \u001b[0ml\u001b[0m\u001b[0;34m,\u001b[0m \u001b[0mr\u001b[0m \u001b[0;34m=\u001b[0m \u001b[0;34m[\u001b[0m\u001b[0;36m1\u001b[0m\u001b[0;34m]\u001b[0m \u001b[0;34m*\u001b[0m \u001b[0mlen\u001b[0m\u001b[0;34m(\u001b[0m\u001b[0mnums\u001b[0m\u001b[0;34m)\u001b[0m\u001b[0;34m,\u001b[0m \u001b[0;36m1\u001b[0m\u001b[0;34m,\u001b[0m \u001b[0;36m1\u001b[0m\u001b[0;34m\u001b[0m\u001b[0;34m\u001b[0m\u001b[0m\n\u001b[1;32m      4\u001b[0m         \u001b[0;32mfor\u001b[0m \u001b[0mi\u001b[0m\u001b[0;34m,\u001b[0m \u001b[0mj\u001b[0m \u001b[0;32min\u001b[0m \u001b[0mzip\u001b[0m\u001b[0;34m(\u001b[0m\u001b[0mrange\u001b[0m\u001b[0;34m(\u001b[0m\u001b[0mlen\u001b[0m\u001b[0;34m(\u001b[0m\u001b[0mnums\u001b[0m\u001b[0;34m)\u001b[0m\u001b[0;34m)\u001b[0m\u001b[0;34m,\u001b[0m \u001b[0mreversed\u001b[0m\u001b[0;34m(\u001b[0m\u001b[0mrange\u001b[0m\u001b[0;34m(\u001b[0m\u001b[0mlen\u001b[0m\u001b[0;34m(\u001b[0m\u001b[0mnums\u001b[0m\u001b[0;34m)\u001b[0m\u001b[0;34m)\u001b[0m\u001b[0;34m)\u001b[0m\u001b[0;34m)\u001b[0m\u001b[0;34m:\u001b[0m\u001b[0;34m\u001b[0m\u001b[0;34m\u001b[0m\u001b[0m\n\u001b[1;32m      5\u001b[0m             \u001b[0mres\u001b[0m\u001b[0;34m[\u001b[0m\u001b[0mi\u001b[0m\u001b[0;34m]\u001b[0m\u001b[0;34m,\u001b[0m \u001b[0ml\u001b[0m \u001b[0;34m=\u001b[0m \u001b[0mres\u001b[0m\u001b[0;34m[\u001b[0m\u001b[0mi\u001b[0m\u001b[0;34m]\u001b[0m \u001b[0;34m*\u001b[0m \u001b[0ml\u001b[0m\u001b[0;34m,\u001b[0m \u001b[0ml\u001b[0m \u001b[0;34m*\u001b[0m \u001b[0mnums\u001b[0m\u001b[0;34m[\u001b[0m\u001b[0mi\u001b[0m\u001b[0;34m]\u001b[0m\u001b[0;34m\u001b[0m\u001b[0;34m\u001b[0m\u001b[0m\n",
      "\u001b[0;32m<ipython-input-3-79d9f29de44c>\u001b[0m in \u001b[0;36mSolution\u001b[0;34m()\u001b[0m\n\u001b[1;32m      1\u001b[0m \u001b[0;32mclass\u001b[0m \u001b[0mSolution\u001b[0m\u001b[0;34m:\u001b[0m\u001b[0;34m\u001b[0m\u001b[0;34m\u001b[0m\u001b[0m\n\u001b[0;32m----> 2\u001b[0;31m     \u001b[0;32mdef\u001b[0m \u001b[0mproductExceptSelf\u001b[0m\u001b[0;34m(\u001b[0m\u001b[0mself\u001b[0m\u001b[0;34m,\u001b[0m \u001b[0mnums\u001b[0m\u001b[0;34m:\u001b[0m \u001b[0mList\u001b[0m\u001b[0;34m[\u001b[0m\u001b[0mint\u001b[0m\u001b[0;34m]\u001b[0m\u001b[0;34m)\u001b[0m \u001b[0;34m->\u001b[0m \u001b[0mList\u001b[0m\u001b[0;34m[\u001b[0m\u001b[0mint\u001b[0m\u001b[0;34m]\u001b[0m\u001b[0;34m:\u001b[0m\u001b[0;34m\u001b[0m\u001b[0;34m\u001b[0m\u001b[0m\n\u001b[0m\u001b[1;32m      3\u001b[0m         \u001b[0mres\u001b[0m\u001b[0;34m,\u001b[0m \u001b[0ml\u001b[0m\u001b[0;34m,\u001b[0m \u001b[0mr\u001b[0m \u001b[0;34m=\u001b[0m \u001b[0;34m[\u001b[0m\u001b[0;36m1\u001b[0m\u001b[0;34m]\u001b[0m \u001b[0;34m*\u001b[0m \u001b[0mlen\u001b[0m\u001b[0;34m(\u001b[0m\u001b[0mnums\u001b[0m\u001b[0;34m)\u001b[0m\u001b[0;34m,\u001b[0m \u001b[0;36m1\u001b[0m\u001b[0;34m,\u001b[0m \u001b[0;36m1\u001b[0m\u001b[0;34m\u001b[0m\u001b[0;34m\u001b[0m\u001b[0m\n\u001b[1;32m      4\u001b[0m         \u001b[0;32mfor\u001b[0m \u001b[0mi\u001b[0m\u001b[0;34m,\u001b[0m \u001b[0mj\u001b[0m \u001b[0;32min\u001b[0m \u001b[0mzip\u001b[0m\u001b[0;34m(\u001b[0m\u001b[0mrange\u001b[0m\u001b[0;34m(\u001b[0m\u001b[0mlen\u001b[0m\u001b[0;34m(\u001b[0m\u001b[0mnums\u001b[0m\u001b[0;34m)\u001b[0m\u001b[0;34m)\u001b[0m\u001b[0;34m,\u001b[0m \u001b[0mreversed\u001b[0m\u001b[0;34m(\u001b[0m\u001b[0mrange\u001b[0m\u001b[0;34m(\u001b[0m\u001b[0mlen\u001b[0m\u001b[0;34m(\u001b[0m\u001b[0mnums\u001b[0m\u001b[0;34m)\u001b[0m\u001b[0;34m)\u001b[0m\u001b[0;34m)\u001b[0m\u001b[0;34m)\u001b[0m\u001b[0;34m:\u001b[0m\u001b[0;34m\u001b[0m\u001b[0;34m\u001b[0m\u001b[0m\n\u001b[1;32m      5\u001b[0m             \u001b[0mres\u001b[0m\u001b[0;34m[\u001b[0m\u001b[0mi\u001b[0m\u001b[0;34m]\u001b[0m\u001b[0;34m,\u001b[0m \u001b[0ml\u001b[0m \u001b[0;34m=\u001b[0m \u001b[0mres\u001b[0m\u001b[0;34m[\u001b[0m\u001b[0mi\u001b[0m\u001b[0;34m]\u001b[0m \u001b[0;34m*\u001b[0m \u001b[0ml\u001b[0m\u001b[0;34m,\u001b[0m \u001b[0ml\u001b[0m \u001b[0;34m*\u001b[0m \u001b[0mnums\u001b[0m\u001b[0;34m[\u001b[0m\u001b[0mi\u001b[0m\u001b[0;34m]\u001b[0m\u001b[0;34m\u001b[0m\u001b[0;34m\u001b[0m\u001b[0m\n",
      "\u001b[0;31mNameError\u001b[0m: name 'List' is not defined"
     ]
    }
   ],
   "source": [
    "\n",
    "class Solution:\n",
    "    def productExceptSelf(self, nums: List[int]) -> List[int]:\n",
    "        res, l, r = [1] * len(nums), 1, 1\n",
    "        for i, j in zip(range(len(nums)), reversed(range(len(nums)))):\n",
    "            res[i], l = res[i] * l, l * nums[i]\n",
    "            res[j], r = res[j] * r, r * nums[j]\n",
    "\n",
    "\"\"\"\n",
    "作者：QQqun902025048\n",
    "链接：https://leetcode-cn.com/problems/product-of-array-except-self/solution/python-5xing-shuang-zhi-zhen-by-knifezhu/\n",
    "来源：力扣（LeetCode）\n",
    "著作权归作者所有。商业转载请联系作者获得授权，非商业转载请注明出处。\n",
    "\"\"\""
   ]
  },
  {
   "cell_type": "code",
   "execution_count": null,
   "metadata": {},
   "outputs": [],
   "source": []
  }
 ]
}