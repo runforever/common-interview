{
 "nbformat": 4,
 "nbformat_minor": 2,
 "metadata": {
  "language_info": {
   "name": "python",
   "codemirror_mode": {
    "name": "ipython",
    "version": 3
   },
   "version": "3.7.5-final"
  },
  "orig_nbformat": 2,
  "file_extension": ".py",
  "mimetype": "text/x-python",
  "name": "python",
  "npconvert_exporter": "python",
  "pygments_lexer": "ipython3",
  "version": 3,
  "kernelspec": {
   "name": "python37564bitmoonjhp2p8invirtualenv0a40430fb9904e8ead4402bac3e206e2",
   "display_name": "Python 3.7.5 64-bit ('moon-jhP2p8in': virtualenv)"
  }
 },
 "cells": [
  {
   "cell_type": "markdown",
   "metadata": {},
   "source": [
    "## 判断一个数是否为 2 的幂"
   ]
  },
  {
   "cell_type": "code",
   "execution_count": 3,
   "metadata": {},
   "outputs": [
    {
     "name": "stdout",
     "output_type": "stream",
     "text": "1\n10\n100\n1000\n10000\n100000\n1000000\n10000000\n100000000\n1000000000\n"
    }
   ],
   "source": [
    "for i in range(10):\n",
    "    print('{0:b}'.format(2**i))"
   ]
  },
  {
   "cell_type": "code",
   "execution_count": 14,
   "metadata": {},
   "outputs": [
    {
     "name": "stdout",
     "output_type": "stream",
     "text": "-10000\n"
    }
   ],
   "source": [
    "print('{0:b}'.format(-16))"
   ]
  },
  {
   "cell_type": "code",
   "execution_count": 9,
   "metadata": {},
   "outputs": [],
   "source": [
    "class Solution(object):\n",
    "    def isPowerOfTwo(self, n):\n",
    "        \"\"\"\n",
    "        :type n: int\n",
    "        :rtype: bool\n",
    "        \"\"\"\n",
    "        if n <= 0:\n",
    "            return False\n",
    "        bin_str = '{0:b}'.format(n)\n",
    "        return True if len([char for char in bin_str if char == '1']) == 1 else False"
   ]
  },
  {
   "cell_type": "code",
   "execution_count": 13,
   "metadata": {},
   "outputs": [
    {
     "name": "stdout",
     "output_type": "stream",
     "text": "True\n"
    }
   ],
   "source": [
    "print(Solution().isPowerOfTwo(128))"
   ]
  },
  {
   "cell_type": "markdown",
   "metadata": {},
   "source": [
    "## 判断一个数是否是回文"
   ]
  },
  {
   "cell_type": "code",
   "execution_count": 51,
   "metadata": {},
   "outputs": [
    {
     "name": "stdout",
     "output_type": "stream",
     "text": "True\n"
    }
   ],
   "source": [
    "foo = 1\n",
    "foo = str(foo)\n",
    "foo_length = len(foo)\n",
    "\n",
    "start, end = -1, foo_length\n",
    "for i in range(foo_length):\n",
    "    start = start + 1\n",
    "    end = end - 1\n",
    "    start_char = foo[start]\n",
    "    end_char = foo[end]\n",
    "\n",
    "    if start_char != end_char:\n",
    "        print(False)\n",
    "        break\n",
    "\n",
    "    if start + 1 == end:\n",
    "        print(True)\n",
    "        break\n",
    "\n",
    "    if start == end:\n",
    "        print(True)\n",
    "        break\n"
   ]
  },
  {
   "cell_type": "code",
   "execution_count": 53,
   "metadata": {},
   "outputs": [],
   "source": [
    "class Solution(object):\n",
    "    def isPalindrome(self, foo):\n",
    "        \"\"\"\n",
    "        :type x: int\n",
    "        :rtype: bool\n",
    "        \"\"\"\n",
    "        foo = str(foo)\n",
    "        foo_length = len(foo)\n",
    "\n",
    "        start, end = -1, foo_length\n",
    "        for i in range(foo_length):\n",
    "            start = start + 1\n",
    "            end = end - 1\n",
    "            start_char = foo[start]\n",
    "            end_char = foo[end]\n",
    "            if start_char != end_char:\n",
    "                return False\n",
    "\n",
    "            if start + 1 == end:\n",
    "                return True\n",
    "\n",
    "            if start == end:\n",
    "                return True\n"
   ]
  },
  {
   "cell_type": "code",
   "execution_count": 55,
   "metadata": {},
   "outputs": [
    {
     "name": "stdout",
     "output_type": "stream",
     "text": "False\n"
    }
   ],
   "source": [
    "print(Solution().isPalindrome(-121))"
   ]
  },
  {
   "cell_type": "markdown",
   "metadata": {},
   "source": [
    "给出两个 非空 的链表用来表示两个非负的整数。其中，它们各自的位数是按照 逆序 的方式存储的，并且它们的每个节点只能存储 一位 数字。如果，我们将这两个数相加起来，则会返回一个新的链表来表示它们的和。您可以假设除了数字 0 之外，这两个数都不会以 0 开头。\n",
    "\n",
    "https://leetcode-cn.com/problems/add-two-numbers/\n"
   ]
  },
  {
   "cell_type": "code",
   "execution_count": 29,
   "metadata": {},
   "outputs": [
    {
     "name": "stdout",
     "output_type": "stream",
     "text": "2 4 3 \n5 6 4 \n7 0 8 \n"
    }
   ],
   "source": [
    "class ListNode:\n",
    "\n",
    "    def __init__(self, val):\n",
    "        self.val = val\n",
    "        self.next = None\n",
    "\n",
    "    def __str__(self):\n",
    "        return '%s' % self.val\n",
    "\n",
    "    \n",
    "def print_link(node):\n",
    "    while node:\n",
    "        print(node, end=' ')\n",
    "        node = node.next\n",
    "    print()\n",
    "\n",
    "\n",
    "class Solution(object):\n",
    "    def addTwoNumbers(self, l1, l2):\n",
    "        \"\"\"\n",
    "        :type l1: ListNode\n",
    "        :type l2: ListNode\n",
    "        :rtype: ListNode\n",
    "        \"\"\"\n",
    "        if l1 is None or l2 is None:\n",
    "            return l1 or l2\n",
    "\n",
    "        node1, node2 = l1, l2\n",
    "        temp_node = result_node = ListNode(0)\n",
    "\n",
    "        while node1 or node2:\n",
    "            node1_val = node1.val if node1 else 0\n",
    "            node2_val = node2.val if node2 else 0\n",
    "\n",
    "            temp_sum = node1_val + node2_val + temp_node.val\n",
    "            if temp_sum >= 10:\n",
    "                new_node_val = 1\n",
    "                temp_sum = temp_sum % 10\n",
    "            else:\n",
    "                new_node_val = 0\n",
    "\n",
    "            temp_node.val = temp_sum\n",
    "\n",
    "            if node1:\n",
    "                node1 = node1.next\n",
    "\n",
    "            if node2:\n",
    "                node2 = node2.next\n",
    "\n",
    "            if new_node_val:\n",
    "                new_node = ListNode(1)\n",
    "            elif node1 or node2:\n",
    "                new_node = ListNode(0)\n",
    "            else:\n",
    "                new_node = None\n",
    "\n",
    "            temp_node.next = new_node\n",
    "            temp_node = temp_node.next\n",
    "            \n",
    "        return result_node\n",
    "\n",
    "\n",
    "a = ListNode(2)\n",
    "b = ListNode(4)\n",
    "c = ListNode(3)\n",
    "\n",
    "a.next = b\n",
    "b.next = c\n",
    "\n",
    "d = ListNode(5)\n",
    "e = ListNode(6)\n",
    "f = ListNode(4)\n",
    "\n",
    "d.next = e\n",
    "e.next = f\n",
    "\n",
    "print_link(a)\n",
    "print_link(d)\n",
    "link_sum = Solution().addTwoNumbers(a, d)\n",
    "print_link(link_sum)"
   ]
  },
  {
   "cell_type": "markdown",
   "metadata": {},
   "source": [
    "编写一个函数来查找字符串数组中的最长公共前缀。\n",
    "\n",
    "如果不存在公共前缀，返回空字符串 \"\"\n",
    "\n",
    "https://leetcode-cn.com/problems/longest-common-prefix/\n"
   ]
  },
  {
   "cell_type": "code",
   "execution_count": 61,
   "metadata": {},
   "outputs": [
    {
     "name": "stdout",
     "output_type": "stream",
     "text": "\n"
    }
   ],
   "source": [
    "strs =  [\"dog\",\"racecar\",\"car\"]\n",
    "length = len(strs)\n",
    "if length == 0 or '' in strs:\n",
    "    print('')\n",
    "if length == 1:\n",
    "    print(strs[0])\n",
    "i = 0\n",
    "char = ''\n",
    "max_length = 0\n",
    "loop = True\n",
    "while 1:\n",
    "    for idx, string in enumerate(strs):\n",
    "        if i >= len(string):\n",
    "            loop = False\n",
    "            break\n",
    "\n",
    "        if idx == 0:\n",
    "            char = string[i]\n",
    "            continue\n",
    "\n",
    "        if char != string[i]:\n",
    "            loop = False\n",
    "            break\n",
    "    if loop:\n",
    "        max_length += 1\n",
    "        i += 1\n",
    "    else:\n",
    "        break\n",
    "print(strs[0][:max_length])\n",
    "\n",
    "\n"
   ]
  },
  {
   "cell_type": "code",
   "execution_count": 47,
   "metadata": {},
   "outputs": [
    {
     "data": {
      "text/plain": "''"
     },
     "execution_count": 47,
     "metadata": {},
     "output_type": "execute_result"
    }
   ],
   "source": [
    "foo = \"abc\"\n",
    "bar = foo[:0]\n",
    "bar"
   ]
  },
  {
   "cell_type": "markdown",
   "metadata": {},
   "source": [
    "给定一个非空整数数组，除了某个元素只出现一次以外，其余每个元素均出现两次。找出那个只出现了一次的元素。\n",
    "\n",
    "https://leetcode-cn.com/problems/single-number/"
   ]
  },
  {
   "cell_type": "code",
   "execution_count": 20,
   "metadata": {},
   "outputs": [],
   "source": [
    "class Solution(object):\n",
    "    def singleNumber(self, nums):\n",
    "        \"\"\"\n",
    "        :type nums: List[int]\n",
    "        :rtype: int\n",
    "        \"\"\"\n",
    "        nums.sort()\n",
    "        length = len(nums)\n",
    "        for i in range(0, length, 2):\n",
    "            if i+1 < length and nums[i] == nums[i+1]:\n",
    "                continue\n",
    "            return nums[i]\n",
    "\n"
   ]
  },
  {
   "cell_type": "code",
   "execution_count": 22,
   "metadata": {},
   "outputs": [
    {
     "name": "stdout",
     "output_type": "stream",
     "text": "4\n1\n"
    }
   ],
   "source": [
    "print(Solution().singleNumber([4,1,2,1,2]))\n",
    "print(Solution().singleNumber([2,2,1]))"
   ]
  },
  {
   "cell_type": "code",
   "execution_count": 14,
   "metadata": {},
   "outputs": [
    {
     "name": "stdout",
     "output_type": "stream",
     "text": "[1, 1, 2, 2, 4]\n"
    }
   ],
   "source": [
    "foo = [4,1,2,1,2]\n",
    "foo.sort()\n",
    "print(foo)"
   ]
  },
  {
   "cell_type": "markdown",
   "metadata": {},
   "source": [
    "给定一个排序数组，你需要在原地删除重复出现的元素，使得每个元素只出现一次，返回移除后数组的新长度。\n",
    "\n",
    "不要使用额外的数组空间，你必须在原地修改输入数组并在使用 O(1) 额外空间的条件下完成。\n",
    "\n",
    "链接：https://leetcode-cn.com/problems/remove-duplicates-from-sorted-array\n",
    "\n",
    "\n"
   ]
  },
  {
   "cell_type": "code",
   "execution_count": 29,
   "metadata": {},
   "outputs": [],
   "source": [
    "class Solution(object):\n",
    "    def removeDuplicates(self, nums):\n",
    "        \"\"\"\n",
    "        :type nums: List[int]\n",
    "        :rtype: int\n",
    "        \"\"\"\n",
    "        length = len(nums)\n",
    "        i = 0\n",
    "        while i < length:\n",
    "            if i+1 < length and nums[i] == nums[i+1]:\n",
    "                del nums[i]\n",
    "            else:\n",
    "                i = i+1\n",
    "            length = len(nums)\n",
    "        return i"
   ]
  },
  {
   "cell_type": "code",
   "execution_count": 31,
   "metadata": {},
   "outputs": [
    {
     "name": "stdout",
     "output_type": "stream",
     "text": "2\n"
    }
   ],
   "source": [
    "print(Solution().removeDuplicates([1,1,2]))"
   ]
  },
  {
   "cell_type": "markdown",
   "metadata": {},
   "source": [
    "给定一个只包括 '('，')'，'{'，'}'，'['，']' 的字符串，判断字符串是否有效。\n",
    "\n",
    "有效字符串需满足：\n",
    "\n",
    "左括号必须用相同类型的右括号闭合。\n",
    "左括号必须以正确的顺序闭合。\n",
    "注意空字符串可被认为是有效字符串。\n",
    "\n",
    "链接：https://leetcode-cn.com/problems/valid-parentheses\n"
   ]
  },
  {
   "cell_type": "code",
   "execution_count": 51,
   "metadata": {},
   "outputs": [],
   "source": [
    "class Solution(object):\n",
    "    def isValid(self, s):\n",
    "        \"\"\"\n",
    "        :type s: str\n",
    "        :rtype: bool\n",
    "        \"\"\"\n",
    "        stack = []\n",
    "        for char in s:\n",
    "            if char in ('(', '[', '{'):\n",
    "                stack.append(char)\n",
    "            if char in (')', ']', '}') and not stack:\n",
    "                return False\n",
    "                \n",
    "            if char == ')':\n",
    "                left = stack.pop()\n",
    "                if left != '(':\n",
    "                    return False\n",
    "            if char == ']':\n",
    "                left = stack.pop()\n",
    "                if left != '[':\n",
    "                    return False\n",
    "            if char == '}':\n",
    "                left = stack.pop()\n",
    "                if left != '{':\n",
    "                    return False\n",
    "        return False if stack else True"
   ]
  },
  {
   "cell_type": "code",
   "execution_count": 52,
   "metadata": {},
   "outputs": [
    {
     "name": "stdout",
     "output_type": "stream",
     "text": "True\nTrue\nFalse\nTrue\nTrue\nFalse\nFalse\n"
    }
   ],
   "source": [
    "print(Solution().isValid(\"()\"))\n",
    "print(Solution().isValid(\"()[]{}\"))\n",
    "print(Solution().isValid(\"([)]\"))\n",
    "print(Solution().isValid(\"([])\"))\n",
    "print(Solution().isValid(\"\"))\n",
    "print(Solution().isValid(\"[\"))\n",
    "print(Solution().isValid(\"]\"))"
   ]
  },
  {
   "cell_type": "markdown",
   "metadata": {},
   "source": [
    "给定一个二叉树，找出其最大深度。\n",
    "\n",
    "二叉树的深度为根节点到最远叶子节点的最长路径上的节点数。\n",
    "\n",
    "说明: 叶子节点是指没有子节点的节点。\n",
    "\n",
    "https://leetcode-cn.com/problems/maximum-depth-of-binary-tree/"
   ]
  },
  {
   "cell_type": "code",
   "execution_count": 62,
   "metadata": {},
   "outputs": [
    {
     "name": "stdout",
     "output_type": "stream",
     "text": "3\n"
    }
   ],
   "source": [
    "# Definition for a binary tree node.\n",
    "class TreeNode(object):\n",
    "    def __init__(self, x):\n",
    "        self.val = x\n",
    "        self.left = None\n",
    "        self.right = None\n",
    "\n",
    "    def __str__(self):\n",
    "        return '%s' % self.val\n",
    "\n",
    "\n",
    "class Solution(object):\n",
    "    def maxDepth(self, root):\n",
    "        \"\"\"\n",
    "        :type root: TreeNode\n",
    "        :rtype: int\n",
    "        \"\"\"\n",
    "\n",
    "        if root is None:\n",
    "            return 0\n",
    "\n",
    "        left = self.maxDepth(root.left)\n",
    "        right = self.maxDepth(root.right)\n",
    "        left_deepth = 1 + left\n",
    "        right_deepth = 1 + right\n",
    "        deepth = max(left_deepth, right_deepth)\n",
    "        return deepth\n",
    "\n",
    "a = TreeNode(3)\n",
    "b = TreeNode(9)\n",
    "c = TreeNode(20)\n",
    "d = TreeNode(15)\n",
    "e = TreeNode(7)\n",
    "\n",
    "a.left = b\n",
    "a.right = c\n",
    "c.left = d\n",
    "c.right = e\n",
    "\n",
    "print(Solution().maxDepth(a))"
   ]
  },
  {
   "cell_type": "markdown",
   "metadata": {},
   "source": [
    "给定一个数组，它的第 i 个元素是一支给定股票第 i 天的价格。\n",
    "\n",
    "如果你最多只允许完成一笔交易（即买入和卖出一支股票），设计一个算法来计算你所能获取的最大利润。\n",
    "\n",
    "注意你不能在买入股票前卖出股票。\n",
    "\n",
    "链接：https://leetcode-cn.com/problems/best-time-to-buy-and-sell-stock\n"
   ]
  },
  {
   "cell_type": "code",
   "execution_count": 116,
   "metadata": {},
   "outputs": [
    {
     "name": "stdout",
     "output_type": "stream",
     "text": "5\n0\n5\n4\n2\n0\n0\n"
    }
   ],
   "source": [
    "class Solution(object):\n",
    "\n",
    "    def maxProfit(self, prices):\n",
    "        \"\"\"\n",
    "        :type prices: List[int]\n",
    "        :rtype: int\n",
    "        \"\"\"\n",
    "        length = len(prices)\n",
    "        max_profit = 0\n",
    "\n",
    "        for i in range(length):\n",
    "            buy_price = prices[i]\n",
    "            for j in range(i+1, length):\n",
    "                max_profit = max(prices[j]-prices[i], max_profit)\n",
    "        return max_profit\n",
    "\n",
    "\n",
    "class Solution(object):\n",
    "\n",
    "    def maxProfit(self, prices):\n",
    "        \"\"\"\n",
    "        :type prices: List[int]\n",
    "        :rtype: int\n",
    "        \"\"\"\n",
    "\n",
    "        if len(prices) <= 1:\n",
    "            return 0\n",
    "            \n",
    "        min_buy = prices[0]\n",
    "        max_profit = 0\n",
    "\n",
    "        for i in prices:\n",
    "            min_buy = min(i, min_buy)\n",
    "            max_profit = max(max_profit, i-min_buy)\n",
    "        return max_profit\n",
    "\n",
    "\n",
    "\n",
    "print(Solution().maxProfit([7,1,5,3,6,4]))\n",
    "print(Solution().maxProfit([7,6,4,3,1]))\n",
    "print(Solution().maxProfit([1, 6]))\n",
    "print(Solution().maxProfit([7, 3, 6, 1, 3, 5]))\n",
    "print(Solution().maxProfit([2,1,2,1,0,1,2]))\n",
    "print(Solution().maxProfit([1]))\n",
    "print(Solution().maxProfit([]))"
   ]
  },
  {
   "cell_type": "code",
   "execution_count": 87,
   "metadata": {},
   "outputs": [
    {
     "data": {
      "text/plain": "[-1, -2, -3, -4, -5, -6]"
     },
     "execution_count": 87,
     "metadata": {},
     "output_type": "execute_result"
    }
   ],
   "source": [
    "list(range(-1, -7, -1))"
   ]
  },
  {
   "cell_type": "markdown",
   "metadata": {},
   "source": [
    "给定一个数组，它的第 i 个元素是一支给定股票第 i 天的价格。\n",
    "\n",
    "设计一个算法来计算你所能获取的最大利润。你可以尽可能地完成更多的交易（多次买卖一支股票）。\n",
    "\n",
    "注意：你不能同时参与多笔交易（你必须在再次购买前出售掉之前的股票）。\n",
    "\n",
    "来源：力扣（LeetCode）\n",
    "\n",
    "链接：https://leetcode-cn.com/problems/best-time-to-buy-and-sell-stock-ii\n",
    "\n",
    "```\n",
    "class Solution:\n",
    "    def maxProfit(self, prices: List[int]) -> int:\n",
    "        profit = 0\n",
    "        for i in range(1, len(prices)):\n",
    "            tmp = prices[i] - prices[i - 1]\n",
    "            if tmp > 0: profit += tmp\n",
    "        return profit\n",
    "\n",
    "作者：jyd\n",
    "链接：https://leetcode-cn.com/problems/best-time-to-buy-and-sell-stock-ii/solution/best-time-to-buy-and-sell-stock-ii-zhuan-hua-fa-ji/\n",
    "来源：力扣（LeetCode）\n",
    "著作权归作者所有。商业转载请联系作者获得授权，非商业转载请注明出处。\n",
    "```\n"
   ]
  },
  {
   "cell_type": "code",
   "execution_count": 120,
   "metadata": {},
   "outputs": [
    {
     "name": "stdout",
     "output_type": "stream",
     "text": "7\n"
    }
   ],
   "source": [
    "class Solution:\n",
    "    def maxProfit(self, prices):\n",
    "        profit = 0\n",
    "        for i in range(1, len(prices)):\n",
    "            tmp = prices[i] - prices[i - 1]\n",
    "            if tmp > 0: \n",
    "                profit += tmp\n",
    "        return profit\n",
    "\n",
    "\n",
    "print(Solution().maxProfit([7,1,5,3,6,4]))"
   ]
  },
  {
   "cell_type": "markdown",
   "metadata": {},
   "source": [
    "给定两个有序整数数组 nums1 和 nums2，将 nums2 合并到 nums1 中，使得 num1 成为一个有序数组。\n",
    "\n",
    "说明:\n",
    "\n",
    "初始化 nums1 和 nums2 的元素数量分别为 m 和 n。\n",
    "你可以假设 nums1 有足够的空间（空间大小大于或等于 m + n）来保存 nums2 中的元素。\n",
    "\n",
    "链接：https://leetcode-cn.com/problems/merge-sorted-array\n"
   ]
  },
  {
   "cell_type": "code",
   "execution_count": 36,
   "metadata": {},
   "outputs": [
    {
     "name": "stdout",
     "output_type": "stream",
     "text": "[1, 2, 2, 3, 5, 6]\n[2, 5, 6]\n[1, 2, 3]\n[]\n"
    }
   ],
   "source": [
    "class Solution(object):\n",
    "    def merge(self, nums1, m, nums2, n):\n",
    "        \"\"\"\n",
    "        :type nums1: List[int]\n",
    "        :type m: int\n",
    "        :type nums2: List[int]\n",
    "        :type n: int\n",
    "        :rtype: None Do not return anything, modify nums1 in-place instead.\n",
    "        \"\"\"\n",
    "        i = j = 0\n",
    "\n",
    "        while j < n:\n",
    "            \n",
    "            if i < len(nums1) and nums1[i] <= nums2[j]:                \n",
    "                i += 1\n",
    "            else:\n",
    "                nums1.insert(i, nums2[j])\n",
    "                j += 1\n",
    "\n",
    "\n",
    "class Solution(object):\n",
    "    def merge(self, nums1, m, nums2, n):\n",
    "        \"\"\"\n",
    "        :type nums1: List[int]\n",
    "        :type m: int\n",
    "        :type nums2: List[int]\n",
    "        :type n: int\n",
    "        :rtype: None Do not return anything, modify nums1 in-place instead.\n",
    "        \"\"\"\n",
    "        for i in range(m+n):\n",
    "            if i < n:\n",
    "                nums1[m+i] = nums2[i]\n",
    "        nums1.sort()\n",
    "\n",
    "\n",
    "nums1 = [1, 2, 3, 0, 0, 0]\n",
    "Solution().merge(nums1, 3, [2, 5, 6], 3)\n",
    "print(nums1)\n",
    "\n",
    "nums1 = [0, 0, 0]\n",
    "Solution().merge(nums1, 0, [2, 5, 6], 3)\n",
    "print(nums1)\n",
    "\n",
    "nums1 = [1, 2, 3]\n",
    "Solution().merge(nums1, 3, [], 0)\n",
    "print(nums1)\n",
    "\n",
    "nums1 = []\n",
    "Solution().merge(nums1, 0, [], 0)\n",
    "print(nums1)"
   ]
  },
  {
   "cell_type": "code",
   "execution_count": 23,
   "metadata": {},
   "outputs": [
    {
     "name": "stdout",
     "output_type": "stream",
     "text": "[1, 2]\n"
    }
   ],
   "source": [
    "def foo(a):\n",
    "    a = a[1:]\n",
    "\n",
    "b = [1, 2]\n",
    "foo(b)\n",
    "\n",
    "print(b)"
   ]
  },
  {
   "cell_type": "markdown",
   "metadata": {},
   "source": [
    "给定一个整数数组，判断是否存在重复元素。\n",
    "\n",
    "如果任何值在数组中出现至少两次，函数返回 true。如果数组中每个元素都不相同，则返回 false。\n",
    "\n",
    "https://leetcode-cn.com/problems/contains-duplicate/"
   ]
  },
  {
   "cell_type": "code",
   "execution_count": 41,
   "metadata": {},
   "outputs": [
    {
     "name": "stdout",
     "output_type": "stream",
     "text": "True\nFalse\nTrue\nFalse\nTrue\n"
    }
   ],
   "source": [
    "class Solution(object):\n",
    "    def containsDuplicate(self, nums):\n",
    "        \"\"\"\n",
    "        :type nums: List[int]\n",
    "        :rtype: bool\n",
    "        \"\"\"\n",
    "\n",
    "        nums.sort()\n",
    "        for i in range(len(nums)-1):\n",
    "            if nums[i] == nums[i+1]:\n",
    "                return True\n",
    "        return False\n",
    "\n",
    "\n",
    "print(Solution().containsDuplicate([1,2,3,1]))\n",
    "print(Solution().containsDuplicate([1,2,3,4]))\n",
    "print(Solution().containsDuplicate([1,1,1,3,3,4,3,2,4,2]))\n",
    "print(Solution().containsDuplicate([]))\n",
    "print(Solution().containsDuplicate([1, 1]))\n"
   ]
  },
  {
   "cell_type": "markdown",
   "metadata": {},
   "source": [
    "编写一个函数，其作用是将输入的字符串反转过来。输入字符串以字符数组 char[] 的形式给出。\n",
    "\n",
    "不要给另外的数组分配额外的空间，你必须原地修改输入数组、使用 O(1) 的额外空间解决这一问题。\n",
    "\n",
    "你可以假设数组中的所有字符都是 ASCII 码表中的可打印字符。\n",
    "\n",
    "链接：https://leetcode-cn.com/problems/reverse-string"
   ]
  },
  {
   "cell_type": "code",
   "execution_count": 54,
   "metadata": {},
   "outputs": [
    {
     "name": "stdout",
     "output_type": "stream",
     "text": "['o', 'l', 'l', 'e', 'h']\n['h', 'a', 'n', 'n', 'a', 'H']\n['H']\n[]\n['h', 'H']\n"
    }
   ],
   "source": [
    "class Solution(object):\n",
    "    def reverseString(self, s):\n",
    "        \"\"\"\n",
    "        :type s: List[str]\n",
    "        :rtype: None Do not return anything, modify s in-place instead.\n",
    "        \"\"\"\n",
    "\n",
    "        mid = len(s) // 2\n",
    "        for i in range(mid):\n",
    "            s[i], s[-i-1] = s[-i-1], s[i]\n",
    "\n",
    "s = [\"h\",\"e\",\"l\",\"l\",\"o\"]\n",
    "Solution().reverseString(s)\n",
    "print(s)\n",
    "\n",
    "s = [\"H\",\"a\",\"n\",\"n\",\"a\",\"h\"]\n",
    "Solution().reverseString(s)\n",
    "print(s)\n",
    "\n",
    "s = [\"H\"]\n",
    "Solution().reverseString(s)\n",
    "print(s)\n",
    "\n",
    "s = []\n",
    "Solution().reverseString(s)\n",
    "print(s)\n",
    "\n",
    "s = [\"H\", 'h']\n",
    "Solution().reverseString(s)\n",
    "print(s)"
   ]
  },
  {
   "cell_type": "code",
   "execution_count": 53,
   "metadata": {},
   "outputs": [
    {
     "data": {
      "text/plain": "2"
     },
     "execution_count": 53,
     "metadata": {},
     "output_type": "execute_result"
    }
   ],
   "source": [
    "4 // 2"
   ]
  },
  {
   "cell_type": "markdown",
   "metadata": {},
   "source": [
    "请编写一个函数，使其可以删除某个链表中给定的（非末尾）节点，你将只被给定要求被删除的节点。\n",
    "\n",
    "现有一个链表 -- head = [4,5,1,9]，它可以表示为:\n",
    "\n",
    "链接：https://leetcode-cn.com/problems/delete-node-in-a-linked-list"
   ]
  },
  {
   "cell_type": "code",
   "execution_count": 60,
   "metadata": {},
   "outputs": [
    {
     "name": "stdout",
     "output_type": "stream",
     "text": "4 5 \n5 \n"
    }
   ],
   "source": [
    "# Definition for singly-linked list.\n",
    "class ListNode(object):\n",
    "    def __init__(self, x):\n",
    "        self.val = x\n",
    "        self.next = None\n",
    "\n",
    "    def __str__(self):\n",
    "        return '%s' % self.val\n",
    "\n",
    "\n",
    "class Solution(object):\n",
    "    def deleteNode(self, node):\n",
    "        \"\"\"\n",
    "        :type node: ListNode\n",
    "        :rtype: void Do not return anything, modify node in-place instead.\n",
    "        \"\"\"\n",
    "        while node.next:\n",
    "            node.val = node.next.val\n",
    "            if node.next.next:\n",
    "                node = node.next\n",
    "            else: \n",
    "                node.next = None\n",
    "\n",
    "\n",
    "def print_link(node):\n",
    "    while node:\n",
    "        print(node, end=' ')\n",
    "        node = node.next\n",
    "    print()\n",
    "\n",
    "a = ListNode(4)\n",
    "b = ListNode(5)\n",
    "c = ListNode(1)\n",
    "d = ListNode(9)\n",
    "\n",
    "a.next = b\n",
    "#b.next = c\n",
    "#c.next = d\n",
    "\n",
    "print_link(a)\n",
    "Solution().deleteNode(a)\n",
    "print_link(a)"
   ]
  },
  {
   "cell_type": "markdown",
   "metadata": {},
   "source": [
    "给定一个大小为 n 的数组，找到其中的多数元素。多数元素是指在数组中出现次数大于 ⌊ n/2 ⌋ 的元素。\n",
    "\n",
    "你可以假设数组是非空的，并且给定的数组总是存在多数元素。\n",
    "\n",
    "链接：https://leetcode-cn.com/problems/majority-element"
   ]
  },
  {
   "cell_type": "code",
   "execution_count": 72,
   "metadata": {},
   "outputs": [
    {
     "name": "stdout",
     "output_type": "stream",
     "text": "3\n2\n1\n"
    }
   ],
   "source": [
    "class Solution(object):\n",
    "\n",
    "    def majorityElement(self, nums):\n",
    "        \"\"\"\n",
    "        :type nums: List[int]\n",
    "        :rtype: int\n",
    "        \"\"\"\n",
    "        length = len(nums)\n",
    "        if length == 1:\n",
    "            return nums[0]\n",
    "            \n",
    "        nums.sort()\n",
    "        count = 1\n",
    "\n",
    "        for i in range(1, length):\n",
    "            if nums[i] == nums[i-1]:\n",
    "                count += 1\n",
    "            if count > length/2:\n",
    "                return nums[i]\n",
    "            if nums[i] != nums[i-1]:\n",
    "                count = 1\n",
    "\n",
    "print(Solution().majorityElement([3,2,3]))\n",
    "print(Solution().majorityElement([2,2,1,1,1,2,2]))\n",
    "print(Solution().majorityElement([1]))"
   ]
  },
  {
   "cell_type": "code",
   "execution_count": 64,
   "metadata": {},
   "outputs": [
    {
     "data": {
      "text/plain": "1.5"
     },
     "execution_count": 64,
     "metadata": {},
     "output_type": "execute_result"
    }
   ],
   "source": [
    "3/2"
   ]
  },
  {
   "cell_type": "markdown",
   "metadata": {},
   "source": [
    "给定一个字符串，你需要反转字符串中每个单词的字符顺序，同时仍保留空格和单词的初始顺序。\n",
    "\n",
    "https://leetcode-cn.com/problems/reverse-words-in-a-string-iii/"
   ]
  },
  {
   "cell_type": "code",
   "execution_count": 77,
   "metadata": {},
   "outputs": [
    {
     "name": "stdout",
     "output_type": "stream",
     "text": "s'teL ekat edoCteeL tsetnoc\n"
    }
   ],
   "source": [
    "class Solution(object):\n",
    "    def reverseWords(self, s):\n",
    "        \"\"\"\n",
    "        :type s: str\n",
    "        :rtype: str\n",
    "        \"\"\"\n",
    "\n",
    "        return ' '.join(''.join(reversed(i)) for i in s.split(' '))\n",
    "\n",
    "\n",
    "print(Solution().reverseWords(\"Let's take LeetCode contest\"))"
   ]
  },
  {
   "cell_type": "code",
   "execution_count": 75,
   "metadata": {},
   "outputs": [
    {
     "data": {
      "text/plain": "'cba'"
     },
     "execution_count": 75,
     "metadata": {},
     "output_type": "execute_result"
    }
   ],
   "source": [
    "''.join(reversed(\"abc\"))"
   ]
  },
  {
   "cell_type": "markdown",
   "metadata": {},
   "source": [
    "在未排序的数组中找到第 k 个最大的元素。请注意，你需要找的是数组排序后的第 k 个最大的元素，而不是第 k 个不同的元素。\n",
    "\n",
    "https://leetcode-cn.com/problems/kth-largest-element-in-an-array/"
   ]
  },
  {
   "cell_type": "code",
   "execution_count": 6,
   "metadata": {},
   "outputs": [
    {
     "name": "stdout",
     "output_type": "stream",
     "text": "4\n"
    }
   ],
   "source": [
    "class Solution:\n",
    "    def findKthLargest(self, nums, k):\n",
    "        nums.sort()\n",
    "        return nums[-k]\n",
    "\n",
    "print(Solution().findKthLargest([3,2,3,1,2,4,5,5,6], 4))"
   ]
  },
  {
   "cell_type": "code",
   "execution_count": 4,
   "metadata": {},
   "outputs": [
    {
     "name": "stdout",
     "output_type": "stream",
     "text": "[1, 2, 2, 3, 3, 4, 5, 5, 6]\n"
    }
   ],
   "source": [
    "foo =  [3,2,3,1,2,4,5,5,6]\n",
    "foo.sort()\n",
    "print(foo)"
   ]
  },
  {
   "cell_type": "markdown",
   "metadata": {},
   "source": [
    "给定一组不含重复元素的整数数组 nums，返回该数组所有可能的子集（幂集）。\n",
    "\n",
    "说明：解集不能包含重复的子集。\n",
    "\n",
    "https://leetcode-cn.com/problems/subsets/"
   ]
  },
  {
   "cell_type": "code",
   "execution_count": 12,
   "metadata": {},
   "outputs": [
    {
     "name": "stdout",
     "output_type": "stream",
     "text": "[[], [1], [2], [1, 2], [3], [1, 3], [2, 3], [1, 2, 3]]\n[[]]\n[[], [1]]\n"
    }
   ],
   "source": [
    "class Solution(object):\n",
    "    def subsets(self, nums):\n",
    "        \"\"\"\n",
    "        :type nums: List[int]\n",
    "        :rtype: List[List[int]]\n",
    "        \"\"\"\n",
    "        length = len(nums)\n",
    "        max_num = 1 << length\n",
    "        result = []\n",
    "        for num in range(0, max_num):\n",
    "            child = []\n",
    "            for idx in range(length):\n",
    "                if ((1 << idx) & num):\n",
    "                    child.append(nums[idx])\n",
    "            result.append(child)\n",
    "        return result\n",
    "\n",
    "print(Solution().subsets([1, 2, 3]))\n",
    "print(Solution().subsets([]))\n",
    "print(Solution().subsets([1]))\n"
   ]
  },
  {
   "cell_type": "code",
   "execution_count": 9,
   "metadata": {},
   "outputs": [
    {
     "data": {
      "text/plain": "'111'"
     },
     "execution_count": 9,
     "metadata": {},
     "output_type": "execute_result"
    }
   ],
   "source": [
    "'{0:b}'.format(7)"
   ]
  },
  {
   "cell_type": "code",
   "execution_count": null,
   "metadata": {},
   "outputs": [],
   "source": []
  }
 ]
}